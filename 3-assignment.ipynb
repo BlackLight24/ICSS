{
 "cells": [
  {
   "cell_type": "markdown",
   "metadata": {},
   "source": [
    "# Python Block Course\n",
    "# Assignment 3: Object-oriented programming"
   ]
  },
  {
   "cell_type": "markdown",
   "metadata": {},
   "source": [
    "Marc Luettecke, Anna Bahss\n",
    "\n",
    "Winter Term 2020 / 2021\n",
    "\n",
    "In this third assignment we will practice the principles of OOP (object oriented programming) in Python. It allows you to use logical building blocks for your code, which is especially important for more extensive software projects. You can score up to 3 points in this assignment. Please submit your solutions by sending it to **marc.luettecke@subsequent.ai** or **anna.bahss@uni-konstanz.de** (ideally both). Please include \"**Python Blockkurs 2020 Assignment 3**\" in the subject line of the email. The deadline for submission is on **Thursday, October 29, 09:59**, everything submitted after will automatically receive a grade of 0/3.\n",
    "\n",
    "**Notice: There's nothing new under the sun. Some of these problems are inspired by problems already existing out there. We can't avoid you copying code off the web, but know that 1. it is surprisingly easy to spot, if somebody uses techniques not introduced or referenced in the assignments yet, 2. you are missing out on actually understanding how to solve the problems with the tools (or at least hints) provided. Do yourself a favor and don't plagiarize.**"
   ]
  },
  {
   "cell_type": "markdown",
   "metadata": {},
   "source": [
    "## 1.1 Build your first class\n",
    "Classes are an exciting way to structure your code. They allow for logical unit separation of software modules, better following the DRY principle (don't repeat yourself) and forces you to lay out your code before you start typing, which often results in more concise data and programming structures. Let's get started by buildig our first class of a University Employee."
   ]
  },
  {
   "cell_type": "markdown",
   "metadata": {},
   "source": [
    "<div class=\"alert alert-block alert-info\">\n",
    "<b>Exercise (1 Points)</b>: Work through the documented steps below and solve the assignment. Be careful for hints and specific instructions.\n",
    "</div>"
   ]
  },
  {
   "cell_type": "markdown",
   "metadata": {},
   "source": [
    "Define the class 'UniversityEmployee' (remember the camel case naming convention for classes). Build it's constructor with a basic feature of *name*, which you assign to itself as an instance property.\n",
    "\n"
   ]
  },
  {
   "cell_type": "code",
   "execution_count": 45,
   "metadata": {},
   "outputs": [],
   "source": [
    "# define the class 'UniversityEmployee' \n",
    "class UniversityEmployee:\n",
    "    def __init__(self, name):\n",
    "        self.name = name\n"
   ]
  },
  {
   "cell_type": "code",
   "execution_count": 46,
   "metadata": {},
   "outputs": [
    {
     "output_type": "stream",
     "name": "stdout",
     "text": [
      "Indigo\n"
     ]
    }
   ],
   "source": [
    "# call an instance of UniversityEmployee\n",
    "# set it to 'example_instance' and print its name\n",
    "example_instance = UniversityEmployee('Indigo')\n",
    "print(example_instance.name)\n"
   ]
  },
  {
   "cell_type": "markdown",
   "metadata": {},
   "source": [
    "That seems more work than help so far. Let's give the UniversityEmployee class some more functionality by writing two methods (remember the difference between methods and functions?) for the class."
   ]
  },
  {
   "cell_type": "markdown",
   "metadata": {},
   "source": [
    "Please redefine the class (we cannot append new methods to a class without creating a new class, so let's just copy above's code and overwrite what we have so far) and introduce two methods:\n",
    "*New constructor variables*\n",
    "- is_hungry: boolean set to 'True'\n",
    "- sleeping_hours: integer set to 7\n",
    "\n",
    "**Method 1:** \n",
    "eat_at_mensa(), with one parameter *food_is_good*: a boolean that indicates if the food is any good that day. If the food was good, output 'Nice, I love these Maultaschen!', if not output 'Just another day...', either way, set 'is_hungry' to False.)\n",
    "\n",
    "**Method 2:** \n",
    "take_nap(), with one parameter *hours*: with a default value of 1. This method increases the 'sleeping_hours' value by the amount of 'hours' entered.\n",
    "\n",
    "\n"
   ]
  },
  {
   "source": [
    "I remember that Python actually support adding new class methods dynamically."
   ],
   "cell_type": "markdown",
   "metadata": {}
  },
  {
   "cell_type": "code",
   "execution_count": 47,
   "metadata": {},
   "outputs": [],
   "source": [
    "# redefine the class \n",
    "class UniversityEmployee:\n",
    "    def __init__(self, name, is_hungry=True, sleeping_hours=7):\n",
    "        self.name = name\n",
    "        self.is_hungry = is_hungry\n",
    "        self.sleeping_hours = sleeping_hours\n",
    "# Method 1: \n",
    "    def eat_at_mensa(self, food_is_good:bool):\n",
    "        self.is_hungry = False\n",
    "        if food_is_good:\n",
    "            print('Nice, I love these Maultaschen!')\n",
    "        else:\n",
    "            print('Just another day...')\n",
    "# Method 2: \n",
    "def take_nap(self, hours=1):\n",
    "    self.sleeping_hours += hours\n",
    "UniversityEmployee.take_nap = take_nap\n",
    "# sta1 = UniversityEmployee('test')"
   ]
  },
  {
   "cell_type": "markdown",
   "metadata": {},
   "source": [
    "1. Create an instance with a name of Karen and let her eat at the mensa and take one one-hour and one two-hour nap. \n",
    "\n",
    "\n",
    "2. If the instance.property 'is_hungry' is False and if the instance.property 'sleeping_hours' is more than 8, \n",
    "Print the sentence:   \n",
    "` \"[instance name] is not hungry and slept for [how many hours did the Employee sleep] hours. She does not want to call the manager\"` \n",
    "\n",
    " If Karen is hungry, or she did not sleep enough (less than 8 hours), print: \n",
    "`\"[instance name] is grumpy, because she is either hungry or because she only slept for [how many hours did the Employee sleep] hours. She wants to call the manager.\" `  \n",
    "\n",
    "You can accomplish this with f-strings (since Python 3.6), a cool way to insert variable values directly into your strings. Look them up!`\n",
    "\n",
    "\n"
   ]
  },
  {
   "cell_type": "code",
   "execution_count": 48,
   "metadata": {},
   "outputs": [
    {
     "output_type": "stream",
     "name": "stdout",
     "text": [
      "Nice, I love these Maultaschen!\nKaren is not hungry and slept for 10 hours. She does not want to call the manager\n"
     ]
    }
   ],
   "source": [
    "# 1.\n",
    "Karen = UniversityEmployee('Karen')\n",
    "Karen.eat_at_mensa('True')\n",
    "Karen.take_nap(1)\n",
    "Karen.take_nap(2)\n",
    "\n",
    "# 2.\n",
    "if not (Karen.is_hungry) and Karen.sleeping_hours > 8:\n",
    "    print(Karen.name+' is not hungry and slept for '+ str(Karen.sleeping_hours)+ ' hours. She does not want to call the manager')\n",
    "else:\n",
    "    print(Karen.name + \" is grumpy, because she is either hungry or because she only slept for \"+ Karen.sleeping_hours+\" hours. She wants to call the manager.\")"
   ]
  },
  {
   "cell_type": "markdown",
   "metadata": {},
   "source": [
    "## 1.2 Inheritance for classes\n",
    "Inheritance is a poweful tool to reuse your code and map 'is-a' relationships in Python. Just remember, if you are defining classes and one of them is a subclass of another, inheritance might save you a lot of work to redefine the characteristics the parent class already possesses. Let's define a Professor and Student subclass of University Employee."
   ]
  },
  {
   "cell_type": "markdown",
   "metadata": {},
   "source": [
    "<div class=\"alert alert-block alert-info\">\n",
    "<b>Exercise (2 Points)</b>: Work through the documented steps below and solve the assignment. Be careful for hints and specific instructions.\n",
    "</div>"
   ]
  },
  {
   "cell_type": "markdown",
   "metadata": {},
   "source": [
    "Define *Student* and *Professor* and let them inherit the methods you had defined for the *UniversityEmployee* class. For now, just leave constructor and the whole class body empty (just write 'pass' as a placeholder) to verify that student and professor both behave like their parent class *UniversityEmployee*."
   ]
  },
  {
   "cell_type": "code",
   "execution_count": 49,
   "metadata": {},
   "outputs": [],
   "source": [
    "class Professor(UniversityEmployee):\n",
    "    pass\n",
    "class Student(UniversityEmployee):\n",
    "    pass"
   ]
  },
  {
   "cell_type": "markdown",
   "metadata": {},
   "source": [
    "Create an instance with names of your choice of *Student* and *Professor* and let them both eat at the Mensa to see that the inheritance works properly\n",
    "\n"
   ]
  },
  {
   "cell_type": "code",
   "execution_count": 50,
   "metadata": {},
   "outputs": [
    {
     "output_type": "stream",
     "name": "stdout",
     "text": [
      "Nice, I love these Maultaschen!\n"
     ]
    }
   ],
   "source": [
    "White = Student('White')\n",
    "White.eat_at_mensa('True')"
   ]
  },
  {
   "cell_type": "markdown",
   "metadata": {},
   "source": [
    "Let us take it a step further and add subclass specific methods to our new classes (once again we will overwrite the set up from the Student and Professor class by just copy/pasting it from above)."
   ]
  },
  {
   "cell_type": "markdown",
   "metadata": {},
   "source": [
    "**Instructions for Student class:**\n",
    "\n",
    "1. set constructor to inherit parent properties\n",
    "2. in the constructor include new parameter 'currently_enrolled_in' (will be of type *list*)\n",
    "3. in the constructor include new parameter 'grades' (will be of type *dictionary*)\n",
    "4. include a method called 'enroll_in_class' with one parameter 'class_name' of type *string*. Let the method add the class to the list of currently enrolled classes for the student\n",
    "5. include a method 'update_grades', which loops through the currently enrolled classes and prompts a pop-up (see Hint 1) to enter a grade for each class (class is key, grade is value) the student is currently enrolled in that is not already in the 'grades' dictionary. Let the pop-up ask a meaningful question (maybe f-strings become helpful again?) to enter the grade and make sure it is saved to the dictionary as type 'float' (see float())\n",
    "\n",
    "**Hint 1:** see the input() function to let the user input data that the Python script then uses. Important, if Jupyter does not show the input prompt again after re-running a cell, restart the kernel (top Kernel -> Restart Kernel and run the cells again)   \n",
    "**Hint 2:** to find all keys of a dictionary, research the 'key' property of a dictionary, think why this might be important...   \n",
    "**Hint 3:** the keyword 'class' is reserved in Python. Do not use it to name any of your variables. While meaningful naming is important, find an alternative, such as 'course', or 'elective', etc.\n",
    "\n"
   ]
  },
  {
   "cell_type": "code",
   "execution_count": 51,
   "metadata": {},
   "outputs": [
    {
     "output_type": "stream",
     "name": "stdout",
     "text": [
      "{'English': '3.3', 'Chinese': '3.4'}\n"
     ]
    }
   ],
   "source": [
    "class Student(UniversityEmployee):\n",
    "# 1.\n",
    "    def __init__(self, name, currently_enrolled_in:list, grades:dict, is_hungry=True, sleeping_hours=7):\n",
    "        UniversityEmployee.__init__(self, name, is_hungry, sleeping_hours)\n",
    "# 2.\n",
    "        self.currently_enrolled_in = currently_enrolled_in\n",
    "# 3.\n",
    "        self.grades = grades\n",
    "        # print(self.sleeping_hours)\n",
    "# 4.\n",
    "    def enroll_in_class(self, class_name:str):\n",
    "        self.currently_enrolled_in.append(class_name)\n",
    "        self.grades[class_name] = -1\n",
    "# 5.\n",
    "    def update_grades(self):\n",
    "        for course in self.currently_enrolled_in:\n",
    "            grade = input('Please type in the grade of course - '+course)\n",
    "            self.grades[course] = grade\n",
    "        print(self.grades)\n",
    "    def update_grade(self, g_points:list):\n",
    "        i = 0\n",
    "        for course in self.currently_enrolled_in:\n",
    "            self.grades[course] = g_points[i]\n",
    "            i+=1\n",
    "s = Student('David', currently_enrolled_in=[], grades={})\n",
    "s.enroll_in_class('English')\n",
    "s.enroll_in_class('Chinese')\n",
    "s.update_grades()"
   ]
  },
  {
   "cell_type": "markdown",
   "metadata": {},
   "source": [
    "**Use the Student class**\n",
    "\n",
    "1. Create an instance of the Student class, name the student and the instance as you wish, set the courses to an empty list, the grades to an empty dictionary\n",
    "\n",
    "2. Let us first verify that the inheritance worked and print the 'sleeping_hours' property (which we did not specifically define for Student)\n",
    "\n",
    "\n",
    "3. Enroll the students in 'Python seminar' and 'ICSS'\n",
    "\n",
    "\n",
    "4. Give your student a grade of '1.0' for the Python seminar and '1.7' for ICSS\n",
    "\n",
    "\n",
    "5. Verify that the grades are entered correctly (as floating point numbers) by iterating through the grades dictionary and printing it in the format (see a dictrionary's items() property to iterate through the key, value pairs):\n",
    "`Class: [classname] - Grade: [grade]`\n",
    "\n",
    "\n"
   ]
  },
  {
   "cell_type": "code",
   "execution_count": 52,
   "metadata": {},
   "outputs": [
    {
     "output_type": "stream",
     "name": "stdout",
     "text": [
      "7\n('Python seminar', 1.0)\n('ICSS', 1.7)\n"
     ]
    }
   ],
   "source": [
    "# 1.\n",
    "s = Student('David', currently_enrolled_in=[], grades={})\n",
    "# 2.\n",
    "print(s.sleeping_hours)\n",
    "# 3.\n",
    "s.enroll_in_class('Python seminar')\n",
    "s.enroll_in_class('ICSS')\n",
    "# 4.\n",
    "s.update_grade([1.0, 1.7])\n",
    "# 5.\n",
    "for i in s.grades.items():\n",
    "    print(i)\n",
    "\n"
   ]
  },
  {
   "cell_type": "markdown",
   "metadata": {},
   "source": [
    "**Instructions for Professor class:**\n",
    "\n",
    "1. set constructor to inherit parent properties\n",
    "2. in the constructor include new parameter 'classes' (will be of type dictionary)\n",
    "3. in the constructor include new parameter 'amount_of_students' (will be of type integer)\n",
    "4. include a method called 'add_class' with two parameters 'class_name' of type string and 'students' of type List(strings) - a list of the name of the students. Let the method add the course to the dictionary of currently teaching classes for the professor with the class name as key and the list of student names in it as the value.\n",
    "5. include a method 'update_amount_students', which loops through the classes that the professor is teaching and updates the amount of students in the class property (counts the names of students in each class). Hint: Maybe the len() function can help?\n",
    "\n",
    "\n"
   ]
  },
  {
   "cell_type": "code",
   "execution_count": 65,
   "metadata": {},
   "outputs": [],
   "source": [
    "# 1. \n",
    "class Professor(UniversityEmployee):\n",
    "\n",
    "# 2. \n",
    "    def __init__(self, name, classes:dict, amount_of_students:int =-1, is_hungry=True, sleeping_hours=7):\n",
    "        UniversityEmployee.__init__(self, name, is_hungry, sleeping_hours)\n",
    "        self.amount_of_students = amount_of_students\n",
    "        self.classes = classes\n",
    "# 3. \n",
    "        self.amount_of_students = amount_of_students\n",
    "# 4. \n",
    "    def add_class(self, class_name:str, student:list):\n",
    "        self.classes[class_name] = student\n",
    "        self.update_amount_students()\n",
    "\n",
    "# 5.\n",
    "    def update_amount_students(self):\n",
    "        sum = 0\n",
    "        for i in self.classes.values():\n",
    "            sum += len(i)\n",
    "        self.amount_of_students = sum"
   ]
  },
  {
   "cell_type": "markdown",
   "metadata": {},
   "source": [
    "**Use the Professor class**\n",
    "\n",
    "1. Create an instance of the Professor class, name the professor and the instance as you wish, set the classes variable to an empty dictionary and the amount_of_students variable to 0\n",
    "\n",
    "\n",
    "2. Let us first verify that the inheritance worked and run the 'eat_at_mensa' method with a 'food_is_good' parameter value of your choice\n",
    "\n",
    "\n",
    "3. Add the classes 'AnaVis' with 3 students (names of your choice) and 'PK1' with 2 students (names of your choice) to the classes taught\n",
    "\n",
    "\n",
    "4. Update the amount of students that the professor is teaching after adding the two classes\n",
    "\n",
    "\n",
    "5. Verify the expected result of 5 students when you print out the updated class property\n",
    "\n"
   ]
  },
  {
   "cell_type": "code",
   "execution_count": 66,
   "metadata": {},
   "outputs": [
    {
     "output_type": "stream",
     "name": "stdout",
     "text": [
      "Just another day...\n5\n"
     ]
    }
   ],
   "source": [
    "# 1.\n",
    "Andy = Professor('Andy', {}, 0,)\n",
    "# 2.\n",
    "Andy.eat_at_mensa(False)\n",
    "# 3.\n",
    "Andy.add_class('AnaVis', ['A', 'B', 'C'])\n",
    "Andy.add_class('PK1', ['D', 'E'])\n",
    "# 4.\n",
    "Andy.update_amount_students()\n",
    "# 5.\n",
    "print(Andy.amount_of_students)"
   ]
  },
  {
   "cell_type": "markdown",
   "metadata": {},
   "source": [
    "Last but not least, we will create the class of TeachingAssistant who shares similarities with a Student and with a Professor and will therefore inherit from both parent classes."
   ]
  },
  {
   "cell_type": "code",
   "execution_count": null,
   "metadata": {},
   "outputs": [],
   "source": [
    "# create the TeachingAssistant class, multiple inheritance is well explained in the following videos, but should feel very intuitive due to its simple syntax: \n",
    "# https://www.youtube.com/watch?v=YCEVvs5BhpY \n",
    "# https://www.youtube.com/watch?v=uYu4hCjYDhY (do not get too confused about the super() keyword, I think the last 1 minute is the most useful of the video)"
   ]
  },
  {
   "cell_type": "markdown",
   "metadata": {},
   "source": [
    "**Instructions for TeachingAssistant class:**\n",
    "\n",
    "1. set constructor to inherit parent properties from both classes (define other classes in __init__, remember that you will need to pass all parameters required by all the parent classes when you create the child class plus any new properties that are specific to the TeachingAssistant class)   \n",
    "\n",
    "\n",
    "2. in the constructor include new parameter 'hourly_rate' (will be of type float)\n",
    "\n",
    "\n",
    "3. in the constructor include new parameter 'academic_grade' (will be of type string) - include an if-statement in the constructor that checks if the academic grade parameter is one of the following: 'undergraduate', 'graduate', 'doctorate', or 'post-doc'  No other values are allowed. \n",
    "Hint: The `if x in []` syntax might be helpful here. If it is invalid, print an appropriate response and set the value to 'None'.\n",
    "\n",
    "\n",
    "4. include a method that changes your academic grade ('change academic_grade') to either 'undergraduate', 'graduate', 'doctorate', or 'post-doc'. Make sure to check for the validity of the input just like in the constructor.\n",
    "\n",
    "\n",
    "5. include a method that sets your hourly_rate (set_hourly_rate) according to the academic_grade:\n",
    "    - 12 for undergraduate, 15 for graduate, 18 for doctorate and 21 for doctorate. Use a dictionary to set the value. Account for the case that the academic grade can be None (for which the 'hourly_rate' is 0)\n",
    "\n",
    "\n",
    "6. include a method that verifies that you do not have a grade for a class you are teaching (check_classes) (we assume here that everything happens simultaneously and you could have not taken the class before then becoming the TA for it afterwards.) \n",
    "\n",
    "Check the classes' inherited grades and classes properties for this purpose. If there is a conflict of interest, print a meaningful message - maybe f-strings might be useful again to illustrate which courses create the conflict?\n",
    "\n",
    "**Hint 1:** maybe transforming the list of classes, i.e. the keys of the classes dictionary and grades, i.e. the keys of the grades dictionary, to sets (a list with just unique values and a bunch of helpful methods to compare sets) might help to find out where they intersect? https://www.w3schools.com/python/ref_set_intersection.asp \n",
    "\n",
    "\n"
   ]
  },
  {
   "cell_type": "code",
   "execution_count": 79,
   "metadata": {},
   "outputs": [],
   "source": [
    "# 1.\n",
    "class TeachingAssistant(Student, Professor):\n",
    "    def __init__(self, name, currently_enrolled_in:list, grades:dict, classes:dict, hourly_rate:float, academic_grade:str, amount_of_students:int =-1, is_hungry=True, sleeping_hours=7):\n",
    "        Student.__init__(self, name, currently_enrolled_in, grades, is_hungry, sleeping_hours)\n",
    "        Professor.__init__(self, name, classes, amount_of_students, is_hungry, sleeping_hours)\n",
    "# 2.\n",
    "        self.hourly_rate = hourly_rate\n",
    "# 3.\n",
    "        if academic_grade in ['undergraduate', 'graduate', 'doctorate', 'post-doc']:\n",
    "            self.academic_grade = academic_grade\n",
    "        else:\n",
    "            self.academic_grade = None\n",
    "# 4.\n",
    "    def change_academic_grade(self, grade):\n",
    "        if grade in ['undergraduate', 'graduate', 'doctorate', 'post-doc']:\n",
    "            self.academic_grade = grade\n",
    "# 5.\n",
    "    def set_hourly_rate(self):\n",
    "        refer = {'undergraduate':12, 'graduate':15, 'doctorate':21}\n",
    "        if self.academic_grade != None:\n",
    "            self.hourly_rate = refer[self.academic_grade]\n",
    "# 6.\n",
    "    def check_classes(self,):\n",
    "        intercept = set(self.grades.keys()) & set(self.classes.keys())\n",
    "        if intercept != set():\n",
    "            print('Oops, you are teaching a class in which you are also a student')"
   ]
  },
  {
   "cell_type": "markdown",
   "metadata": {},
   "source": [
    "**Use the TeachingAssistant class**   \n",
    "Create an instance for a Teaching Assistant with the following properties:\n",
    "- name: of your choice\n",
    "- currently_enrolled_in: 'python seminar', 'ICSS'\n",
    "- grades: empty dictionary\n",
    "- classes: dictionary with key 'ICSS' and 2 student names of your choice\n",
    "- amount_of_students: 0\n",
    "- hourly_rate: 0\n",
    "- academic_grade: bachelor"
   ]
  },
  {
   "cell_type": "code",
   "execution_count": 80,
   "metadata": {},
   "outputs": [
    {
     "output_type": "stream",
     "name": "stdout",
     "text": [
      "{'python seminar': '2.2', 'ICSS': '2.1'}\noops\n"
     ]
    }
   ],
   "source": [
    "Smart = TeachingAssistant('Smart', ['python seminar', 'ICSS'], {}, {'ICSS':['A', 'B']}, 0, 'bachelor', 0,)\n",
    "\n",
    "# Oops, you entered an invalid academic grade, correct it with the 'change_academic_grade' method to 'graduate'\n",
    "Smart.change_academic_grade('graduate')\n",
    "# print(Smart.academic_grade)\n",
    "\n",
    "# recalculate the hourly rate with the 'set_hourly_rate' method\n",
    "Smart.set_hourly_rate()\n",
    "\n",
    "# update the grades with the 'update_grades()' function and enter once again a 1.0 for python seminar and a 1.7 for ICSS\n",
    "\n",
    "Smart.update_grades()\n",
    "# double check if the instance is teaching a class (yes, you are) in which you are also a student via the 'check_classes' method\n",
    "Smart.check_classes()"
   ]
  },
  {
   "cell_type": "code",
   "execution_count": null,
   "metadata": {},
   "outputs": [],
   "source": []
  }
 ],
 "metadata": {
  "kernelspec": {
   "display_name": "Python 3",
   "language": "python",
   "name": "python3"
  },
  "language_info": {
   "codemirror_mode": {
    "name": "ipython",
    "version": 3
   },
   "file_extension": ".py",
   "mimetype": "text/x-python",
   "name": "python",
   "nbconvert_exporter": "python",
   "pygments_lexer": "ipython3",
   "version": "3.7.0-final"
  }
 },
 "nbformat": 4,
 "nbformat_minor": 4
}