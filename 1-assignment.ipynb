{
 "cells": [
  {
   "cell_type": "markdown",
   "metadata": {},
   "source": [
    "# Python Block Course\n",
    "# Assignment 1: Python basics (primitive data types and lists)"
   ]
  },
  {
   "cell_type": "markdown",
   "metadata": {},
   "source": [
    "Marc Luettecke, Anna Bahss\n",
    "\n",
    "Winter Term 2020 / 2021\n",
    "\n",
    "In this first assignment we will practice how to use Jupyter Notebooks and how to execute Python code. You can score up to 3 points in this assignment. Please submit your solutions by sending it to **marc.luettecke@subsequent.ai** or **anna.bahss@uni-konstanz.de** (ideally both). Please include \"**Python Blockkurs 2020 Assignment 1**\" in the subject line of the email. The deadline for submission is on **Tuesday, October 27, 09:59**, everything submitted after will automatically receive a grade of 0/3.\n",
    "\n",
    "**Notice: There's nothing new under the sun. Some of these problems are inspired by problems already existing out there. We can't avoid you copying code off the web, but know that 1. it is surprisingly easy to spot, if somebody uses techniques not introduced or referenced in the assignments yet, 2. you are missing out on actually understanding how to solve the problems with the tools (or at least hints) provided. Do yourself a favor and don't plagiarize.**"
   ]
  },
  {
   "cell_type": "markdown",
   "metadata": {},
   "source": [
    "## 1.1 Working with lists\n",
    "Lists are one of the most prominent data structures in programming in general. In this exercise, we will use basic operations to slice entries of a list and subset a list according to a logical condition. You will encounter some basic functionality, which DataCamp has not covered, but the Python documentation or Stackoverflow allow for comprehensive introductions to most programming problems (programming is maybe 30% *knowing* and 70% *knowing where to find*). Let's get started!"
   ]
  },
  {
   "cell_type": "markdown",
   "metadata": {},
   "source": [
    "<div class=\"alert alert-block alert-info\">\n",
    "<b>Exercise (1.5 Points)</b>: Work through the documented steps below and solve the assignment. Be careful for hints and specific instructions.\n",
    "</div>"
   ]
  },
  {
   "cell_type": "code",
   "execution_count": 1,
   "metadata": {},
   "outputs": [],
   "source": [
    "# define the list to work with for the odd integers from 1-99 (including 99 - careful!), use the range() function for that and call the list 'integer_list' - important: the range function does not return a list Object out of the box, but you need to convert the range-iterator to a list after callign the range function! Important: the range() function starts like all Python indices at 0 not 1 as f. ex. R.\n",
    "\n",
    "# Print the result\n"
   ]
  },
  {
   "cell_type": "markdown",
   "metadata": {},
   "source": [
    "**Aside 1:** \n",
    "\n",
    "How to research how a specific function works? You can google it, research on the official documentation sites or dive into YouTube videos. Be sure to check out the \"A helping Hand\" section in the introduction document enclosed in the first e-mail we sent you. \n",
    "\n",
    "**Either way, especially as long as you are learning, but even beyond that, do not just blindly copy code. Try to understand what it's doing, so you can re-apply it to another problem afterwards.**"
   ]
  },
  {
   "cell_type": "markdown",
   "metadata": {},
   "source": [
    "**Aside 2:**\n",
    "\n",
    "**For-loop:**\n",
    "\n",
    "A common mechanism in programming to iterator over a bunch of entries (here, our list entries). We will dive deeper into this concept on day 2, but for now just use the syntax:\n",
    "    \n",
    "`\n",
    "for entry in list:\n",
    "    'do something with entry'\n",
    "`\n",
    "\n",
    "\n",
    "Here the 'entry' is a name that we have chosen and the 'do something' represents a code that you can do with every element (named entry) of that list.\n",
    "\n",
    "**If-statement:** \n",
    "\n",
    "You have already encountered logical statements in the DataCamp class. Now we want to use these more programmatically. If you have ever used Excel, this part is the same as the 'if-else' statements in Excel.\n",
    "\n",
    "`\n",
    "if condition:\n",
    "    'do something'\n",
    "else:\n",
    "    'do something else'\n",
    "`\n",
    "\n",
    "With these building blocks, you should be able to subset the list now, **by iterating over its elements and appending every element to a new list if it meets the condition within the quotation marks**.\n",
    "\n"
   ]
  },
  {
   "cell_type": "markdown",
   "metadata": {},
   "source": [
    "Now we will subset the list to only the elements that are (strictly) larger than 30, use a for-loop and an if statement for that"
   ]
  },
  {
   "cell_type": "code",
   "execution_count": 30,
   "metadata": {},
   "outputs": [
    {
     "output_type": "stream",
     "name": "stdout",
     "text": [
      "[40, 70, 100, 76, 39, 51, 40, 37, 65, 78, 48, 50, 66, 52, 100]\n"
     ]
    }
   ],
   "source": [
    "# build a new empty list for the entries meeting the condition, which we will populate within the loop and call it subset_integers\n",
    "\n",
    "import random\n",
    "subset_integers = []\n",
    "# define the for loop over all the entries in the list\n",
    "\n",
    "# I do not see any sample list here, does it mean that I need to create it by myself or I miss something?\n",
    "sample_integers = [random.randint(1, 100) for i in range(20)]\n",
    "for i in sample_integers:\n",
    "\n",
    "    # define the if condition and append (see the list method '.append()') the entries that meet the requirement to be larger than 30\n",
    "    if i > 30:\n",
    "        subset_integers.append(i)\n",
    "    # we do not need an else condition, because the loop automatically continues if the 'if-condition' is not met. In more specific cases you could also write \"else: continue\"\n",
    "\n",
    "    \n",
    "# print the new list\n",
    "\n",
    "print(subset_integers)"
   ]
  },
  {
   "source": [
    "Let's combine the new techniques we have learned to a more challenging example:\n",
    "\n",
    "Build a list of lists **(2D)** and call it list_2d. The first dimension is of **length 10**, the second dimension is of **increasing length of all the integers from 0 to the index of the first dimension, exclude an empty list as an entry**. So, as an example, the corresponding list of lists for length 3 would look like:\n",
    "\n",
    "`[[0],\n",
    " [0, 1],\n",
    " [0, 1, 2]]`"
   ],
   "cell_type": "markdown",
   "metadata": {}
  },
  {
   "cell_type": "code",
   "execution_count": 6,
   "metadata": {},
   "outputs": [
    {
     "output_type": "stream",
     "name": "stdout",
     "text": [
      "[[0], [0, 1], [0, 1, 2], [0, 1, 2, 3], [0, 1, 2, 3, 4], [0, 1, 2, 3, 4, 5], [0, 1, 2, 3, 4, 5, 6], [0, 1, 2, 3, 4, 5, 6, 7], [0, 1, 2, 3, 4, 5, 6, 7, 8], [0, 1, 2, 3, 4, 5, 6, 7, 8, 9]]\n10\n"
     ]
    }
   ],
   "source": [
    "#Use a for loop and the range iterator to solve the problem.\n",
    "list_2d = []\n",
    "for i in range(10):\n",
    "    temp_list = []\n",
    "    for j in range(i+1):\n",
    "        temp_list.append(j)\n",
    "    list_2d.append(temp_list)\n",
    "\n",
    "# print your list\n",
    "print(list_2d)\n",
    "\n",
    "# double check the length (=10) of the list with the len() function\n",
    "print(len(list_2d))\n"
   ]
  },
  {
   "cell_type": "markdown",
   "metadata": {},
   "source": [
    "Build a christmas tree. Print the following output to the console with the techniques you have learned so far (loop through the tree height):"
   ]
  },
  {
   "cell_type": "code",
   "execution_count": 5,
   "metadata": {},
   "outputs": [],
   "source": [
    "#       *    \n",
    "#      ***   \n",
    "#     *****  \n",
    "#    ******* \n",
    "#   *********"
   ]
  },
  {
   "cell_type": "markdown",
   "metadata": {},
   "source": [
    "Hint:\n",
    "1. Text in python is called 'strings'. As you have learned, you can print multiple occurences of a string by 'multiplying' it, so try: print('hello' * 3)\n",
    "2. Try to find the pattern of empty spaces in the tree (' ' is an empty string) to the tree height (here 5). A lot of programming, especially efficient programming is to utilize mathematical patterns in numbers, this exercise practices this approach.\n",
    "3. Use the common '+' operator in Python to combine two strings, so to print the top row by hand, we can use:"
   ]
  },
  {
   "cell_type": "code",
   "execution_count": 22,
   "metadata": {},
   "outputs": [
    {
     "output_type": "stream",
     "name": "stdout",
     "text": [
      "#           *           \n#          ***          \n#         *****         \n#        *******        \n#       *********       \n#      ***********      \n#     *************     \n#    ***************    \n#   *****************   \n#  *******************  \n"
     ]
    }
   ],
   "source": [
    "# define the tree height to a variable called 'tree_height'\n",
    "tree_height = 10\n",
    "\n",
    "# loop over the tree height to build the tree iteratively. If done right, you can change the tree_height variable to any value you want and still get a symmetric tree.\n",
    "for i in range(tree_height):\n",
    "    mul_mid = 2*(i+1)-1\n",
    "    mul_side = (2*(tree_height)+6 - 2*(i+1)-1)//2\n",
    "    print('#'+' '*mul_side+'*'*mul_mid+' '*mul_side)\n"
   ]
  },
  {
   "cell_type": "markdown",
   "metadata": {},
   "source": [
    "## 1.2 Working with numpy\n",
    "Numpy is one of the  most important tools in a data scientist's toolbox with Python. It introduces a new data structure, the numpy array, which behaves a lot like a list, but allows for vectorized (read here: much faster) operations and a bunch of methods right out the box. Anaconda comes with numpy pre-installed, for plain Python environments, you might have to install it by hand."
   ]
  },
  {
   "cell_type": "markdown",
   "metadata": {},
   "source": [
    "<div class=\"alert alert-block alert-info\">\n",
    "<b>Exercise (1.5 Points)</b>: Work through the documented steps below and solve the assignment. Be careful for hints and specific instructions.\n",
    "</div>"
   ]
  },
  {
   "cell_type": "code",
   "execution_count": 24,
   "metadata": {},
   "outputs": [],
   "source": [
    "# import  numpy with its common shorthand 'np'\n",
    "import numpy as np\n"
   ]
  },
  {
   "cell_type": "code",
   "execution_count": 31,
   "metadata": {},
   "outputs": [
    {
     "output_type": "stream",
     "name": "stdout",
     "text": [
      "[ 22  40  27  70 100  76  39  17  51  40  37  65  27  78   4  48  50  66\n  52 100]\n"
     ]
    }
   ],
   "source": [
    "# define the same list of integers (no subsetting just yet) as a numpy array, call it np_integers\n",
    "\n",
    "# 'same list? same as ...my sample_integers?'\n",
    "np_integers = np.array(sample_integers)\n",
    "\n",
    "\n",
    "# print the np array\n",
    "print(np_integers)\n"
   ]
  },
  {
   "cell_type": "markdown",
   "metadata": {},
   "source": [
    "We have seen how troublesome some easy subsetting for lists can become (and highly unperformant for large lists) accomplish the same subsetting with a logical condition in one line of numpy (like you have learned in the DataCamp course), call the resulting array subset_np"
   ]
  },
  {
   "cell_type": "code",
   "execution_count": 35,
   "metadata": {},
   "outputs": [
    {
     "output_type": "stream",
     "name": "stdout",
     "text": [
      "[ 40  70 100  76  39  51  40  37  65  78  48  50  66  52 100]\n"
     ]
    }
   ],
   "source": [
    "# subset the numpy array in one line\n",
    "subset_integers = np.extract(np_integers>30, np_integers)\n",
    "# print the resulting numpy array\n",
    "print(subset_integers)\n"
   ]
  },
  {
   "cell_type": "code",
   "execution_count": 36,
   "metadata": {},
   "outputs": [
    {
     "output_type": "stream",
     "name": "stdout",
     "text": [
      "[210 300 228 153 195 234 198 156 300]\n"
     ]
    }
   ],
   "source": [
    "# subset them again to entries strictly larger than 50 in one line in numpy and multiply all the entries by 3. Call the new array 'subset_again_np'\n",
    "subset_again_np = 3*np.extract(subset_integers>50, subset_integers)\n",
    "\n",
    "# print the new subset also control the length to make sure the entries behave as expected\n",
    "print(subset_again_np)"
   ]
  },
  {
   "cell_type": "markdown",
   "metadata": {},
   "source": [
    "We have seen that numpy allows for some easier functionality than regular lists. Let's work with some functions that you might have not seen that make numpy a very versatile tool in your toolbox.\n",
    "\n",
    "Let's say we have a list of numbers from 1-20 (inclusive) and would like to break them into groups of 2 and find their mean value per group. This would include a lot of slicing and looping with lists, but with numpy we can do better."
   ]
  },
  {
   "cell_type": "code",
   "execution_count": 45,
   "metadata": {},
   "outputs": [
    {
     "output_type": "stream",
     "name": "stdout",
     "text": [
      "[[ 1  2]\n [ 3  4]\n [ 5  6]\n [ 7  8]\n [ 9 10]\n [11 12]\n [13 14]\n [15 16]\n [17 18]\n [19 20]]\n[ 1.5  3.5  5.5  7.5  9.5 11.5 13.5 15.5 17.5 19.5]\n"
     ]
    }
   ],
   "source": [
    "# create a list of numbers from 1-20 (inclusive), call it some meaningful variable (not just 'list')\n",
    "some_meaningful_variable = [i for i in range(1, 21)]\n",
    "\n",
    "# convert the list to a np array\n",
    "some_meaningful_variable = np.array(some_meaningful_variable)\n",
    "\n",
    "# build a 2 D array with 2 elements per array with the np.reshape() method, google its documentation to find specifics about the syntax - result example: \n",
    "#  [[1, 2]\n",
    "#   [3, 4]\n",
    "#    ...\n",
    "#   [19, 20]]\n",
    "\n",
    "meaningful_arrray_2D = some_meaningful_variable.reshape(-1, 2)\n",
    "print(meaningful_arrray_2D)\n",
    "\n",
    "\n",
    "# find the average per sub array and print it without a loop (hint: look up the np.mean() function and its keyword arguments)\n",
    "# result example: [1.5 3.5 ... 19.5]\n",
    "print(np.mean(meaningful_arrray_2D, axis=1))\n",
    "\n",
    "\n"
   ]
  },
  {
   "cell_type": "code",
   "execution_count": null,
   "metadata": {},
   "outputs": [],
   "source": []
  }
 ],
 "metadata": {
  "kernelspec": {
   "display_name": "Python 3",
   "language": "python",
   "name": "python3"
  },
  "language_info": {
   "codemirror_mode": {
    "name": "ipython",
    "version": 3
   },
   "file_extension": ".py",
   "mimetype": "text/x-python",
   "name": "python",
   "nbconvert_exporter": "python",
   "pygments_lexer": "ipython3",
   "version": "3.7.0-final"
  }
 },
 "nbformat": 4,
 "nbformat_minor": 4
}