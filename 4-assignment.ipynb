{
 "cells": [
  {
   "cell_type": "markdown",
   "metadata": {},
   "source": [
    "# Python Block Course\n",
    "# Assignment 4: Importing data from the web"
   ]
  },
  {
   "cell_type": "markdown",
   "metadata": {},
   "source": [
    "Marc Luettecke, Anna Bahss\n",
    "\n",
    "Winter Term 2020 / 2021\n",
    "\n",
    "In this fourth assignment we will practice how to import data from the web. You can score up to 3 points in this assignment. Please submit your solutions by sending it to **marc.luettecke@subsequent.ai** or **anna.bahss@uni-konstanz.de** (ideally both). Please include \"**Python Blockkurs 2020 Assignment 4**\" in the subject line of the email. The deadline for submission is on **Friday, October 30, 09:59**, everything submitted after will automatically receive a grade of 0/3.\n",
    "\n",
    "**Notice: There's nothing new under the sun. Some of these problems are inspired by problems already existing out there. We can't avoid you copying code off the web, but know that 1. it is surprisingly easy to spot, if somebody uses techniques not introduced or referenced in the assignments yet, 2. you are missing out on actually understanding how to solve the problems with the tools (or at least hints) provided. Do yourself a favor and don't plagiarize.**"
   ]
  },
  {
   "cell_type": "markdown",
   "metadata": {},
   "source": [
    "## 4.1.1 Scraping data from websites\n",
    "We have dealt with a lot of data analysis tools, but what good are they if you do not have interesting data. As valuable as mtcars and iris are to dive into the mechanics, eventually, you will try to come up with interesting questions of your own, which might include collecting data that nobody else has thought of to combine before. In this first part, we will deal with the more manual labor of collecting data directly from the HTML code of a website, a practice which is called 'web-scraping'. We will scrape information off of Wikipedia's. By the way, you can check the source code of websites in most browsers by pressing F12 (Chrome) or just right-click anywhere on a website and look for an 'inspect' option. Let's get started with Python's 'request' and 'Beautiful Soup' package you already know from DataCamp."
   ]
  },
  {
   "cell_type": "markdown",
   "metadata": {},
   "source": [
    "<div class=\"alert alert-block alert-info\">\n",
    "<b>Exercise (1 Points)</b>: Work through the documented steps below and solve the assignment. Be careful for hints and specific instructions.\n",
    "</div>"
   ]
  },
  {
   "cell_type": "code",
   "execution_count": 1,
   "metadata": {},
   "outputs": [],
   "source": [
    "# import the requests and the beautiful soup packages (with nickname bs)\n",
    "from bs4 import BeautifulSoup\n",
    "import requests\n",
    "# define the wikipedia start page as your URL (where it says 'Welcome to Wikipedia') and save it to 'url'\n",
    "URL = 'https://en.wikipedia.org/wiki/Main_Page'"
   ]
  },
  {
   "cell_type": "code",
   "execution_count": 2,
   "metadata": {
    "tags": []
   },
   "outputs": [
    {
     "output_type": "error",
     "ename": "ProxyError",
     "evalue": "HTTPSConnectionPool(host='en.wikipedia.org', port=443): Max retries exceeded with url: /wiki/Main_Page (Caused by ProxyError('Cannot connect to proxy.', NewConnectionError('<urllib3.connection.VerifiedHTTPSConnection object at 0x000001B735C89518>: Failed to establish a new connection: [WinError 10061] 由于目标计算机积极拒绝，无法连接。')))",
     "traceback": [
      "\u001b[1;31m---------------------------------------------------------------------------\u001b[0m",
      "\u001b[1;31mConnectionRefusedError\u001b[0m                    Traceback (most recent call last)",
      "\u001b[1;32m~\\AppData\\Roaming\\Python\\Python37\\site-packages\\urllib3\\connection.py\u001b[0m in \u001b[0;36m_new_conn\u001b[1;34m(self)\u001b[0m\n\u001b[0;32m    158\u001b[0m             conn = connection.create_connection(\n\u001b[1;32m--> 159\u001b[1;33m                 (self._dns_host, self.port), self.timeout, **extra_kw)\n\u001b[0m\u001b[0;32m    160\u001b[0m \u001b[1;33m\u001b[0m\u001b[0m\n",
      "\u001b[1;32m~\\AppData\\Roaming\\Python\\Python37\\site-packages\\urllib3\\util\\connection.py\u001b[0m in \u001b[0;36mcreate_connection\u001b[1;34m(address, timeout, source_address, socket_options)\u001b[0m\n\u001b[0;32m     79\u001b[0m     \u001b[1;32mif\u001b[0m \u001b[0merr\u001b[0m \u001b[1;32mis\u001b[0m \u001b[1;32mnot\u001b[0m \u001b[1;32mNone\u001b[0m\u001b[1;33m:\u001b[0m\u001b[1;33m\u001b[0m\u001b[0m\n\u001b[1;32m---> 80\u001b[1;33m         \u001b[1;32mraise\u001b[0m \u001b[0merr\u001b[0m\u001b[1;33m\u001b[0m\u001b[0m\n\u001b[0m\u001b[0;32m     81\u001b[0m \u001b[1;33m\u001b[0m\u001b[0m\n",
      "\u001b[1;32m~\\AppData\\Roaming\\Python\\Python37\\site-packages\\urllib3\\util\\connection.py\u001b[0m in \u001b[0;36mcreate_connection\u001b[1;34m(address, timeout, source_address, socket_options)\u001b[0m\n\u001b[0;32m     69\u001b[0m                 \u001b[0msock\u001b[0m\u001b[1;33m.\u001b[0m\u001b[0mbind\u001b[0m\u001b[1;33m(\u001b[0m\u001b[0msource_address\u001b[0m\u001b[1;33m)\u001b[0m\u001b[1;33m\u001b[0m\u001b[0m\n\u001b[1;32m---> 70\u001b[1;33m             \u001b[0msock\u001b[0m\u001b[1;33m.\u001b[0m\u001b[0mconnect\u001b[0m\u001b[1;33m(\u001b[0m\u001b[0msa\u001b[0m\u001b[1;33m)\u001b[0m\u001b[1;33m\u001b[0m\u001b[0m\n\u001b[0m\u001b[0;32m     71\u001b[0m             \u001b[1;32mreturn\u001b[0m \u001b[0msock\u001b[0m\u001b[1;33m\u001b[0m\u001b[0m\n",
      "\u001b[1;31mConnectionRefusedError\u001b[0m: [WinError 10061] 由于目标计算机积极拒绝，无法连接。",
      "\nDuring handling of the above exception, another exception occurred:\n",
      "\u001b[1;31mNewConnectionError\u001b[0m                        Traceback (most recent call last)",
      "\u001b[1;32m~\\AppData\\Roaming\\Python\\Python37\\site-packages\\urllib3\\connectionpool.py\u001b[0m in \u001b[0;36murlopen\u001b[1;34m(self, method, url, body, headers, retries, redirect, assert_same_host, timeout, pool_timeout, release_conn, chunked, body_pos, **response_kw)\u001b[0m\n\u001b[0;32m    593\u001b[0m             \u001b[1;32mif\u001b[0m \u001b[0mis_new_proxy_conn\u001b[0m\u001b[1;33m:\u001b[0m\u001b[1;33m\u001b[0m\u001b[0m\n\u001b[1;32m--> 594\u001b[1;33m                 \u001b[0mself\u001b[0m\u001b[1;33m.\u001b[0m\u001b[0m_prepare_proxy\u001b[0m\u001b[1;33m(\u001b[0m\u001b[0mconn\u001b[0m\u001b[1;33m)\u001b[0m\u001b[1;33m\u001b[0m\u001b[0m\n\u001b[0m\u001b[0;32m    595\u001b[0m \u001b[1;33m\u001b[0m\u001b[0m\n",
      "\u001b[1;32m~\\AppData\\Roaming\\Python\\Python37\\site-packages\\urllib3\\connectionpool.py\u001b[0m in \u001b[0;36m_prepare_proxy\u001b[1;34m(self, conn)\u001b[0m\n\u001b[0;32m    804\u001b[0m         \u001b[0mconn\u001b[0m\u001b[1;33m.\u001b[0m\u001b[0mset_tunnel\u001b[0m\u001b[1;33m(\u001b[0m\u001b[0mself\u001b[0m\u001b[1;33m.\u001b[0m\u001b[0m_proxy_host\u001b[0m\u001b[1;33m,\u001b[0m \u001b[0mself\u001b[0m\u001b[1;33m.\u001b[0m\u001b[0mport\u001b[0m\u001b[1;33m,\u001b[0m \u001b[0mself\u001b[0m\u001b[1;33m.\u001b[0m\u001b[0mproxy_headers\u001b[0m\u001b[1;33m)\u001b[0m\u001b[1;33m\u001b[0m\u001b[0m\n\u001b[1;32m--> 805\u001b[1;33m         \u001b[0mconn\u001b[0m\u001b[1;33m.\u001b[0m\u001b[0mconnect\u001b[0m\u001b[1;33m(\u001b[0m\u001b[1;33m)\u001b[0m\u001b[1;33m\u001b[0m\u001b[0m\n\u001b[0m\u001b[0;32m    806\u001b[0m \u001b[1;33m\u001b[0m\u001b[0m\n",
      "\u001b[1;32m~\\AppData\\Roaming\\Python\\Python37\\site-packages\\urllib3\\connection.py\u001b[0m in \u001b[0;36mconnect\u001b[1;34m(self)\u001b[0m\n\u001b[0;32m    300\u001b[0m         \u001b[1;31m# Add certificate verification\u001b[0m\u001b[1;33m\u001b[0m\u001b[1;33m\u001b[0m\u001b[0m\n\u001b[1;32m--> 301\u001b[1;33m         \u001b[0mconn\u001b[0m \u001b[1;33m=\u001b[0m \u001b[0mself\u001b[0m\u001b[1;33m.\u001b[0m\u001b[0m_new_conn\u001b[0m\u001b[1;33m(\u001b[0m\u001b[1;33m)\u001b[0m\u001b[1;33m\u001b[0m\u001b[0m\n\u001b[0m\u001b[0;32m    302\u001b[0m         \u001b[0mhostname\u001b[0m \u001b[1;33m=\u001b[0m \u001b[0mself\u001b[0m\u001b[1;33m.\u001b[0m\u001b[0mhost\u001b[0m\u001b[1;33m\u001b[0m\u001b[0m\n",
      "\u001b[1;32m~\\AppData\\Roaming\\Python\\Python37\\site-packages\\urllib3\\connection.py\u001b[0m in \u001b[0;36m_new_conn\u001b[1;34m(self)\u001b[0m\n\u001b[0;32m    167\u001b[0m             raise NewConnectionError(\n\u001b[1;32m--> 168\u001b[1;33m                 self, \"Failed to establish a new connection: %s\" % e)\n\u001b[0m\u001b[0;32m    169\u001b[0m \u001b[1;33m\u001b[0m\u001b[0m\n",
      "\u001b[1;31mNewConnectionError\u001b[0m: <urllib3.connection.VerifiedHTTPSConnection object at 0x000001B735C89518>: Failed to establish a new connection: [WinError 10061] 由于目标计算机积极拒绝，无法连接。",
      "\nDuring handling of the above exception, another exception occurred:\n",
      "\u001b[1;31mMaxRetryError\u001b[0m                             Traceback (most recent call last)",
      "\u001b[1;32m~\\AppData\\Roaming\\Python\\Python37\\site-packages\\requests\\adapters.py\u001b[0m in \u001b[0;36msend\u001b[1;34m(self, request, stream, timeout, verify, cert, proxies)\u001b[0m\n\u001b[0;32m    448\u001b[0m                     \u001b[0mretries\u001b[0m\u001b[1;33m=\u001b[0m\u001b[0mself\u001b[0m\u001b[1;33m.\u001b[0m\u001b[0mmax_retries\u001b[0m\u001b[1;33m,\u001b[0m\u001b[1;33m\u001b[0m\u001b[0m\n\u001b[1;32m--> 449\u001b[1;33m                     \u001b[0mtimeout\u001b[0m\u001b[1;33m=\u001b[0m\u001b[0mtimeout\u001b[0m\u001b[1;33m\u001b[0m\u001b[0m\n\u001b[0m\u001b[0;32m    450\u001b[0m                 )\n",
      "\u001b[1;32m~\\AppData\\Roaming\\Python\\Python37\\site-packages\\urllib3\\connectionpool.py\u001b[0m in \u001b[0;36murlopen\u001b[1;34m(self, method, url, body, headers, retries, redirect, assert_same_host, timeout, pool_timeout, release_conn, chunked, body_pos, **response_kw)\u001b[0m\n\u001b[0;32m    637\u001b[0m             retries = retries.increment(method, url, error=e, _pool=self,\n\u001b[1;32m--> 638\u001b[1;33m                                         _stacktrace=sys.exc_info()[2])\n\u001b[0m\u001b[0;32m    639\u001b[0m             \u001b[0mretries\u001b[0m\u001b[1;33m.\u001b[0m\u001b[0msleep\u001b[0m\u001b[1;33m(\u001b[0m\u001b[1;33m)\u001b[0m\u001b[1;33m\u001b[0m\u001b[0m\n",
      "\u001b[1;32m~\\AppData\\Roaming\\Python\\Python37\\site-packages\\urllib3\\util\\retry.py\u001b[0m in \u001b[0;36mincrement\u001b[1;34m(self, method, url, response, error, _pool, _stacktrace)\u001b[0m\n\u001b[0;32m    397\u001b[0m         \u001b[1;32mif\u001b[0m \u001b[0mnew_retry\u001b[0m\u001b[1;33m.\u001b[0m\u001b[0mis_exhausted\u001b[0m\u001b[1;33m(\u001b[0m\u001b[1;33m)\u001b[0m\u001b[1;33m:\u001b[0m\u001b[1;33m\u001b[0m\u001b[0m\n\u001b[1;32m--> 398\u001b[1;33m             \u001b[1;32mraise\u001b[0m \u001b[0mMaxRetryError\u001b[0m\u001b[1;33m(\u001b[0m\u001b[0m_pool\u001b[0m\u001b[1;33m,\u001b[0m \u001b[0murl\u001b[0m\u001b[1;33m,\u001b[0m \u001b[0merror\u001b[0m \u001b[1;32mor\u001b[0m \u001b[0mResponseError\u001b[0m\u001b[1;33m(\u001b[0m\u001b[0mcause\u001b[0m\u001b[1;33m)\u001b[0m\u001b[1;33m)\u001b[0m\u001b[1;33m\u001b[0m\u001b[0m\n\u001b[0m\u001b[0;32m    399\u001b[0m \u001b[1;33m\u001b[0m\u001b[0m\n",
      "\u001b[1;31mMaxRetryError\u001b[0m: HTTPSConnectionPool(host='en.wikipedia.org', port=443): Max retries exceeded with url: /wiki/Main_Page (Caused by ProxyError('Cannot connect to proxy.', NewConnectionError('<urllib3.connection.VerifiedHTTPSConnection object at 0x000001B735C89518>: Failed to establish a new connection: [WinError 10061] 由于目标计算机积极拒绝，无法连接。')))",
      "\nDuring handling of the above exception, another exception occurred:\n",
      "\u001b[1;31mProxyError\u001b[0m                                Traceback (most recent call last)",
      "\u001b[1;32m<ipython-input-2-d02adf8121df>\u001b[0m in \u001b[0;36m<module>\u001b[1;34m\u001b[0m\n\u001b[0;32m      1\u001b[0m \u001b[1;31m# just to make sure everything worked, let us print the html source code\u001b[0m\u001b[1;33m\u001b[0m\u001b[1;33m\u001b[0m\u001b[0m\n\u001b[0;32m      2\u001b[0m \u001b[1;31m# get the URL with the requests package\u001b[0m\u001b[1;33m\u001b[0m\u001b[1;33m\u001b[0m\u001b[0m\n\u001b[1;32m----> 3\u001b[1;33m \u001b[0mrequest_0\u001b[0m \u001b[1;33m=\u001b[0m \u001b[0mrequests\u001b[0m\u001b[1;33m.\u001b[0m\u001b[0mget\u001b[0m\u001b[1;33m(\u001b[0m\u001b[0mURL\u001b[0m\u001b[1;33m)\u001b[0m\u001b[1;33m\u001b[0m\u001b[0m\n\u001b[0m\u001b[0;32m      4\u001b[0m \u001b[1;33m\u001b[0m\u001b[0m\n\u001b[0;32m      5\u001b[0m \u001b[1;31m# extract the text, save it to a variable 'html' and print the result\u001b[0m\u001b[1;33m\u001b[0m\u001b[1;33m\u001b[0m\u001b[0m\n",
      "\u001b[1;32m~\\AppData\\Roaming\\Python\\Python37\\site-packages\\requests\\api.py\u001b[0m in \u001b[0;36mget\u001b[1;34m(url, params, **kwargs)\u001b[0m\n\u001b[0;32m     73\u001b[0m \u001b[1;33m\u001b[0m\u001b[0m\n\u001b[0;32m     74\u001b[0m     \u001b[0mkwargs\u001b[0m\u001b[1;33m.\u001b[0m\u001b[0msetdefault\u001b[0m\u001b[1;33m(\u001b[0m\u001b[1;34m'allow_redirects'\u001b[0m\u001b[1;33m,\u001b[0m \u001b[1;32mTrue\u001b[0m\u001b[1;33m)\u001b[0m\u001b[1;33m\u001b[0m\u001b[0m\n\u001b[1;32m---> 75\u001b[1;33m     \u001b[1;32mreturn\u001b[0m \u001b[0mrequest\u001b[0m\u001b[1;33m(\u001b[0m\u001b[1;34m'get'\u001b[0m\u001b[1;33m,\u001b[0m \u001b[0murl\u001b[0m\u001b[1;33m,\u001b[0m \u001b[0mparams\u001b[0m\u001b[1;33m=\u001b[0m\u001b[0mparams\u001b[0m\u001b[1;33m,\u001b[0m \u001b[1;33m**\u001b[0m\u001b[0mkwargs\u001b[0m\u001b[1;33m)\u001b[0m\u001b[1;33m\u001b[0m\u001b[0m\n\u001b[0m\u001b[0;32m     76\u001b[0m \u001b[1;33m\u001b[0m\u001b[0m\n\u001b[0;32m     77\u001b[0m \u001b[1;33m\u001b[0m\u001b[0m\n",
      "\u001b[1;32m~\\AppData\\Roaming\\Python\\Python37\\site-packages\\requests\\api.py\u001b[0m in \u001b[0;36mrequest\u001b[1;34m(method, url, **kwargs)\u001b[0m\n\u001b[0;32m     58\u001b[0m     \u001b[1;31m# cases, and look like a memory leak in others.\u001b[0m\u001b[1;33m\u001b[0m\u001b[1;33m\u001b[0m\u001b[0m\n\u001b[0;32m     59\u001b[0m     \u001b[1;32mwith\u001b[0m \u001b[0msessions\u001b[0m\u001b[1;33m.\u001b[0m\u001b[0mSession\u001b[0m\u001b[1;33m(\u001b[0m\u001b[1;33m)\u001b[0m \u001b[1;32mas\u001b[0m \u001b[0msession\u001b[0m\u001b[1;33m:\u001b[0m\u001b[1;33m\u001b[0m\u001b[0m\n\u001b[1;32m---> 60\u001b[1;33m         \u001b[1;32mreturn\u001b[0m \u001b[0msession\u001b[0m\u001b[1;33m.\u001b[0m\u001b[0mrequest\u001b[0m\u001b[1;33m(\u001b[0m\u001b[0mmethod\u001b[0m\u001b[1;33m=\u001b[0m\u001b[0mmethod\u001b[0m\u001b[1;33m,\u001b[0m \u001b[0murl\u001b[0m\u001b[1;33m=\u001b[0m\u001b[0murl\u001b[0m\u001b[1;33m,\u001b[0m \u001b[1;33m**\u001b[0m\u001b[0mkwargs\u001b[0m\u001b[1;33m)\u001b[0m\u001b[1;33m\u001b[0m\u001b[0m\n\u001b[0m\u001b[0;32m     61\u001b[0m \u001b[1;33m\u001b[0m\u001b[0m\n\u001b[0;32m     62\u001b[0m \u001b[1;33m\u001b[0m\u001b[0m\n",
      "\u001b[1;32m~\\AppData\\Roaming\\Python\\Python37\\site-packages\\requests\\sessions.py\u001b[0m in \u001b[0;36mrequest\u001b[1;34m(self, method, url, params, data, headers, cookies, files, auth, timeout, allow_redirects, proxies, hooks, stream, verify, cert, json)\u001b[0m\n\u001b[0;32m    531\u001b[0m         }\n\u001b[0;32m    532\u001b[0m         \u001b[0msend_kwargs\u001b[0m\u001b[1;33m.\u001b[0m\u001b[0mupdate\u001b[0m\u001b[1;33m(\u001b[0m\u001b[0msettings\u001b[0m\u001b[1;33m)\u001b[0m\u001b[1;33m\u001b[0m\u001b[0m\n\u001b[1;32m--> 533\u001b[1;33m         \u001b[0mresp\u001b[0m \u001b[1;33m=\u001b[0m \u001b[0mself\u001b[0m\u001b[1;33m.\u001b[0m\u001b[0msend\u001b[0m\u001b[1;33m(\u001b[0m\u001b[0mprep\u001b[0m\u001b[1;33m,\u001b[0m \u001b[1;33m**\u001b[0m\u001b[0msend_kwargs\u001b[0m\u001b[1;33m)\u001b[0m\u001b[1;33m\u001b[0m\u001b[0m\n\u001b[0m\u001b[0;32m    534\u001b[0m \u001b[1;33m\u001b[0m\u001b[0m\n\u001b[0;32m    535\u001b[0m         \u001b[1;32mreturn\u001b[0m \u001b[0mresp\u001b[0m\u001b[1;33m\u001b[0m\u001b[0m\n",
      "\u001b[1;32m~\\AppData\\Roaming\\Python\\Python37\\site-packages\\requests\\sessions.py\u001b[0m in \u001b[0;36msend\u001b[1;34m(self, request, **kwargs)\u001b[0m\n\u001b[0;32m    644\u001b[0m \u001b[1;33m\u001b[0m\u001b[0m\n\u001b[0;32m    645\u001b[0m         \u001b[1;31m# Send the request\u001b[0m\u001b[1;33m\u001b[0m\u001b[1;33m\u001b[0m\u001b[0m\n\u001b[1;32m--> 646\u001b[1;33m         \u001b[0mr\u001b[0m \u001b[1;33m=\u001b[0m \u001b[0madapter\u001b[0m\u001b[1;33m.\u001b[0m\u001b[0msend\u001b[0m\u001b[1;33m(\u001b[0m\u001b[0mrequest\u001b[0m\u001b[1;33m,\u001b[0m \u001b[1;33m**\u001b[0m\u001b[0mkwargs\u001b[0m\u001b[1;33m)\u001b[0m\u001b[1;33m\u001b[0m\u001b[0m\n\u001b[0m\u001b[0;32m    647\u001b[0m \u001b[1;33m\u001b[0m\u001b[0m\n\u001b[0;32m    648\u001b[0m         \u001b[1;31m# Total elapsed time of the request (approximately)\u001b[0m\u001b[1;33m\u001b[0m\u001b[1;33m\u001b[0m\u001b[0m\n",
      "\u001b[1;32m~\\AppData\\Roaming\\Python\\Python37\\site-packages\\requests\\adapters.py\u001b[0m in \u001b[0;36msend\u001b[1;34m(self, request, stream, timeout, verify, cert, proxies)\u001b[0m\n\u001b[0;32m    508\u001b[0m \u001b[1;33m\u001b[0m\u001b[0m\n\u001b[0;32m    509\u001b[0m             \u001b[1;32mif\u001b[0m \u001b[0misinstance\u001b[0m\u001b[1;33m(\u001b[0m\u001b[0me\u001b[0m\u001b[1;33m.\u001b[0m\u001b[0mreason\u001b[0m\u001b[1;33m,\u001b[0m \u001b[0m_ProxyError\u001b[0m\u001b[1;33m)\u001b[0m\u001b[1;33m:\u001b[0m\u001b[1;33m\u001b[0m\u001b[0m\n\u001b[1;32m--> 510\u001b[1;33m                 \u001b[1;32mraise\u001b[0m \u001b[0mProxyError\u001b[0m\u001b[1;33m(\u001b[0m\u001b[0me\u001b[0m\u001b[1;33m,\u001b[0m \u001b[0mrequest\u001b[0m\u001b[1;33m=\u001b[0m\u001b[0mrequest\u001b[0m\u001b[1;33m)\u001b[0m\u001b[1;33m\u001b[0m\u001b[0m\n\u001b[0m\u001b[0;32m    511\u001b[0m \u001b[1;33m\u001b[0m\u001b[0m\n\u001b[0;32m    512\u001b[0m             \u001b[1;32mif\u001b[0m \u001b[0misinstance\u001b[0m\u001b[1;33m(\u001b[0m\u001b[0me\u001b[0m\u001b[1;33m.\u001b[0m\u001b[0mreason\u001b[0m\u001b[1;33m,\u001b[0m \u001b[0m_SSLError\u001b[0m\u001b[1;33m)\u001b[0m\u001b[1;33m:\u001b[0m\u001b[1;33m\u001b[0m\u001b[0m\n",
      "\u001b[1;31mProxyError\u001b[0m: HTTPSConnectionPool(host='en.wikipedia.org', port=443): Max retries exceeded with url: /wiki/Main_Page (Caused by ProxyError('Cannot connect to proxy.', NewConnectionError('<urllib3.connection.VerifiedHTTPSConnection object at 0x000001B735C89518>: Failed to establish a new connection: [WinError 10061] 由于目标计算机积极拒绝，无法连接。')))"
     ]
    }
   ],
   "source": [
    "# just to make sure everything worked, let us print the html source code\n",
    "# get the URL with the requests package\n",
    "request_0 = requests.get(URL)\n",
    "\n",
    "# extract the text, save it to a variable 'html' and print the result\n",
    "html = request_0.text\n",
    "print(html)\n",
    "# Create a BeautifulSoup object from the HTML: soup\n",
    "soup = BeautifulSoup(html, 'html.parser')"
   ]
  },
  {
   "cell_type": "markdown",
   "metadata": {},
   "source": [
    "Ok, we could have achieved goal so far by just going to a website, showing the source code and copy/pasting the information into a .txt file. But let us now find all the hyperlinks on the Wikipedia start page. We will need a little background knowledge of HTML for this task, to eventually retrieve information from the website in a systematic manner.\n",
    "HTML builds the skeletton of a website. It structures sections within a page and works with so-called 'tags'. A very prominent one is the `<li> \\</li>` tag for example, which stands for 'list item'-tag. Everything that is written between the opening and the closing tag ( <> and </ >) will be printed as a bullet point on a webpage. Let us start by finding all list tags on a website:"
   ]
  },
  {
   "cell_type": "code",
   "execution_count": 13,
   "metadata": {
    "tags": [
     "outputPrepend"
    ]
   },
   "outputs": [
    {
     "output_type": "stream",
     "name": "stdout",
     "text": [
      ">\n",
      "<li><a class=\"external text\" href=\"https://sl.wikipedia.org/wiki/\"><span class=\"autonym\" lang=\"sl\" title=\"Slovenian (sl:)\">Slovenščina</span></a></li>\n",
      "<li><a class=\"external text\" href=\"https://th.wikipedia.org/wiki/\"><span class=\"autonym\" lang=\"th\" title=\"Thai (th:)\">ไทย</span></a></li></ul>\n",
      "</div></li>\n",
      "<li><a class=\"external text\" href=\"https://ast.wikipedia.org/wiki/\"><span class=\"autonym\" lang=\"ast\" title=\"Asturian (ast:)\">Asturianu</span></a></li>\n",
      "<li><a class=\"external text\" href=\"https://bs.wikipedia.org/wiki/\"><span class=\"autonym\" lang=\"bs\" title=\"Bosnian (bs:)\">Bosanski</span></a></li>\n",
      "<li><a class=\"external text\" href=\"https://et.wikipedia.org/wiki/\"><span class=\"autonym\" lang=\"et\" title=\"Estonian (et:)\">Eesti</span></a></li>\n",
      "<li><a class=\"external text\" href=\"https://el.wikipedia.org/wiki/\"><span class=\"autonym\" lang=\"el\" title=\"Greek (el:)\">Ελληνικά</span></a></li>\n",
      "<li><a class=\"external text\" href=\"https://simple.wikipedia.org/wiki/\"><span class=\"autonym\" lang=\"simple\" title=\"Simple English (simple:)\">English (Simple English)</span></a></li>\n",
      "<li><a class=\"external text\" href=\"https://gl.wikipedia.org/wiki/\"><span class=\"autonym\" lang=\"gl\" title=\"Galician (gl:)\">Galego</span></a></li>\n",
      "<li><a class=\"external text\" href=\"https://hr.wikipedia.org/wiki/\"><span class=\"autonym\" lang=\"hr\" title=\"Croatian (hr:)\">Hrvatski</span></a></li>\n",
      "<li><a class=\"external text\" href=\"https://lv.wikipedia.org/wiki/\"><span class=\"autonym\" lang=\"lv\" title=\"Latvian (lv:)\">Latviešu</span></a></li>\n",
      "<li><a class=\"external text\" href=\"https://lt.wikipedia.org/wiki/\"><span class=\"autonym\" lang=\"lt\" title=\"Lithuanian (lt:)\">Lietuvių</span></a></li>\n",
      "<li><a class=\"external text\" href=\"https://ml.wikipedia.org/wiki/\"><span class=\"autonym\" lang=\"ml\" title=\"Malayalam (ml:)\">മലയാളം</span></a></li>\n",
      "<li><a class=\"external text\" href=\"https://mk.wikipedia.org/wiki/\"><span class=\"autonym\" lang=\"mk\" title=\"Macedonian (mk:)\">Македонски</span></a></li>\n",
      "<li><a class=\"external text\" href=\"https://nn.wikipedia.org/wiki/\"><span class=\"autonym\" lang=\"nn\" title=\"Norwegian Nynorsk (nn:)\">Norsk nynorsk</span></a></li>\n",
      "<li><a class=\"external text\" href=\"https://sk.wikipedia.org/wiki/\"><span class=\"autonym\" lang=\"sk\" title=\"Slovak (sk:)\">Slovenčina</span></a></li>\n",
      "<li><a class=\"external text\" href=\"https://sl.wikipedia.org/wiki/\"><span class=\"autonym\" lang=\"sl\" title=\"Slovenian (sl:)\">Slovenščina</span></a></li>\n",
      "<li><a class=\"external text\" href=\"https://th.wikipedia.org/wiki/\"><span class=\"autonym\" lang=\"th\" title=\"Thai (th:)\">ไทย</span></a></li>\n",
      "<li id=\"pt-anonuserpage\">Not logged in</li>\n",
      "<li id=\"pt-anontalk\"><a accesskey=\"n\" href=\"/wiki/Special:MyTalk\" title=\"Discussion about edits from this IP address [n]\">Talk</a></li>\n",
      "<li id=\"pt-anoncontribs\"><a accesskey=\"y\" href=\"/wiki/Special:MyContributions\" title=\"A list of edits made from this IP address [y]\">Contributions</a></li>\n",
      "<li id=\"pt-createaccount\"><a href=\"/w/index.php?title=Special:CreateAccount&amp;returnto=Main+Page\" title=\"You are encouraged to create an account and log in; however, it is not mandatory\">Create account</a></li>\n",
      "<li id=\"pt-login\"><a accesskey=\"o\" href=\"/w/index.php?title=Special:UserLogin&amp;returnto=Main+Page\" title=\"You're encouraged to log in; however, it's not mandatory. [o]\">Log in</a></li>\n",
      "<li class=\"selected\" id=\"ca-nstab-main\"><a accesskey=\"c\" href=\"/wiki/Main_Page\" title=\"View the content page [c]\">Main Page</a></li>\n",
      "<li id=\"ca-talk\"><a accesskey=\"t\" href=\"/wiki/Talk:Main_Page\" rel=\"discussion\" title=\"Discuss improvements to the content page [t]\">Talk</a></li>\n",
      "<li class=\"selected\" id=\"ca-view\"><a href=\"/wiki/Main_Page\">Read</a></li>\n",
      "<li id=\"ca-viewsource\"><a accesskey=\"e\" href=\"/w/index.php?title=Main_Page&amp;action=edit\" title=\"This page is protected.\n",
      "You can view its source [e]\">View source</a></li>\n",
      "<li id=\"ca-history\"><a accesskey=\"h\" href=\"/w/index.php?title=Main_Page&amp;action=history\" title=\"Past revisions of this page [h]\">View history</a></li>\n",
      "<li id=\"n-mainpage-description\"><a accesskey=\"z\" href=\"/wiki/Main_Page\" title=\"Visit the main page [z]\">Main page</a></li>\n",
      "<li id=\"n-contents\"><a href=\"/wiki/Wikipedia:Contents\" title=\"Guides to browsing Wikipedia\">Contents</a></li>\n",
      "<li id=\"n-currentevents\"><a href=\"/wiki/Portal:Current_events\" title=\"Articles related to current events\">Current events</a></li>\n",
      "<li id=\"n-randompage\"><a accesskey=\"x\" href=\"/wiki/Special:Random\" title=\"Visit a randomly selected article [x]\">Random article</a></li>\n",
      "<li id=\"n-aboutsite\"><a href=\"/wiki/Wikipedia:About\" title=\"Learn about Wikipedia and how it works\">About Wikipedia</a></li>\n",
      "<li id=\"n-contactpage\"><a href=\"//en.wikipedia.org/wiki/Wikipedia:Contact_us\" title=\"How to contact Wikipedia\">Contact us</a></li>\n",
      "<li id=\"n-sitesupport\"><a href=\"https://donate.wikimedia.org/wiki/Special:FundraiserRedirector?utm_source=donate&amp;utm_medium=sidebar&amp;utm_campaign=C13_en.wikipedia.org&amp;uselang=en\" title=\"Support us by donating to the Wikimedia Foundation\">Donate</a></li>\n",
      "<li id=\"n-help\"><a href=\"/wiki/Help:Contents\" title=\"Guidance on how to use and edit Wikipedia\">Help</a></li>\n",
      "<li id=\"n-introduction\"><a href=\"/wiki/Help:Introduction\" title=\"Learn how to edit Wikipedia\">Learn to edit</a></li>\n",
      "<li id=\"n-portal\"><a href=\"/wiki/Wikipedia:Community_portal\" title=\"The hub for editors\">Community portal</a></li>\n",
      "<li id=\"n-recentchanges\"><a accesskey=\"r\" href=\"/wiki/Special:RecentChanges\" title=\"A list of recent changes to Wikipedia [r]\">Recent changes</a></li>\n",
      "<li id=\"n-upload\"><a href=\"/wiki/Wikipedia:File_Upload_Wizard\" title=\"Add images or other media for use on Wikipedia\">Upload file</a></li>\n",
      "<li id=\"t-whatlinkshere\"><a accesskey=\"j\" href=\"/wiki/Special:WhatLinksHere/Main_Page\" title=\"List of all English Wikipedia pages containing links to this page [j]\">What links here</a></li>\n",
      "<li id=\"t-recentchangeslinked\"><a accesskey=\"k\" href=\"/wiki/Special:RecentChangesLinked/Main_Page\" rel=\"nofollow\" title=\"Recent changes in pages linked from this page [k]\">Related changes</a></li>\n",
      "<li id=\"t-upload\"><a accesskey=\"u\" href=\"/wiki/Wikipedia:File_Upload_Wizard\" title=\"Upload files [u]\">Upload file</a></li>\n",
      "<li id=\"t-specialpages\"><a accesskey=\"q\" href=\"/wiki/Special:SpecialPages\" title=\"A list of all special pages [q]\">Special pages</a></li>\n",
      "<li id=\"t-permalink\"><a href=\"/w/index.php?title=Main_Page&amp;oldid=987965326\" title=\"Permanent link to this revision of this page\">Permanent link</a></li>\n",
      "<li id=\"t-info\"><a href=\"/w/index.php?title=Main_Page&amp;action=info\" title=\"More information about this page\">Page information</a></li>\n",
      "<li id=\"t-cite\"><a href=\"/w/index.php?title=Special:CiteThisPage&amp;page=Main_Page&amp;id=987965326&amp;wpFormIdentifier=titleform\" title=\"Information on how to cite this page\">Cite this page</a></li>\n",
      "<li id=\"t-wikibase\"><a accesskey=\"g\" href=\"https://www.wikidata.org/wiki/Special:EntityPage/Q5296\" title=\"Structured data on this page hosted by Wikidata [g]\">Wikidata item</a></li>\n",
      "<li id=\"coll-download-as-rl\"><a href=\"/w/index.php?title=Special:DownloadAsPdf&amp;page=Main_Page&amp;action=show-download-screen\" title=\"Download this page as a PDF file\">Download as PDF</a></li>\n",
      "<li id=\"t-print\"><a accesskey=\"p\" href=\"/w/index.php?title=Main_Page&amp;printable=yes\" title=\"Printable version of this page [p]\">Printable version</a></li>\n",
      "<li class=\"wb-otherproject-link wb-otherproject-commons\"><a href=\"https://commons.wikimedia.org/wiki/Main_Page\" hreflang=\"en\">Wikimedia Commons</a></li>\n",
      "<li class=\"wb-otherproject-link wb-otherproject-mediawiki\"><a href=\"https://www.mediawiki.org/wiki/MediaWiki\" hreflang=\"en\">MediaWiki</a></li>\n",
      "<li class=\"wb-otherproject-link wb-otherproject-meta\"><a href=\"https://meta.wikimedia.org/wiki/Main_Page\" hreflang=\"en\">Meta-Wiki</a></li>\n",
      "<li class=\"wb-otherproject-link wb-otherproject-species\"><a href=\"https://species.wikimedia.org/wiki/Main_Page\" hreflang=\"en\">Wikispecies</a></li>\n",
      "<li class=\"wb-otherproject-link wb-otherproject-wikibooks\"><a href=\"https://en.wikibooks.org/wiki/Main_Page\" hreflang=\"en\">Wikibooks</a></li>\n",
      "<li class=\"wb-otherproject-link wb-otherproject-wikidata\"><a href=\"https://www.wikidata.org/wiki/Wikidata:Main_Page\" hreflang=\"en\">Wikidata</a></li>\n",
      "<li class=\"wb-otherproject-link wb-otherproject-wikimania\"><a href=\"https://wikimania.wikimedia.org/wiki/Wikimania\" hreflang=\"en\">Wikimania</a></li>\n",
      "<li class=\"wb-otherproject-link wb-otherproject-wikinews\"><a href=\"https://en.wikinews.org/wiki/Main_Page\" hreflang=\"en\">Wikinews</a></li>\n",
      "<li class=\"wb-otherproject-link wb-otherproject-wikiquote\"><a href=\"https://en.wikiquote.org/wiki/Main_Page\" hreflang=\"en\">Wikiquote</a></li>\n",
      "<li class=\"wb-otherproject-link wb-otherproject-wikisource\"><a href=\"https://en.wikisource.org/wiki/Main_Page\" hreflang=\"en\">Wikisource</a></li>\n",
      "<li class=\"wb-otherproject-link wb-otherproject-wikiversity\"><a href=\"https://en.wikiversity.org/wiki/Wikiversity:Main_Page\" hreflang=\"en\">Wikiversity</a></li>\n",
      "<li class=\"wb-otherproject-link wb-otherproject-wikivoyage\"><a href=\"https://en.wikivoyage.org/wiki/Main_Page\" hreflang=\"en\">Wikivoyage</a></li>\n",
      "<li class=\"wb-otherproject-link wb-otherproject-wiktionary\"><a href=\"https://en.wiktionary.org/wiki/Wiktionary:Main_Page\" hreflang=\"en\">Wiktionary</a></li>\n",
      "<li class=\"interlanguage-link interwiki-ar\"><a class=\"interlanguage-link-target\" href=\"https://ar.wikipedia.org/wiki/\" hreflang=\"ar\" lang=\"ar\" title=\"Arabic\">العربية</a></li>\n",
      "<li class=\"interlanguage-link interwiki-bg\"><a class=\"interlanguage-link-target\" href=\"https://bg.wikipedia.org/wiki/\" hreflang=\"bg\" lang=\"bg\" title=\"Bulgarian\">Български</a></li>\n",
      "<li class=\"interlanguage-link interwiki-bs\"><a class=\"interlanguage-link-target\" href=\"https://bs.wikipedia.org/wiki/\" hreflang=\"bs\" lang=\"bs\" title=\"Bosnian\">Bosanski</a></li>\n",
      "<li class=\"interlanguage-link interwiki-ca\"><a class=\"interlanguage-link-target\" href=\"https://ca.wikipedia.org/wiki/\" hreflang=\"ca\" lang=\"ca\" title=\"Catalan\">Català</a></li>\n",
      "<li class=\"interlanguage-link interwiki-cs\"><a class=\"interlanguage-link-target\" href=\"https://cs.wikipedia.org/wiki/\" hreflang=\"cs\" lang=\"cs\" title=\"Czech\">Čeština</a></li>\n",
      "<li class=\"interlanguage-link interwiki-da\"><a class=\"interlanguage-link-target\" href=\"https://da.wikipedia.org/wiki/\" hreflang=\"da\" lang=\"da\" title=\"Danish\">Dansk</a></li>\n",
      "<li class=\"interlanguage-link interwiki-de\"><a class=\"interlanguage-link-target\" href=\"https://de.wikipedia.org/wiki/\" hreflang=\"de\" lang=\"de\" title=\"German\">Deutsch</a></li>\n",
      "<li class=\"interlanguage-link interwiki-et\"><a class=\"interlanguage-link-target\" href=\"https://et.wikipedia.org/wiki/\" hreflang=\"et\" lang=\"et\" title=\"Estonian\">Eesti</a></li>\n",
      "<li class=\"interlanguage-link interwiki-el\"><a class=\"interlanguage-link-target\" href=\"https://el.wikipedia.org/wiki/\" hreflang=\"el\" lang=\"el\" title=\"Greek\">Ελληνικά</a></li>\n",
      "<li class=\"interlanguage-link interwiki-es\"><a class=\"interlanguage-link-target\" href=\"https://es.wikipedia.org/wiki/\" hreflang=\"es\" lang=\"es\" title=\"Spanish\">Español</a></li>\n",
      "<li class=\"interlanguage-link interwiki-eo\"><a class=\"interlanguage-link-target\" href=\"https://eo.wikipedia.org/wiki/\" hreflang=\"eo\" lang=\"eo\" title=\"Esperanto\">Esperanto</a></li>\n",
      "<li class=\"interlanguage-link interwiki-eu\"><a class=\"interlanguage-link-target\" href=\"https://eu.wikipedia.org/wiki/\" hreflang=\"eu\" lang=\"eu\" title=\"Basque\">Euskara</a></li>\n",
      "<li class=\"interlanguage-link interwiki-fa\"><a class=\"interlanguage-link-target\" href=\"https://fa.wikipedia.org/wiki/\" hreflang=\"fa\" lang=\"fa\" title=\"Persian\">فارسی</a></li>\n",
      "<li class=\"interlanguage-link interwiki-fr\"><a class=\"interlanguage-link-target\" href=\"https://fr.wikipedia.org/wiki/\" hreflang=\"fr\" lang=\"fr\" title=\"French\">Français</a></li>\n",
      "<li class=\"interlanguage-link interwiki-gl\"><a class=\"interlanguage-link-target\" href=\"https://gl.wikipedia.org/wiki/\" hreflang=\"gl\" lang=\"gl\" title=\"Galician\">Galego</a></li>\n",
      "<li class=\"interlanguage-link interwiki-ko\"><a class=\"interlanguage-link-target\" href=\"https://ko.wikipedia.org/wiki/\" hreflang=\"ko\" lang=\"ko\" title=\"Korean\">한국어</a></li>\n",
      "<li class=\"interlanguage-link interwiki-hr\"><a class=\"interlanguage-link-target\" href=\"https://hr.wikipedia.org/wiki/\" hreflang=\"hr\" lang=\"hr\" title=\"Croatian\">Hrvatski</a></li>\n",
      "<li class=\"interlanguage-link interwiki-id\"><a class=\"interlanguage-link-target\" href=\"https://id.wikipedia.org/wiki/\" hreflang=\"id\" lang=\"id\" title=\"Indonesian\">Bahasa Indonesia</a></li>\n",
      "<li class=\"interlanguage-link interwiki-it\"><a class=\"interlanguage-link-target\" href=\"https://it.wikipedia.org/wiki/\" hreflang=\"it\" lang=\"it\" title=\"Italian\">Italiano</a></li>\n",
      "<li class=\"interlanguage-link interwiki-he\"><a class=\"interlanguage-link-target\" href=\"https://he.wikipedia.org/wiki/\" hreflang=\"he\" lang=\"he\" title=\"Hebrew\">עברית</a></li>\n",
      "<li class=\"interlanguage-link interwiki-ka\"><a class=\"interlanguage-link-target\" href=\"https://ka.wikipedia.org/wiki/\" hreflang=\"ka\" lang=\"ka\" title=\"Georgian\">ქართული</a></li>\n",
      "<li class=\"interlanguage-link interwiki-lv\"><a class=\"interlanguage-link-target\" href=\"https://lv.wikipedia.org/wiki/\" hreflang=\"lv\" lang=\"lv\" title=\"Latvian\">Latviešu</a></li>\n",
      "<li class=\"interlanguage-link interwiki-lt\"><a class=\"interlanguage-link-target\" href=\"https://lt.wikipedia.org/wiki/\" hreflang=\"lt\" lang=\"lt\" title=\"Lithuanian\">Lietuvių</a></li>\n",
      "<li class=\"interlanguage-link interwiki-hu\"><a class=\"interlanguage-link-target\" href=\"https://hu.wikipedia.org/wiki/\" hreflang=\"hu\" lang=\"hu\" title=\"Hungarian\">Magyar</a></li>\n",
      "<li class=\"interlanguage-link interwiki-mk\"><a class=\"interlanguage-link-target\" href=\"https://mk.wikipedia.org/wiki/\" hreflang=\"mk\" lang=\"mk\" title=\"Macedonian\">Македонски</a></li>\n",
      "<li class=\"interlanguage-link interwiki-ms\"><a class=\"interlanguage-link-target\" href=\"https://ms.wikipedia.org/wiki/\" hreflang=\"ms\" lang=\"ms\" title=\"Malay\">Bahasa Melayu</a></li>\n",
      "<li class=\"interlanguage-link interwiki-nl\"><a class=\"interlanguage-link-target\" href=\"https://nl.wikipedia.org/wiki/\" hreflang=\"nl\" lang=\"nl\" title=\"Dutch\">Nederlands</a></li>\n",
      "<li class=\"interlanguage-link interwiki-ja\"><a class=\"interlanguage-link-target\" href=\"https://ja.wikipedia.org/wiki/\" hreflang=\"ja\" lang=\"ja\" title=\"Japanese\">日本語</a></li>\n",
      "<li class=\"interlanguage-link interwiki-no\"><a class=\"interlanguage-link-target\" href=\"https://no.wikipedia.org/wiki/\" hreflang=\"nb\" lang=\"nb\" title=\"Norwegian Bokmål\">Norsk bokmål</a></li>\n",
      "<li class=\"interlanguage-link interwiki-nn\"><a class=\"interlanguage-link-target\" href=\"https://nn.wikipedia.org/wiki/\" hreflang=\"nn\" lang=\"nn\" title=\"Norwegian Nynorsk\">Norsk nynorsk</a></li>\n",
      "<li class=\"interlanguage-link interwiki-pl\"><a class=\"interlanguage-link-target\" href=\"https://pl.wikipedia.org/wiki/\" hreflang=\"pl\" lang=\"pl\" title=\"Polish\">Polski</a></li>\n",
      "<li class=\"interlanguage-link interwiki-pt\"><a class=\"interlanguage-link-target\" href=\"https://pt.wikipedia.org/wiki/\" hreflang=\"pt\" lang=\"pt\" title=\"Portuguese\">Português</a></li>\n",
      "<li class=\"interlanguage-link interwiki-ro\"><a class=\"interlanguage-link-target\" href=\"https://ro.wikipedia.org/wiki/\" hreflang=\"ro\" lang=\"ro\" title=\"Romanian\">Română</a></li>\n",
      "<li class=\"interlanguage-link interwiki-ru\"><a class=\"interlanguage-link-target\" href=\"https://ru.wikipedia.org/wiki/\" hreflang=\"ru\" lang=\"ru\" title=\"Russian\">Русский</a></li>\n",
      "<li class=\"interlanguage-link interwiki-simple\"><a class=\"interlanguage-link-target\" href=\"https://simple.wikipedia.org/wiki/\" hreflang=\"en-simple\" lang=\"en-simple\" title=\"Simple English\">Simple English</a></li>\n",
      "<li class=\"interlanguage-link interwiki-sk\"><a class=\"interlanguage-link-target\" href=\"https://sk.wikipedia.org/wiki/\" hreflang=\"sk\" lang=\"sk\" title=\"Slovak\">Slovenčina</a></li>\n",
      "<li class=\"interlanguage-link interwiki-sl\"><a class=\"interlanguage-link-target\" href=\"https://sl.wikipedia.org/wiki/\" hreflang=\"sl\" lang=\"sl\" title=\"Slovenian\">Slovenščina</a></li>\n",
      "<li class=\"interlanguage-link interwiki-sr\"><a class=\"interlanguage-link-target\" href=\"https://sr.wikipedia.org/wiki/\" hreflang=\"sr\" lang=\"sr\" title=\"Serbian\">Српски / srpski</a></li>\n",
      "<li class=\"interlanguage-link interwiki-sh\"><a class=\"interlanguage-link-target\" href=\"https://sh.wikipedia.org/wiki/\" hreflang=\"sh\" lang=\"sh\" title=\"Serbo-Croatian\">Srpskohrvatski / српскохрватски</a></li>\n",
      "<li class=\"interlanguage-link interwiki-fi\"><a class=\"interlanguage-link-target\" href=\"https://fi.wikipedia.org/wiki/\" hreflang=\"fi\" lang=\"fi\" title=\"Finnish\">Suomi</a></li>\n",
      "<li class=\"interlanguage-link interwiki-sv\"><a class=\"interlanguage-link-target\" href=\"https://sv.wikipedia.org/wiki/\" hreflang=\"sv\" lang=\"sv\" title=\"Swedish\">Svenska</a></li>\n",
      "<li class=\"interlanguage-link interwiki-th\"><a class=\"interlanguage-link-target\" href=\"https://th.wikipedia.org/wiki/\" hreflang=\"th\" lang=\"th\" title=\"Thai\">ไทย</a></li>\n",
      "<li class=\"interlanguage-link interwiki-tr\"><a class=\"interlanguage-link-target\" href=\"https://tr.wikipedia.org/wiki/\" hreflang=\"tr\" lang=\"tr\" title=\"Turkish\">Türkçe</a></li>\n",
      "<li class=\"interlanguage-link interwiki-uk\"><a class=\"interlanguage-link-target\" href=\"https://uk.wikipedia.org/wiki/\" hreflang=\"uk\" lang=\"uk\" title=\"Ukrainian\">Українська</a></li>\n",
      "<li class=\"interlanguage-link interwiki-vi\"><a class=\"interlanguage-link-target\" href=\"https://vi.wikipedia.org/wiki/\" hreflang=\"vi\" lang=\"vi\" title=\"Vietnamese\">Tiếng Việt</a></li>\n",
      "<li class=\"interlanguage-link interwiki-zh\"><a class=\"interlanguage-link-target\" href=\"https://zh.wikipedia.org/wiki/\" hreflang=\"zh\" lang=\"zh\" title=\"Chinese\">中文</a></li>\n",
      "<li id=\"footer-info-lastmod\"> This page was last edited on 10 November 2020, at 08:18<span class=\"anonymous-show\"> (UTC)</span>.</li>\n",
      "<li id=\"footer-info-copyright\">Text is available under the <a href=\"//en.wikipedia.org/wiki/Wikipedia:Text_of_Creative_Commons_Attribution-ShareAlike_3.0_Unported_License\" rel=\"license\">Creative Commons Attribution-ShareAlike License</a><a href=\"//creativecommons.org/licenses/by-sa/3.0/\" rel=\"license\" style=\"display:none;\"></a>;\n",
      "additional terms may apply.  By using this site, you agree to the <a href=\"//foundation.wikimedia.org/wiki/Terms_of_Use\">Terms of Use</a> and <a href=\"//foundation.wikimedia.org/wiki/Privacy_policy\">Privacy Policy</a>. Wikipedia® is a registered trademark of the <a href=\"//www.wikimediafoundation.org/\">Wikimedia Foundation, Inc.</a>, a non-profit organization.</li>\n",
      "<li id=\"footer-places-privacy\"><a class=\"extiw\" href=\"https://foundation.wikimedia.org/wiki/Privacy_policy\" title=\"wmf:Privacy policy\">Privacy policy</a></li>\n",
      "<li id=\"footer-places-about\"><a href=\"/wiki/Wikipedia:About\" title=\"Wikipedia:About\">About Wikipedia</a></li>\n",
      "<li id=\"footer-places-disclaimer\"><a href=\"/wiki/Wikipedia:General_disclaimer\" title=\"Wikipedia:General disclaimer\">Disclaimers</a></li>\n",
      "<li id=\"footer-places-contact\"><a href=\"//en.wikipedia.org/wiki/Wikipedia:Contact_us\">Contact Wikipedia</a></li>\n",
      "<li id=\"footer-places-mobileview\"><a class=\"noprint stopMobileRedirectToggle\" href=\"//en.m.wikipedia.org/w/index.php?title=Main_Page&amp;mobileaction=toggle_view_mobile\">Mobile view</a></li>\n",
      "<li id=\"footer-places-developers\"><a href=\"https://www.mediawiki.org/wiki/Special:MyLanguage/How_to_contribute\">Developers</a></li>\n",
      "<li id=\"footer-places-statslink\"><a href=\"https://stats.wikimedia.org/#/en.wikipedia.org\">Statistics</a></li>\n",
      "<li id=\"footer-places-cookiestatement\"><a href=\"https://foundation.wikimedia.org/wiki/Cookie_statement\">Cookie statement</a></li>\n",
      "<li id=\"footer-copyrightico\"><a href=\"https://wikimediafoundation.org/\"><img alt=\"Wikimedia Foundation\" height=\"31\" loading=\"lazy\" src=\"/static/images/footer/wikimedia-button.png\" srcset=\"/static/images/footer/wikimedia-button-1.5x.png 1.5x, /static/images/footer/wikimedia-button-2x.png 2x\" width=\"88\"/></a></li>\n",
      "<li id=\"footer-poweredbyico\"><a href=\"https://www.mediawiki.org/\"><img alt=\"Powered by MediaWiki\" height=\"31\" loading=\"lazy\" src=\"/static/images/footer/poweredby_mediawiki_88x31.png\" srcset=\"/static/images/footer/poweredby_mediawiki_132x47.png 1.5x, /static/images/footer/poweredby_mediawiki_176x62.png 2x\" width=\"88\"/></a></li>\n"
     ]
    }
   ],
   "source": [
    "# Example: We will use the find_all() method on your beautiful soup project to find all 'li' tags. This method returns a list, through which you can loop and print all the elements.\n",
    "all_links = soup.findAll('li')\n",
    "\n",
    "# iterate through the body\n",
    "for link in all_links:\n",
    "    print(link)"
   ]
  },
  {
   "cell_type": "markdown",
   "metadata": {},
   "source": [
    "Now it's your turn: find all the 'a' tags, which indicate a hyperlink. Iterate through them and append the links to a list with a name of your choice, if the .text property of  the element exists. What does the .text property show us?\n",
    "\n"
   ]
  },
  {
   "cell_type": "code",
   "execution_count": 14,
   "metadata": {},
   "outputs": [
    {
     "output_type": "stream",
     "name": "stdout",
     "text": [
      "\n",
      "Jump to navigation\n",
      "Jump to search\n",
      "Wikipedia\n",
      "free\n",
      "encyclopedia\n",
      "anyone can edit\n",
      "6,193,769\n",
      "English\n",
      "The arts\n",
      "Biography\n",
      "Geography\n",
      "History\n",
      "Mathematics\n",
      "Science\n",
      "Society\n",
      "Technology\n",
      "All portals\n",
      "\n",
      "Super Mario World\n",
      "platform game\n",
      "Super Nintendo Entertainment System\n",
      "Mario\n",
      "Princess Toadstool\n",
      "Bowser\n",
      "Super Mario\n",
      "Luigi\n",
      "Yoshi\n",
      "Takashi Tezuka\n",
      "Shigeru Miyamoto\n",
      "greatest video games of all time\n",
      "best-selling SNES game\n",
      "Yoshi's Island\n",
      "Full article...\n",
      "Sahure\n",
      "The Boat Race 2019\n",
      "Thomas White (Australian politician)\n",
      "Archive\n",
      "By email\n",
      "More featured articles\n",
      "\n",
      "Anna May Wong\n",
      "had the starring role\n",
      "Daughter of the Dragon\n",
      "the non-Asian actor\n",
      "Keep Talking\n",
      "José Antonio Álvarez Lima\n",
      "Canal Once\n",
      "The South's Finest\n",
      "Isabelle Li\n",
      "2010 Summer Youth Olympics\n",
      "Herr, wir bringen in Brot und Wein\n",
      "offertory\n",
      "Huub Oosterhuis\n",
      "first edition of Gotteslob\n",
      "the second\n",
      "cutter\n",
      "HMS Surly\n",
      "Pawnee\n",
      "Bright Star\n",
      "Archive\n",
      "Start a new article\n",
      "Nominate an article\n",
      "COVID-19 pandemic\n",
      "Disease\n",
      "Virus\n",
      "By location\n",
      "Impact\n",
      "Portal\n",
      "\n",
      "National Science Foundation\n",
      "Arecibo Observatory\n",
      "radio telescope\n",
      "Hurricane Iota\n",
      "SpaceX Crew-1\n",
      "Michael Hopkins\n",
      "Victor Glover\n",
      "Soichi Noguchi\n",
      "Shannon Walker\n",
      "International Space Station\n",
      "Maia Sandu\n",
      "elected\n",
      "President of Moldova\n",
      "Ongoing\n",
      "Tigray conflict\n",
      "Recent deaths\n",
      "Irinej\n",
      "Stan Trafford\n",
      "John Poole\n",
      "Margaret Guilfoyle\n",
      "Arthur Imperatore Sr.\n",
      "Paul Sobol\n",
      "Nominate an article\n",
      "November 21\n",
      "Armed Forces Day\n",
      "\n",
      "1386\n",
      "Turco-Mongol\n",
      "Timur\n",
      "captured and sacked\n",
      "Georgian\n",
      "Tbilisi\n",
      "Bagrat V\n",
      "1920\n",
      "Irish War of Independence\n",
      "Bloody Sunday\n",
      "IRA\n",
      "a group of British intelligence agents\n",
      "Gaelic football\n",
      "Croke Park\n",
      "1950\n",
      "collided\n",
      "Valemount\n",
      "John Diefenbaker\n",
      "1970\n",
      "Vietnam War\n",
      "raided\n",
      "Sơn Tây prison camp\n",
      "POWs\n",
      "2015\n",
      "a four-day security lockdown\n",
      "Brussels\n",
      "Henry Purcell\n",
      "Alexander Berkman\n",
      "Stan Musial\n",
      "November 20\n",
      "November 21\n",
      "November 22\n",
      "Archive\n",
      "By email\n",
      "List of days of the year\n",
      "\n",
      "Adolf Mosengel\n",
      "Hamburg\n",
      "Westphalia\n",
      "Kunstakademie Düsseldorf\n",
      "Hans Gude\n",
      "Geneva\n",
      "Alexandre Calame\n",
      "en plein air\n",
      "Bernese Alps\n",
      "Adolf Mosengel\n",
      "Japanese government-issued rupee in Burma\n",
      "Apollo and Daphne\n",
      "Khao Sam Roi Yot National Park\n",
      "Archive\n",
      "More featured pictures\n",
      "Community portal\n",
      "Help desk\n",
      "Local embassy\n",
      "Reference desk\n",
      "Site news\n",
      "Village pump\n",
      "Wikimedia Foundation\n",
      "projects\n",
      "\n",
      "Commons\n",
      "\n",
      "MediaWiki\n",
      "\n",
      "Meta-Wiki\n",
      "\n",
      "Wikibooks\n",
      "\n",
      "Wikidata\n",
      "\n",
      "Wikinews\n",
      "\n",
      "Wikiquote\n",
      "\n",
      "Wikisource\n",
      "\n",
      "Wikispecies\n",
      "\n",
      "Wikiversity\n",
      "\n",
      "Wikivoyage\n",
      "\n",
      "Wiktionary\n",
      "English\n",
      "6,193,769\n",
      "العربية\n",
      "Deutsch\n",
      "Español\n",
      "Français\n",
      "Italiano\n",
      "Nederlands\n",
      "日本語\n",
      "Polski\n",
      "Português\n",
      "Русский\n",
      "Svenska\n",
      "Українська\n",
      "Tiếng Việt\n",
      "中文\n",
      "Bahasa Indonesia\n",
      "Bahasa Melayu\n",
      "Bân-lâm-gú\n",
      "Български\n",
      "Català\n",
      "Čeština\n",
      "Dansk\n",
      "Esperanto\n",
      "Euskara\n",
      "فارسی\n",
      "עברית\n",
      "한국어\n",
      "Magyar\n",
      "Norsk Bokmål\n",
      "Română\n",
      "Srpski\n",
      "Srpskohrvatski\n",
      "Suomi\n",
      "Türkçe\n",
      "Asturianu\n",
      "Bosanski\n",
      "Eesti\n",
      "Ελληνικά\n",
      "English (Simple English)\n",
      "Galego\n",
      "Hrvatski\n",
      "Latviešu\n",
      "Lietuvių\n",
      "മലയാളം\n",
      "Македонски\n",
      "Norsk nynorsk\n",
      "Slovenčina\n",
      "Slovenščina\n",
      "ไทย\n",
      "Complete list of Wikipedias\n",
      "https://en.wikipedia.org/w/index.php?title=Main_Page&oldid=987965326\n",
      "Talk\n",
      "Contributions\n",
      "Create account\n",
      "Log in\n",
      "Main Page\n",
      "Talk\n",
      "Read\n",
      "View source\n",
      "View history\n",
      "\n",
      "Main page\n",
      "Contents\n",
      "Current events\n",
      "Random article\n",
      "About Wikipedia\n",
      "Contact us\n",
      "Donate\n",
      "Help\n",
      "Learn to edit\n",
      "Community portal\n",
      "Recent changes\n",
      "Upload file\n",
      "What links here\n",
      "Related changes\n",
      "Upload file\n",
      "Special pages\n",
      "Permanent link\n",
      "Page information\n",
      "Cite this page\n",
      "Wikidata item\n",
      "Download as PDF\n",
      "Printable version\n",
      "Wikimedia Commons\n",
      "MediaWiki\n",
      "Meta-Wiki\n",
      "Wikispecies\n",
      "Wikibooks\n",
      "Wikidata\n",
      "Wikimania\n",
      "Wikinews\n",
      "Wikiquote\n",
      "Wikisource\n",
      "Wikiversity\n",
      "Wikivoyage\n",
      "Wiktionary\n",
      "العربية\n",
      "Български\n",
      "Bosanski\n",
      "Català\n",
      "Čeština\n",
      "Dansk\n",
      "Deutsch\n",
      "Eesti\n",
      "Ελληνικά\n",
      "Español\n",
      "Esperanto\n",
      "Euskara\n",
      "فارسی\n",
      "Français\n",
      "Galego\n",
      "한국어\n",
      "Hrvatski\n",
      "Bahasa Indonesia\n",
      "Italiano\n",
      "עברית\n",
      "ქართული\n",
      "Latviešu\n",
      "Lietuvių\n",
      "Magyar\n",
      "Македонски\n",
      "Bahasa Melayu\n",
      "Nederlands\n",
      "日本語\n",
      "Norsk bokmål\n",
      "Norsk nynorsk\n",
      "Polski\n",
      "Português\n",
      "Română\n",
      "Русский\n",
      "Simple English\n",
      "Slovenčina\n",
      "Slovenščina\n",
      "Српски / srpski\n",
      "Srpskohrvatski / српскохрватски\n",
      "Suomi\n",
      "Svenska\n",
      "ไทย\n",
      "Türkçe\n",
      "Українська\n",
      "Tiếng Việt\n",
      "中文\n",
      "Creative Commons Attribution-ShareAlike License\n",
      "\n",
      "Terms of Use\n",
      "Privacy Policy\n",
      "Wikimedia Foundation, Inc.\n",
      "Privacy policy\n",
      "About Wikipedia\n",
      "Disclaimers\n",
      "Contact Wikipedia\n",
      "Mobile view\n",
      "Developers\n",
      "Statistics\n",
      "Cookie statement\n",
      "\n",
      "\n"
     ]
    }
   ],
   "source": [
    "all_links = soup.find_all('a')\n",
    "link_list = list(all_links)\n",
    "for link in all_links:\n",
    "    print(link.text)"
   ]
  },
  {
   "cell_type": "markdown",
   "metadata": {},
   "source": [
    "Now we will go a step further and click on a link on a website - so we tell python to use the information to go to a different website. For that we need to find a pattern in the way Wikipedia's URLs change if you click on a link. Click from the main page on different articles to find the portion of the link that never changes and save that as a string called: 'base_url'."
   ]
  },
  {
   "cell_type": "code",
   "execution_count": 15,
   "metadata": {},
   "outputs": [],
   "source": [
    "base_url = 'https://en.wikipedia.org/wiki/'"
   ]
  },
  {
   "cell_type": "markdown",
   "metadata": {},
   "source": [
    "How can we use the links we have scraped now to go to a new website - i.e. one of the links the main page refers to?\n",
    "We can scrape all the links of the main page (add the href=True option to findAll) and add the changing part of the url to the base part and then redirect python to this new URL. We will first need to do some cleaning of the links, though.\n",
    "Once again find all link elements with the added option."
   ]
  },
  {
   "cell_type": "code",
   "execution_count": 16,
   "metadata": {},
   "outputs": [
    {
     "output_type": "stream",
     "name": "stdout",
     "text": [
      "<class 'bs4.element.ResultSet'>\n"
     ]
    }
   ],
   "source": [
    "all_url = soup.find_all('a', href=True)\n",
    "print(type(all_url))"
   ]
  },
  {
   "cell_type": "markdown",
   "metadata": {},
   "source": [
    "Create a result list to append to."
   ]
  },
  {
   "cell_type": "code",
   "execution_count": 17,
   "metadata": {},
   "outputs": [],
   "source": [
    "results_list = []"
   ]
  },
  {
   "cell_type": "markdown",
   "metadata": {},
   "source": [
    "Iterate through the items in your links to append the 'href' portion from the links to the result list - you can do so by subsetting a list element via list_element['href'], which is why we saved the href info in the findAll option.\n"
   ]
  },
  {
   "cell_type": "code",
   "execution_count": 25,
   "metadata": {
    "tags": [
     "outputPrepend"
    ]
   },
   "outputs": [
    {
     "output_type": "stream",
     "name": "stdout",
     "text": [
      "y_(1920)', '/wiki/Irish_Republican_Army_(1919%E2%80%931922)', '/wiki/Cairo_Gang', '/wiki/Gaelic_football', '/wiki/Croke_Park', '/wiki/1950', '/wiki/Canoe_River_train_crash', '/wiki/Valemount', '/wiki/John_Diefenbaker', '/wiki/1970', '/wiki/Vietnam_War', '/wiki/Operation_Ivory_Coast', '/wiki/S%C6%A1n_T%C3%A2y_prison_camp', '/wiki/Prisoner_of_war', '/wiki/2015', '/wiki/2015_Brussels_lockdown', '/wiki/Brussels', '/wiki/Henry_Purcell', '/wiki/Alexander_Berkman', '/wiki/Stan_Musial', '/wiki/November_20', '/wiki/November_21', '/wiki/November_22', '/wiki/Wikipedia:Selected_anniversaries/November', 'https://lists.wikimedia.org/mailman/listinfo/daily-article-l', '/wiki/List_of_days_of_the_year', '/wiki/File:Adolf_Mosengel_Dorf_in_den_Berner_Alpen.jpg', '/wiki/Adolf_Mosengel', '/wiki/Hamburg', '/wiki/Westphalia', '/wiki/Kunstakademie_D%C3%BCsseldorf', '/wiki/Hans_Gude', '/wiki/Geneva', '/wiki/Alexandre_Calame', '/wiki/En_plein_air', '/wiki/Bernese_Alps', '/wiki/Adolf_Mosengel', '/wiki/Template:POTD/2020-11-20', '/wiki/Template:POTD/2020-11-19', '/wiki/Template:POTD/2020-11-18', '/wiki/Wikipedia:Picture_of_the_day/Archive', '/wiki/Wikipedia:Featured_pictures', '/wiki/Wikipedia:Community_portal', '/wiki/Wikipedia:Help_desk', '/wiki/Wikipedia:Local_Embassy', '/wiki/Wikipedia:Reference_desk', '/wiki/Wikipedia:News', '/wiki/Wikipedia:Village_pump', '/wiki/Wikimedia_Foundation', 'https://wikimediafoundation.org/our-work/wikimedia-projects/', 'https://commons.wikimedia.org/wiki/', 'https://commons.wikimedia.org/', 'https://www.mediawiki.org/wiki/', 'https://mediawiki.org/', 'https://meta.wikimedia.org/wiki/', 'https://meta.wikimedia.org/', 'https://en.wikibooks.org/wiki/', 'https://en.wikibooks.org/', 'https://www.wikidata.org/wiki/', 'https://www.wikidata.org/', 'https://en.wikinews.org/wiki/', 'https://en.wikinews.org/', 'https://en.wikiquote.org/wiki/', 'https://en.wikiquote.org/', 'https://en.wikisource.org/wiki/', 'https://en.wikisource.org/', 'https://species.wikimedia.org/wiki/', 'https://species.wikimedia.org/', 'https://en.wikiversity.org/wiki/', 'https://en.wikiversity.org/', 'https://en.wikivoyage.org/wiki/', 'https://en.wikivoyage.org/', 'https://en.wiktionary.org/wiki/', 'https://en.wiktionary.org/', '/wiki/English_language', '/wiki/Special:Statistics', 'https://ar.wikipedia.org/wiki/', 'https://de.wikipedia.org/wiki/', 'https://es.wikipedia.org/wiki/', 'https://fr.wikipedia.org/wiki/', 'https://it.wikipedia.org/wiki/', 'https://nl.wikipedia.org/wiki/', 'https://ja.wikipedia.org/wiki/', 'https://pl.wikipedia.org/wiki/', 'https://pt.wikipedia.org/wiki/', 'https://ru.wikipedia.org/wiki/', 'https://sv.wikipedia.org/wiki/', 'https://uk.wikipedia.org/wiki/', 'https://vi.wikipedia.org/wiki/', 'https://zh.wikipedia.org/wiki/', 'https://id.wikipedia.org/wiki/', 'https://ms.wikipedia.org/wiki/', 'https://zh-min-nan.wikipedia.org/wiki/', 'https://bg.wikipedia.org/wiki/', 'https://ca.wikipedia.org/wiki/', 'https://cs.wikipedia.org/wiki/', 'https://da.wikipedia.org/wiki/', 'https://eo.wikipedia.org/wiki/', 'https://eu.wikipedia.org/wiki/', 'https://fa.wikipedia.org/wiki/', 'https://he.wikipedia.org/wiki/', 'https://ko.wikipedia.org/wiki/', 'https://hu.wikipedia.org/wiki/', 'https://no.wikipedia.org/wiki/', 'https://ro.wikipedia.org/wiki/', 'https://sr.wikipedia.org/wiki/', 'https://sh.wikipedia.org/wiki/', 'https://fi.wikipedia.org/wiki/', 'https://tr.wikipedia.org/wiki/', 'https://ast.wikipedia.org/wiki/', 'https://bs.wikipedia.org/wiki/', 'https://et.wikipedia.org/wiki/', 'https://el.wikipedia.org/wiki/', 'https://simple.wikipedia.org/wiki/', 'https://gl.wikipedia.org/wiki/', 'https://hr.wikipedia.org/wiki/', 'https://lv.wikipedia.org/wiki/', 'https://lt.wikipedia.org/wiki/', 'https://ml.wikipedia.org/wiki/', 'https://mk.wikipedia.org/wiki/', 'https://nn.wikipedia.org/wiki/', 'https://sk.wikipedia.org/wiki/', 'https://sl.wikipedia.org/wiki/', 'https://th.wikipedia.org/wiki/', 'https://meta.wikimedia.org/wiki/List_of_Wikipedias', 'https://en.wikipedia.org/w/index.php?title=Main_Page&oldid=987965326', '/wiki/Special:MyTalk', '/wiki/Special:MyContributions', '/w/index.php?title=Special:CreateAccount&returnto=Main+Page', '/w/index.php?title=Special:UserLogin&returnto=Main+Page', '/wiki/Main_Page', '/wiki/Talk:Main_Page', '/wiki/Main_Page', '/w/index.php?title=Main_Page&action=edit', '/w/index.php?title=Main_Page&action=history', '/wiki/Main_Page', '/wiki/Main_Page', '/wiki/Wikipedia:Contents', '/wiki/Portal:Current_events', '/wiki/Special:Random', '/wiki/Wikipedia:About', '//en.wikipedia.org/wiki/Wikipedia:Contact_us', 'https://donate.wikimedia.org/wiki/Special:FundraiserRedirector?utm_source=donate&utm_medium=sidebar&utm_campaign=C13_en.wikipedia.org&uselang=en', '/wiki/Help:Contents', '/wiki/Help:Introduction', '/wiki/Wikipedia:Community_portal', '/wiki/Special:RecentChanges', '/wiki/Wikipedia:File_Upload_Wizard', '/wiki/Special:WhatLinksHere/Main_Page', '/wiki/Special:RecentChangesLinked/Main_Page', '/wiki/Wikipedia:File_Upload_Wizard', '/wiki/Special:SpecialPages', '/w/index.php?title=Main_Page&oldid=987965326', '/w/index.php?title=Main_Page&action=info', '/w/index.php?title=Special:CiteThisPage&page=Main_Page&id=987965326&wpFormIdentifier=titleform', 'https://www.wikidata.org/wiki/Special:EntityPage/Q5296', '/w/index.php?title=Special:DownloadAsPdf&page=Main_Page&action=show-download-screen', '/w/index.php?title=Main_Page&printable=yes', 'https://commons.wikimedia.org/wiki/Main_Page', 'https://www.mediawiki.org/wiki/MediaWiki', 'https://meta.wikimedia.org/wiki/Main_Page', 'https://species.wikimedia.org/wiki/Main_Page', 'https://en.wikibooks.org/wiki/Main_Page', 'https://www.wikidata.org/wiki/Wikidata:Main_Page', 'https://wikimania.wikimedia.org/wiki/Wikimania', 'https://en.wikinews.org/wiki/Main_Page', 'https://en.wikiquote.org/wiki/Main_Page', 'https://en.wikisource.org/wiki/Main_Page', 'https://en.wikiversity.org/wiki/Wikiversity:Main_Page', 'https://en.wikivoyage.org/wiki/Main_Page', 'https://en.wiktionary.org/wiki/Wiktionary:Main_Page', 'https://ar.wikipedia.org/wiki/', 'https://bg.wikipedia.org/wiki/', 'https://bs.wikipedia.org/wiki/', 'https://ca.wikipedia.org/wiki/', 'https://cs.wikipedia.org/wiki/', 'https://da.wikipedia.org/wiki/', 'https://de.wikipedia.org/wiki/', 'https://et.wikipedia.org/wiki/', 'https://el.wikipedia.org/wiki/', 'https://es.wikipedia.org/wiki/', 'https://eo.wikipedia.org/wiki/', 'https://eu.wikipedia.org/wiki/', 'https://fa.wikipedia.org/wiki/', 'https://fr.wikipedia.org/wiki/', 'https://gl.wikipedia.org/wiki/', 'https://ko.wikipedia.org/wiki/', 'https://hr.wikipedia.org/wiki/', 'https://id.wikipedia.org/wiki/', 'https://it.wikipedia.org/wiki/', 'https://he.wikipedia.org/wiki/', 'https://ka.wikipedia.org/wiki/', 'https://lv.wikipedia.org/wiki/', 'https://lt.wikipedia.org/wiki/', 'https://hu.wikipedia.org/wiki/', 'https://mk.wikipedia.org/wiki/', 'https://ms.wikipedia.org/wiki/', 'https://nl.wikipedia.org/wiki/', 'https://ja.wikipedia.org/wiki/', 'https://no.wikipedia.org/wiki/', 'https://nn.wikipedia.org/wiki/', 'https://pl.wikipedia.org/wiki/', 'https://pt.wikipedia.org/wiki/', 'https://ro.wikipedia.org/wiki/', 'https://ru.wikipedia.org/wiki/', 'https://simple.wikipedia.org/wiki/', 'https://sk.wikipedia.org/wiki/', 'https://sl.wikipedia.org/wiki/', 'https://sr.wikipedia.org/wiki/', 'https://sh.wikipedia.org/wiki/', 'https://fi.wikipedia.org/wiki/', 'https://sv.wikipedia.org/wiki/', 'https://th.wikipedia.org/wiki/', 'https://tr.wikipedia.org/wiki/', 'https://uk.wikipedia.org/wiki/', 'https://vi.wikipedia.org/wiki/', 'https://zh.wikipedia.org/wiki/', '//en.wikipedia.org/wiki/Wikipedia:Text_of_Creative_Commons_Attribution-ShareAlike_3.0_Unported_License', '//creativecommons.org/licenses/by-sa/3.0/', '//foundation.wikimedia.org/wiki/Terms_of_Use', '//foundation.wikimedia.org/wiki/Privacy_policy', '//www.wikimediafoundation.org/', 'https://foundation.wikimedia.org/wiki/Privacy_policy', '/wiki/Wikipedia:About', '/wiki/Wikipedia:General_disclaimer', '//en.wikipedia.org/wiki/Wikipedia:Contact_us', '//en.m.wikipedia.org/w/index.php?title=Main_Page&mobileaction=toggle_view_mobile', 'https://www.mediawiki.org/wiki/Special:MyLanguage/How_to_contribute', 'https://stats.wikimedia.org/#/en.wikipedia.org', 'https://foundation.wikimedia.org/wiki/Cookie_statement', 'https://wikimediafoundation.org/', 'https://www.mediawiki.org/', '#mw-head', '#searchInput', '/wiki/Wikipedia', '/wiki/Free_content', '/wiki/Encyclopedia', '/wiki/Help:Introduction_to_Wikipedia', '/wiki/Special:Statistics', '/wiki/English_language', '/wiki/Portal:The_arts', '/wiki/Portal:Biography', '/wiki/Portal:Geography', '/wiki/Portal:History', '/wiki/Portal:Mathematics', '/wiki/Portal:Science', '/wiki/Portal:Society', '/wiki/Portal:Technology', '/wiki/Wikipedia:Contents/Portals', '/wiki/File:Shigeru_Miyamoto_cropped_3_Shigeru_Miyamoto_201911.jpg', '/wiki/Super_Mario_World', '/wiki/Platform_game', '/wiki/Super_Nintendo_Entertainment_System', '/wiki/Mario', '/wiki/Princess_Peach', '/wiki/Bowser_(character)', '/wiki/Super_Mario', '/wiki/Luigi', '/wiki/Yoshi', '/wiki/Takashi_Tezuka', '/wiki/Shigeru_Miyamoto', '/wiki/List_of_video_games_considered_the_best', '/wiki/List_of_best-selling_Super_Nintendo_Entertainment_System_video_games', '/wiki/Yoshi%27s_Island', '/wiki/Super_Mario_World', '/wiki/Sahure', '/wiki/The_Boat_Race_2019', '/wiki/Thomas_White_(Australian_politician)', '/wiki/Wikipedia:Today%27s_featured_article/November_2020', 'https://lists.wikimedia.org/mailman/listinfo/daily-article-l', '/wiki/Wikipedia:Featured_articles', '/wiki/File:Poster_-_Daughter_of_the_Dragon_01.jpg', '/wiki/Anna_May_Wong', '/wiki/Anna_May_Wong_on_film_and_television', '/wiki/Daughter_of_the_Dragon', '/wiki/Warner_Oland', '/wiki/Keep_Talking_(group)', '/wiki/Jos%C3%A9_Antonio_%C3%81lvarez_Lima', '/wiki/Canal_Once_(Mexico)', '/wiki/The_South%27s_Finest', '/wiki/Isabelle_Li', '/wiki/2010_Summer_Youth_Olympics', '/wiki/Herr,_wir_bringen_in_Brot_und_Wein', '/wiki/Offertory', '/wiki/Huub_Oosterhuis', '/wiki/Gotteslob_(1975)', '/wiki/Gotteslob', '/wiki/Cutter_(boat)', '/wiki/HMS_Surly_(1806)', '/wiki/Pawnee_people', '/wiki/Fred_Murree', '/wiki/Wikipedia:Recent_additions', '/wiki/Help:Your_first_article', '/wiki/Template_talk:Did_you_know', '/wiki/COVID-19_pandemic', '/wiki/Coronavirus_disease_2019', '/wiki/Severe_acute_respiratory_syndrome_coronavirus_2', '/wiki/COVID-19_pandemic_by_country_and_territory', '/wiki/Impact_of_the_COVID-19_pandemic', '/wiki/Portal:Coronavirus_disease_2019', '/wiki/File:The_Arecibo_Observatory_20151101114231-0_8e7cc_c7a44aca_orig.jpg', '/wiki/National_Science_Foundation', '/wiki/Arecibo_Observatory', '/wiki/Radio_telescope', '/wiki/Hurricane_Iota', '/wiki/SpaceX_Crew-1', '/wiki/Michael_S._Hopkins', '/wiki/Victor_J._Glover', '/wiki/Soichi_Noguchi', '/wiki/Shannon_Walker', '/wiki/International_Space_Station', '/wiki/Maia_Sandu', '/wiki/2020_Moldovan_presidential_election', '/wiki/President_of_Moldova', '/wiki/Portal:Current_events', '/wiki/Tigray_conflict', '/wiki/Deaths_in_2020', '/wiki/Irinej', '/wiki/Stan_Trafford', '/wiki/John_Poole_(footballer,_born_1932)', '/wiki/Margaret_Guilfoyle', '/wiki/Arthur_Imperatore_Sr.', '/wiki/Paul_Sobol', '/wiki/Wikipedia:In_the_news/Candidates', '/wiki/November_21', '/wiki/Armed_Forces_Day_(Bangladesh)', '/wiki/File:John_Diefenbaker,_MP_(1940).jpg', '/wiki/1386', '/wiki/Turco-Mongol_tradition', '/wiki/Timur', '/wiki/Timur%27s_invasions_of_Georgia', '/wiki/Kingdom_of_Georgia', '/wiki/Tbilisi', '/wiki/Bagrat_V_of_Georgia', '/wiki/1920', '/wiki/Irish_War_of_Independence', '/wiki/Bloody_Sunday_(1920)', '/wiki/Irish_Republican_Army_(1919%E2%80%931922)', '/wiki/Cairo_Gang', '/wiki/Gaelic_football', '/wiki/Croke_Park', '/wiki/1950', '/wiki/Canoe_River_train_crash', '/wiki/Valemount', '/wiki/John_Diefenbaker', '/wiki/1970', '/wiki/Vietnam_War', '/wiki/Operation_Ivory_Coast', '/wiki/S%C6%A1n_T%C3%A2y_prison_camp', '/wiki/Prisoner_of_war', '/wiki/2015', '/wiki/2015_Brussels_lockdown', '/wiki/Brussels', '/wiki/Henry_Purcell', '/wiki/Alexander_Berkman', '/wiki/Stan_Musial', '/wiki/November_20', '/wiki/November_21', '/wiki/November_22', '/wiki/Wikipedia:Selected_anniversaries/November', 'https://lists.wikimedia.org/mailman/listinfo/daily-article-l', '/wiki/List_of_days_of_the_year', '/wiki/File:Adolf_Mosengel_Dorf_in_den_Berner_Alpen.jpg', '/wiki/Adolf_Mosengel', '/wiki/Hamburg', '/wiki/Westphalia', '/wiki/Kunstakademie_D%C3%BCsseldorf', '/wiki/Hans_Gude', '/wiki/Geneva', '/wiki/Alexandre_Calame', '/wiki/En_plein_air', '/wiki/Bernese_Alps', '/wiki/Adolf_Mosengel', '/wiki/Template:POTD/2020-11-20', '/wiki/Template:POTD/2020-11-19', '/wiki/Template:POTD/2020-11-18', '/wiki/Wikipedia:Picture_of_the_day/Archive', '/wiki/Wikipedia:Featured_pictures', '/wiki/Wikipedia:Community_portal', '/wiki/Wikipedia:Help_desk', '/wiki/Wikipedia:Local_Embassy', '/wiki/Wikipedia:Reference_desk', '/wiki/Wikipedia:News', '/wiki/Wikipedia:Village_pump', '/wiki/Wikimedia_Foundation', 'https://wikimediafoundation.org/our-work/wikimedia-projects/', 'https://commons.wikimedia.org/wiki/', 'https://commons.wikimedia.org/', 'https://www.mediawiki.org/wiki/', 'https://mediawiki.org/', 'https://meta.wikimedia.org/wiki/', 'https://meta.wikimedia.org/', 'https://en.wikibooks.org/wiki/', 'https://en.wikibooks.org/', 'https://www.wikidata.org/wiki/', 'https://www.wikidata.org/', 'https://en.wikinews.org/wiki/', 'https://en.wikinews.org/', 'https://en.wikiquote.org/wiki/', 'https://en.wikiquote.org/', 'https://en.wikisource.org/wiki/', 'https://en.wikisource.org/', 'https://species.wikimedia.org/wiki/', 'https://species.wikimedia.org/', 'https://en.wikiversity.org/wiki/', 'https://en.wikiversity.org/', 'https://en.wikivoyage.org/wiki/', 'https://en.wikivoyage.org/', 'https://en.wiktionary.org/wiki/', 'https://en.wiktionary.org/', '/wiki/English_language', '/wiki/Special:Statistics', 'https://ar.wikipedia.org/wiki/', 'https://de.wikipedia.org/wiki/', 'https://es.wikipedia.org/wiki/', 'https://fr.wikipedia.org/wiki/', 'https://it.wikipedia.org/wiki/', 'https://nl.wikipedia.org/wiki/', 'https://ja.wikipedia.org/wiki/', 'https://pl.wikipedia.org/wiki/', 'https://pt.wikipedia.org/wiki/', 'https://ru.wikipedia.org/wiki/', 'https://sv.wikipedia.org/wiki/', 'https://uk.wikipedia.org/wiki/', 'https://vi.wikipedia.org/wiki/', 'https://zh.wikipedia.org/wiki/', 'https://id.wikipedia.org/wiki/', 'https://ms.wikipedia.org/wiki/', 'https://zh-min-nan.wikipedia.org/wiki/', 'https://bg.wikipedia.org/wiki/', 'https://ca.wikipedia.org/wiki/', 'https://cs.wikipedia.org/wiki/', 'https://da.wikipedia.org/wiki/', 'https://eo.wikipedia.org/wiki/', 'https://eu.wikipedia.org/wiki/', 'https://fa.wikipedia.org/wiki/', 'https://he.wikipedia.org/wiki/', 'https://ko.wikipedia.org/wiki/', 'https://hu.wikipedia.org/wiki/', 'https://no.wikipedia.org/wiki/', 'https://ro.wikipedia.org/wiki/', 'https://sr.wikipedia.org/wiki/', 'https://sh.wikipedia.org/wiki/', 'https://fi.wikipedia.org/wiki/', 'https://tr.wikipedia.org/wiki/', 'https://ast.wikipedia.org/wiki/', 'https://bs.wikipedia.org/wiki/', 'https://et.wikipedia.org/wiki/', 'https://el.wikipedia.org/wiki/', 'https://simple.wikipedia.org/wiki/', 'https://gl.wikipedia.org/wiki/', 'https://hr.wikipedia.org/wiki/', 'https://lv.wikipedia.org/wiki/', 'https://lt.wikipedia.org/wiki/', 'https://ml.wikipedia.org/wiki/', 'https://mk.wikipedia.org/wiki/', 'https://nn.wikipedia.org/wiki/', 'https://sk.wikipedia.org/wiki/', 'https://sl.wikipedia.org/wiki/', 'https://th.wikipedia.org/wiki/', 'https://meta.wikimedia.org/wiki/List_of_Wikipedias', 'https://en.wikipedia.org/w/index.php?title=Main_Page&oldid=987965326', '/wiki/Special:MyTalk', '/wiki/Special:MyContributions', '/w/index.php?title=Special:CreateAccount&returnto=Main+Page', '/w/index.php?title=Special:UserLogin&returnto=Main+Page', '/wiki/Main_Page', '/wiki/Talk:Main_Page', '/wiki/Main_Page', '/w/index.php?title=Main_Page&action=edit', '/w/index.php?title=Main_Page&action=history', '/wiki/Main_Page', '/wiki/Main_Page', '/wiki/Wikipedia:Contents', '/wiki/Portal:Current_events', '/wiki/Special:Random', '/wiki/Wikipedia:About', '//en.wikipedia.org/wiki/Wikipedia:Contact_us', 'https://donate.wikimedia.org/wiki/Special:FundraiserRedirector?utm_source=donate&utm_medium=sidebar&utm_campaign=C13_en.wikipedia.org&uselang=en', '/wiki/Help:Contents', '/wiki/Help:Introduction', '/wiki/Wikipedia:Community_portal', '/wiki/Special:RecentChanges', '/wiki/Wikipedia:File_Upload_Wizard', '/wiki/Special:WhatLinksHere/Main_Page', '/wiki/Special:RecentChangesLinked/Main_Page', '/wiki/Wikipedia:File_Upload_Wizard', '/wiki/Special:SpecialPages', '/w/index.php?title=Main_Page&oldid=987965326', '/w/index.php?title=Main_Page&action=info', '/w/index.php?title=Special:CiteThisPage&page=Main_Page&id=987965326&wpFormIdentifier=titleform', 'https://www.wikidata.org/wiki/Special:EntityPage/Q5296', '/w/index.php?title=Special:DownloadAsPdf&page=Main_Page&action=show-download-screen', '/w/index.php?title=Main_Page&printable=yes', 'https://commons.wikimedia.org/wiki/Main_Page', 'https://www.mediawiki.org/wiki/MediaWiki', 'https://meta.wikimedia.org/wiki/Main_Page', 'https://species.wikimedia.org/wiki/Main_Page', 'https://en.wikibooks.org/wiki/Main_Page', 'https://www.wikidata.org/wiki/Wikidata:Main_Page', 'https://wikimania.wikimedia.org/wiki/Wikimania', 'https://en.wikinews.org/wiki/Main_Page', 'https://en.wikiquote.org/wiki/Main_Page', 'https://en.wikisource.org/wiki/Main_Page', 'https://en.wikiversity.org/wiki/Wikiversity:Main_Page', 'https://en.wikivoyage.org/wiki/Main_Page', 'https://en.wiktionary.org/wiki/Wiktionary:Main_Page', 'https://ar.wikipedia.org/wiki/', 'https://bg.wikipedia.org/wiki/', 'https://bs.wikipedia.org/wiki/', 'https://ca.wikipedia.org/wiki/', 'https://cs.wikipedia.org/wiki/', 'https://da.wikipedia.org/wiki/', 'https://de.wikipedia.org/wiki/', 'https://et.wikipedia.org/wiki/', 'https://el.wikipedia.org/wiki/', 'https://es.wikipedia.org/wiki/', 'https://eo.wikipedia.org/wiki/', 'https://eu.wikipedia.org/wiki/', 'https://fa.wikipedia.org/wiki/', 'https://fr.wikipedia.org/wiki/', 'https://gl.wikipedia.org/wiki/', 'https://ko.wikipedia.org/wiki/', 'https://hr.wikipedia.org/wiki/', 'https://id.wikipedia.org/wiki/', 'https://it.wikipedia.org/wiki/', 'https://he.wikipedia.org/wiki/', 'https://ka.wikipedia.org/wiki/', 'https://lv.wikipedia.org/wiki/', 'https://lt.wikipedia.org/wiki/', 'https://hu.wikipedia.org/wiki/', 'https://mk.wikipedia.org/wiki/', 'https://ms.wikipedia.org/wiki/', 'https://nl.wikipedia.org/wiki/', 'https://ja.wikipedia.org/wiki/', 'https://no.wikipedia.org/wiki/', 'https://nn.wikipedia.org/wiki/', 'https://pl.wikipedia.org/wiki/', 'https://pt.wikipedia.org/wiki/', 'https://ro.wikipedia.org/wiki/', 'https://ru.wikipedia.org/wiki/', 'https://simple.wikipedia.org/wiki/', 'https://sk.wikipedia.org/wiki/', 'https://sl.wikipedia.org/wiki/', 'https://sr.wikipedia.org/wiki/', 'https://sh.wikipedia.org/wiki/', 'https://fi.wikipedia.org/wiki/', 'https://sv.wikipedia.org/wiki/', 'https://th.wikipedia.org/wiki/', 'https://tr.wikipedia.org/wiki/', 'https://uk.wikipedia.org/wiki/', 'https://vi.wikipedia.org/wiki/', 'https://zh.wikipedia.org/wiki/', '//en.wikipedia.org/wiki/Wikipedia:Text_of_Creative_Commons_Attribution-ShareAlike_3.0_Unported_License', '//creativecommons.org/licenses/by-sa/3.0/', '//foundation.wikimedia.org/wiki/Terms_of_Use', '//foundation.wikimedia.org/wiki/Privacy_policy', '//www.wikimediafoundation.org/', 'https://foundation.wikimedia.org/wiki/Privacy_policy', '/wiki/Wikipedia:About', '/wiki/Wikipedia:General_disclaimer', '//en.wikipedia.org/wiki/Wikipedia:Contact_us', '//en.m.wikipedia.org/w/index.php?title=Main_Page&mobileaction=toggle_view_mobile', 'https://www.mediawiki.org/wiki/Special:MyLanguage/How_to_contribute', 'https://stats.wikimedia.org/#/en.wikipedia.org', 'https://foundation.wikimedia.org/wiki/Cookie_statement', 'https://wikimediafoundation.org/', 'https://www.mediawiki.org/']\n"
     ]
    }
   ],
   "source": [
    "for item in all_url:\n",
    "    # print(item)\n",
    "    url = item.get('href')\n",
    "    # print(type(url))\n",
    "    results_list.append(url)\n",
    "print(results_list)"
   ]
  },
  {
   "cell_type": "markdown",
   "metadata": {},
   "source": [
    "We can see that there are a lot of links in that list that might reference an internal link, or browsing languages, etc. Do you find a common beginning of references that seem to link to other article pages?\n",
    "We can clean the data by iterating through the elements and use the startswith() string method as a condition to define the pattern that we would like to see in all resulting elements of a string. Append the appropriate results to a list called 'list_clean'.\n"
   ]
  },
  {
   "cell_type": "code",
   "execution_count": 26,
   "metadata": {},
   "outputs": [
    {
     "output_type": "stream",
     "name": "stdout",
     "text": [
      "['Wikipedia', 'Free_content', 'Encyclopedia', 'Help:Introduction_to_Wikipedia', 'Special:Statistics', 'English_language', 'Portal:The_arts', 'Portal:Biography', 'Portal:Geography', 'Portal:History', 'Portal:Mathematics', 'Portal:Science', 'Portal:Society', 'Portal:Technology', 'Wikipedia:Contents/Portals', 'File:Shigeru_Miyamoto_cropped_3_Shigeru_Miyamoto_201911.jpg', 'Super_Mario_World', 'Platform_game', 'Super_Nintendo_Entertainment_System', 'Mario', 'Princess_Peach', 'Bowser_(character)', 'Super_Mario', 'Luig', 'Yosh', 'Takashi_Tezuka', 'Shigeru_Miyamoto', 'List_of_video_games_considered_the_best', 'List_of_best-selling_Super_Nintendo_Entertainment_System_video_games', 'Yoshi%27s_Island', 'Super_Mario_World', 'Sahure', 'The_Boat_Race_2019', 'Thomas_White_(Australian_politician)', 'Wikipedia:Today%27s_featured_article/November_2020', 'Wikipedia:Featured_articles', 'File:Poster_-_Daughter_of_the_Dragon_01.jpg', 'Anna_May_Wong', 'Anna_May_Wong_on_film_and_television', 'Daughter_of_the_Dragon', 'Warner_Oland', 'Keep_Talking_(group)', 'Jos%C3%A9_Antonio_%C3%81lvarez_Lima', 'Canal_Once_(Mexico)', 'The_South%27s_Finest', 'Isabelle_L', '2010_Summer_Youth_Olympics', 'Herr,_wir_bringen_in_Brot_und_Wein', 'Offertory', 'Huub_Oosterhuis', 'Gotteslob_(1975)', 'Gotteslob', 'Cutter_(boat)', 'HMS_Surly_(1806)', 'Pawnee_people', 'Fred_Murree', 'Wikipedia:Recent_additions', 'Help:Your_first_article', 'Template_talk:Did_you_kno', 'COVID-19_pandemic', 'Coronavirus_disease_2019', 'Severe_acute_respiratory_syndrome_coronavirus_2', 'COVID-19_pandemic_by_country_and_territory', 'Impact_of_the_COVID-19_pandemic', 'Portal:Coronavirus_disease_2019', 'File:The_Arecibo_Observatory_20151101114231-0_8e7cc_c7a44aca_orig.jpg', 'National_Science_Foundation', 'Arecibo_Observatory', 'Radio_telescope', 'Hurricane_Iota', 'SpaceX_Crew-1', 'Michael_S._Hopkins', 'Victor_J._Glover', 'Soichi_Noguch', 'Shannon_Walker', 'International_Space_Station', 'Maia_Sandu', '2020_Moldovan_presidential_election', 'President_of_Moldova', 'Portal:Current_events', 'Tigray_conflict', 'Deaths_in_2020', 'Irinej', 'Stan_Trafford', 'John_Poole_(footballer,_born_1932)', 'Margaret_Guilfoyle', 'Arthur_Imperatore_Sr.', 'Paul_Sobol', 'Wikipedia:In_the_news/Candidates', 'November_21', 'Armed_Forces_Day_(Bangladesh)', 'File:John_Diefenbaker,_MP_(1940).jpg', '1386', 'Turco-Mongol_tradition', 'Timur', 'Timur%27s_invasions_of_Georgia', 'Kingdom_of_Georgia', 'Tbilis', 'Bagrat_V_of_Georgia', '1920', 'Irish_War_of_Independence', 'Bloody_Sunday_(1920)', 'Irish_Republican_Army_(1919%E2%80%931922)', 'Cairo_Gang', 'Gaelic_football', 'Croke_Par', '1950', 'Canoe_River_train_crash', 'Valemount', 'John_Diefenbaker', '1970', 'Vietnam_War', 'Operation_Ivory_Coast', 'S%C6%A1n_T%C3%A2y_prison_camp', 'Prisoner_of_war', '2015', '2015_Brussels_lockdown', 'Brussels', 'Henry_Purcell', 'Alexander_Berkman', 'Stan_Musial', 'November_20', 'November_21', 'November_22', 'Wikipedia:Selected_anniversaries/November', 'List_of_days_of_the_year', 'File:Adolf_Mosengel_Dorf_in_den_Berner_Alpen.jpg', 'Adolf_Mosengel', 'Hamburg', 'Westphalia', 'Kunstakademie_D%C3%BCsseldorf', 'Hans_Gude', 'Geneva', 'Alexandre_Calame', 'En_plein_air', 'Bernese_Alps', 'Adolf_Mosengel', 'Template:POTD/2020-11-20', 'Template:POTD/2020-11-19', 'Template:POTD/2020-11-18', 'Wikipedia:Picture_of_the_day/Archive', 'Wikipedia:Featured_pictures', 'Wikipedia:Community_portal', 'Wikipedia:Help_des', 'Wikipedia:Local_Embassy', 'Wikipedia:Reference_des', 'Wikipedia:News', 'Wikipedia:Village_pump', 'Wikimedia_Foundation', 'English_language', 'Special:Statistics', 'Special:MyTal', 'Special:MyContributions', 'Main_Page', 'Talk:Main_Page', 'Main_Page', 'Main_Page', 'Main_Page', 'Wikipedia:Contents', 'Portal:Current_events', 'Special:Random', 'Wikipedia:About', 'Help:Contents', 'Help:Introduction', 'Wikipedia:Community_portal', 'Special:RecentChanges', 'Wikipedia:File_Upload_Wizard', 'Special:WhatLinksHere/Main_Page', 'Special:RecentChangesLinked/Main_Page', 'Wikipedia:File_Upload_Wizard', 'Special:SpecialPages', 'Wikipedia:About', 'Wikipedia:General_disclaimer', 'Wikipedia', 'Free_content', 'Encyclopedia', 'Help:Introduction_to_Wikipedia', 'Special:Statistics', 'English_language', 'Portal:The_arts', 'Portal:Biography', 'Portal:Geography', 'Portal:History', 'Portal:Mathematics', 'Portal:Science', 'Portal:Society', 'Portal:Technology', 'Wikipedia:Contents/Portals', 'File:Shigeru_Miyamoto_cropped_3_Shigeru_Miyamoto_201911.jpg', 'Super_Mario_World', 'Platform_game', 'Super_Nintendo_Entertainment_System', 'Mario', 'Princess_Peach', 'Bowser_(character)', 'Super_Mario', 'Luig', 'Yosh', 'Takashi_Tezuka', 'Shigeru_Miyamoto', 'List_of_video_games_considered_the_best', 'List_of_best-selling_Super_Nintendo_Entertainment_System_video_games', 'Yoshi%27s_Island', 'Super_Mario_World', 'Sahure', 'The_Boat_Race_2019', 'Thomas_White_(Australian_politician)', 'Wikipedia:Today%27s_featured_article/November_2020', 'Wikipedia:Featured_articles', 'File:Poster_-_Daughter_of_the_Dragon_01.jpg', 'Anna_May_Wong', 'Anna_May_Wong_on_film_and_television', 'Daughter_of_the_Dragon', 'Warner_Oland', 'Keep_Talking_(group)', 'Jos%C3%A9_Antonio_%C3%81lvarez_Lima', 'Canal_Once_(Mexico)', 'The_South%27s_Finest', 'Isabelle_L', '2010_Summer_Youth_Olympics', 'Herr,_wir_bringen_in_Brot_und_Wein', 'Offertory', 'Huub_Oosterhuis', 'Gotteslob_(1975)', 'Gotteslob', 'Cutter_(boat)', 'HMS_Surly_(1806)', 'Pawnee_people', 'Fred_Murree', 'Wikipedia:Recent_additions', 'Help:Your_first_article', 'Template_talk:Did_you_kno', 'COVID-19_pandemic', 'Coronavirus_disease_2019', 'Severe_acute_respiratory_syndrome_coronavirus_2', 'COVID-19_pandemic_by_country_and_territory', 'Impact_of_the_COVID-19_pandemic', 'Portal:Coronavirus_disease_2019', 'File:The_Arecibo_Observatory_20151101114231-0_8e7cc_c7a44aca_orig.jpg', 'National_Science_Foundation', 'Arecibo_Observatory', 'Radio_telescope', 'Hurricane_Iota', 'SpaceX_Crew-1', 'Michael_S._Hopkins', 'Victor_J._Glover', 'Soichi_Noguch', 'Shannon_Walker', 'International_Space_Station', 'Maia_Sandu', '2020_Moldovan_presidential_election', 'President_of_Moldova', 'Portal:Current_events', 'Tigray_conflict', 'Deaths_in_2020', 'Irinej', 'Stan_Trafford', 'John_Poole_(footballer,_born_1932)', 'Margaret_Guilfoyle', 'Arthur_Imperatore_Sr.', 'Paul_Sobol', 'Wikipedia:In_the_news/Candidates', 'November_21', 'Armed_Forces_Day_(Bangladesh)', 'File:John_Diefenbaker,_MP_(1940).jpg', '1386', 'Turco-Mongol_tradition', 'Timur', 'Timur%27s_invasions_of_Georgia', 'Kingdom_of_Georgia', 'Tbilis', 'Bagrat_V_of_Georgia', '1920', 'Irish_War_of_Independence', 'Bloody_Sunday_(1920)', 'Irish_Republican_Army_(1919%E2%80%931922)', 'Cairo_Gang', 'Gaelic_football', 'Croke_Par', '1950', 'Canoe_River_train_crash', 'Valemount', 'John_Diefenbaker', '1970', 'Vietnam_War', 'Operation_Ivory_Coast', 'S%C6%A1n_T%C3%A2y_prison_camp', 'Prisoner_of_war', '2015', '2015_Brussels_lockdown', 'Brussels', 'Henry_Purcell', 'Alexander_Berkman', 'Stan_Musial', 'November_20', 'November_21', 'November_22', 'Wikipedia:Selected_anniversaries/November', 'List_of_days_of_the_year', 'File:Adolf_Mosengel_Dorf_in_den_Berner_Alpen.jpg', 'Adolf_Mosengel', 'Hamburg', 'Westphalia', 'Kunstakademie_D%C3%BCsseldorf', 'Hans_Gude', 'Geneva', 'Alexandre_Calame', 'En_plein_air', 'Bernese_Alps', 'Adolf_Mosengel', 'Template:POTD/2020-11-20', 'Template:POTD/2020-11-19', 'Template:POTD/2020-11-18', 'Wikipedia:Picture_of_the_day/Archive', 'Wikipedia:Featured_pictures', 'Wikipedia:Community_portal', 'Wikipedia:Help_des', 'Wikipedia:Local_Embassy', 'Wikipedia:Reference_des', 'Wikipedia:News', 'Wikipedia:Village_pump', 'Wikimedia_Foundation', 'English_language', 'Special:Statistics', 'Special:MyTal', 'Special:MyContributions', 'Main_Page', 'Talk:Main_Page', 'Main_Page', 'Main_Page', 'Main_Page', 'Wikipedia:Contents', 'Portal:Current_events', 'Special:Random', 'Wikipedia:About', 'Help:Contents', 'Help:Introduction', 'Wikipedia:Community_portal', 'Special:RecentChanges', 'Wikipedia:File_Upload_Wizard', 'Special:WhatLinksHere/Main_Page', 'Special:RecentChangesLinked/Main_Page', 'Wikipedia:File_Upload_Wizard', 'Special:SpecialPages', 'Wikipedia:About', 'Wikipedia:General_disclaimer', 'Wikipedia', 'Free_content', 'Encyclopedia', 'Help:Introduction_to_Wikipedia', 'Special:Statistics', 'English_language', 'Portal:The_arts', 'Portal:Biography', 'Portal:Geography', 'Portal:History', 'Portal:Mathematics', 'Portal:Science', 'Portal:Society', 'Portal:Technology', 'Wikipedia:Contents/Portals', 'File:Shigeru_Miyamoto_cropped_3_Shigeru_Miyamoto_201911.jpg', 'Super_Mario_World', 'Platform_game', 'Super_Nintendo_Entertainment_System', 'Mario', 'Princess_Peach', 'Bowser_(character)', 'Super_Mario', 'Luig', 'Yosh', 'Takashi_Tezuka', 'Shigeru_Miyamoto', 'List_of_video_games_considered_the_best', 'List_of_best-selling_Super_Nintendo_Entertainment_System_video_games', 'Yoshi%27s_Island', 'Super_Mario_World', 'Sahure', 'The_Boat_Race_2019', 'Thomas_White_(Australian_politician)', 'Wikipedia:Today%27s_featured_article/November_2020', 'Wikipedia:Featured_articles', 'File:Poster_-_Daughter_of_the_Dragon_01.jpg', 'Anna_May_Wong', 'Anna_May_Wong_on_film_and_television', 'Daughter_of_the_Dragon', 'Warner_Oland', 'Keep_Talking_(group)', 'Jos%C3%A9_Antonio_%C3%81lvarez_Lima', 'Canal_Once_(Mexico)', 'The_South%27s_Finest', 'Isabelle_L', '2010_Summer_Youth_Olympics', 'Herr,_wir_bringen_in_Brot_und_Wein', 'Offertory', 'Huub_Oosterhuis', 'Gotteslob_(1975)', 'Gotteslob', 'Cutter_(boat)', 'HMS_Surly_(1806)', 'Pawnee_people', 'Fred_Murree', 'Wikipedia:Recent_additions', 'Help:Your_first_article', 'Template_talk:Did_you_kno', 'COVID-19_pandemic', 'Coronavirus_disease_2019', 'Severe_acute_respiratory_syndrome_coronavirus_2', 'COVID-19_pandemic_by_country_and_territory', 'Impact_of_the_COVID-19_pandemic', 'Portal:Coronavirus_disease_2019', 'File:The_Arecibo_Observatory_20151101114231-0_8e7cc_c7a44aca_orig.jpg', 'National_Science_Foundation', 'Arecibo_Observatory', 'Radio_telescope', 'Hurricane_Iota', 'SpaceX_Crew-1', 'Michael_S._Hopkins', 'Victor_J._Glover', 'Soichi_Noguch', 'Shannon_Walker', 'International_Space_Station', 'Maia_Sandu', '2020_Moldovan_presidential_election', 'President_of_Moldova', 'Portal:Current_events', 'Tigray_conflict', 'Deaths_in_2020', 'Irinej', 'Stan_Trafford', 'John_Poole_(footballer,_born_1932)', 'Margaret_Guilfoyle', 'Arthur_Imperatore_Sr.', 'Paul_Sobol', 'Wikipedia:In_the_news/Candidates', 'November_21', 'Armed_Forces_Day_(Bangladesh)', 'File:John_Diefenbaker,_MP_(1940).jpg', '1386', 'Turco-Mongol_tradition', 'Timur', 'Timur%27s_invasions_of_Georgia', 'Kingdom_of_Georgia', 'Tbilis', 'Bagrat_V_of_Georgia', '1920', 'Irish_War_of_Independence', 'Bloody_Sunday_(1920)', 'Irish_Republican_Army_(1919%E2%80%931922)', 'Cairo_Gang', 'Gaelic_football', 'Croke_Par', '1950', 'Canoe_River_train_crash', 'Valemount', 'John_Diefenbaker', '1970', 'Vietnam_War', 'Operation_Ivory_Coast', 'S%C6%A1n_T%C3%A2y_prison_camp', 'Prisoner_of_war', '2015', '2015_Brussels_lockdown', 'Brussels', 'Henry_Purcell', 'Alexander_Berkman', 'Stan_Musial', 'November_20', 'November_21', 'November_22', 'Wikipedia:Selected_anniversaries/November', 'List_of_days_of_the_year', 'File:Adolf_Mosengel_Dorf_in_den_Berner_Alpen.jpg', 'Adolf_Mosengel', 'Hamburg', 'Westphalia', 'Kunstakademie_D%C3%BCsseldorf', 'Hans_Gude', 'Geneva', 'Alexandre_Calame', 'En_plein_air', 'Bernese_Alps', 'Adolf_Mosengel', 'Template:POTD/2020-11-20', 'Template:POTD/2020-11-19', 'Template:POTD/2020-11-18', 'Wikipedia:Picture_of_the_day/Archive', 'Wikipedia:Featured_pictures', 'Wikipedia:Community_portal', 'Wikipedia:Help_des', 'Wikipedia:Local_Embassy', 'Wikipedia:Reference_des', 'Wikipedia:News', 'Wikipedia:Village_pump', 'Wikimedia_Foundation', 'English_language', 'Special:Statistics', 'Special:MyTal', 'Special:MyContributions', 'Main_Page', 'Talk:Main_Page', 'Main_Page', 'Main_Page', 'Main_Page', 'Wikipedia:Contents', 'Portal:Current_events', 'Special:Random', 'Wikipedia:About', 'Help:Contents', 'Help:Introduction', 'Wikipedia:Community_portal', 'Special:RecentChanges', 'Wikipedia:File_Upload_Wizard', 'Special:WhatLinksHere/Main_Page', 'Special:RecentChangesLinked/Main_Page', 'Wikipedia:File_Upload_Wizard', 'Special:SpecialPages', 'Wikipedia:About', 'Wikipedia:General_disclaimer', 'Wikipedia', 'Free_content', 'Encyclopedia', 'Help:Introduction_to_Wikipedia', 'Special:Statistics', 'English_language', 'Portal:The_arts', 'Portal:Biography', 'Portal:Geography', 'Portal:History', 'Portal:Mathematics', 'Portal:Science', 'Portal:Society', 'Portal:Technology', 'Wikipedia:Contents/Portals', 'File:Shigeru_Miyamoto_cropped_3_Shigeru_Miyamoto_201911.jpg', 'Super_Mario_World', 'Platform_game', 'Super_Nintendo_Entertainment_System', 'Mario', 'Princess_Peach', 'Bowser_(character)', 'Super_Mario', 'Luig', 'Yosh', 'Takashi_Tezuka', 'Shigeru_Miyamoto', 'List_of_video_games_considered_the_best', 'List_of_best-selling_Super_Nintendo_Entertainment_System_video_games', 'Yoshi%27s_Island', 'Super_Mario_World', 'Sahure', 'The_Boat_Race_2019', 'Thomas_White_(Australian_politician)', 'Wikipedia:Today%27s_featured_article/November_2020', 'Wikipedia:Featured_articles', 'File:Poster_-_Daughter_of_the_Dragon_01.jpg', 'Anna_May_Wong', 'Anna_May_Wong_on_film_and_television', 'Daughter_of_the_Dragon', 'Warner_Oland', 'Keep_Talking_(group)', 'Jos%C3%A9_Antonio_%C3%81lvarez_Lima', 'Canal_Once_(Mexico)', 'The_South%27s_Finest', 'Isabelle_L', '2010_Summer_Youth_Olympics', 'Herr,_wir_bringen_in_Brot_und_Wein', 'Offertory', 'Huub_Oosterhuis', 'Gotteslob_(1975)', 'Gotteslob', 'Cutter_(boat)', 'HMS_Surly_(1806)', 'Pawnee_people', 'Fred_Murree', 'Wikipedia:Recent_additions', 'Help:Your_first_article', 'Template_talk:Did_you_kno', 'COVID-19_pandemic', 'Coronavirus_disease_2019', 'Severe_acute_respiratory_syndrome_coronavirus_2', 'COVID-19_pandemic_by_country_and_territory', 'Impact_of_the_COVID-19_pandemic', 'Portal:Coronavirus_disease_2019', 'File:The_Arecibo_Observatory_20151101114231-0_8e7cc_c7a44aca_orig.jpg', 'National_Science_Foundation', 'Arecibo_Observatory', 'Radio_telescope', 'Hurricane_Iota', 'SpaceX_Crew-1', 'Michael_S._Hopkins', 'Victor_J._Glover', 'Soichi_Noguch', 'Shannon_Walker', 'International_Space_Station', 'Maia_Sandu', '2020_Moldovan_presidential_election', 'President_of_Moldova', 'Portal:Current_events', 'Tigray_conflict', 'Deaths_in_2020', 'Irinej', 'Stan_Trafford', 'John_Poole_(footballer,_born_1932)', 'Margaret_Guilfoyle', 'Arthur_Imperatore_Sr.', 'Paul_Sobol', 'Wikipedia:In_the_news/Candidates', 'November_21', 'Armed_Forces_Day_(Bangladesh)', 'File:John_Diefenbaker,_MP_(1940).jpg', '1386', 'Turco-Mongol_tradition', 'Timur', 'Timur%27s_invasions_of_Georgia', 'Kingdom_of_Georgia', 'Tbilis', 'Bagrat_V_of_Georgia', '1920', 'Irish_War_of_Independence', 'Bloody_Sunday_(1920)', 'Irish_Republican_Army_(1919%E2%80%931922)', 'Cairo_Gang', 'Gaelic_football', 'Croke_Par', '1950', 'Canoe_River_train_crash', 'Valemount', 'John_Diefenbaker', '1970', 'Vietnam_War', 'Operation_Ivory_Coast', 'S%C6%A1n_T%C3%A2y_prison_camp', 'Prisoner_of_war', '2015', '2015_Brussels_lockdown', 'Brussels', 'Henry_Purcell', 'Alexander_Berkman', 'Stan_Musial', 'November_20', 'November_21', 'November_22', 'Wikipedia:Selected_anniversaries/November', 'List_of_days_of_the_year', 'File:Adolf_Mosengel_Dorf_in_den_Berner_Alpen.jpg', 'Adolf_Mosengel', 'Hamburg', 'Westphalia', 'Kunstakademie_D%C3%BCsseldorf', 'Hans_Gude', 'Geneva', 'Alexandre_Calame', 'En_plein_air', 'Bernese_Alps', 'Adolf_Mosengel', 'Template:POTD/2020-11-20', 'Template:POTD/2020-11-19', 'Template:POTD/2020-11-18', 'Wikipedia:Picture_of_the_day/Archive', 'Wikipedia:Featured_pictures', 'Wikipedia:Community_portal', 'Wikipedia:Help_des', 'Wikipedia:Local_Embassy', 'Wikipedia:Reference_des', 'Wikipedia:News', 'Wikipedia:Village_pump', 'Wikimedia_Foundation', 'English_language', 'Special:Statistics', 'Special:MyTal', 'Special:MyContributions', 'Main_Page', 'Talk:Main_Page', 'Main_Page', 'Main_Page', 'Main_Page', 'Wikipedia:Contents', 'Portal:Current_events', 'Special:Random', 'Wikipedia:About', 'Help:Contents', 'Help:Introduction', 'Wikipedia:Community_portal', 'Special:RecentChanges', 'Wikipedia:File_Upload_Wizard', 'Special:WhatLinksHere/Main_Page', 'Special:RecentChangesLinked/Main_Page', 'Wikipedia:File_Upload_Wizard', 'Special:SpecialPages', 'Wikipedia:About', 'Wikipedia:General_disclaimer']\n"
     ]
    }
   ],
   "source": [
    "list_clean = []\n",
    "for item in results_list:\n",
    "    if item.startswith('/wiki'):\n",
    "        list_clean.append(item.strip('/wiki/'))\n",
    "print(list_clean)"
   ]
  },
  {
   "cell_type": "markdown",
   "metadata": {},
   "source": [
    "Let us now try to combine our base url and one of the list elements. Combine the base with the first element of the result list and set the new page as a new request and a new beautiful soup item and print the html code of this article. Work with print statements in between to verify that the URL looks right."
   ]
  },
  {
   "cell_type": "code",
   "execution_count": 28,
   "metadata": {
    "tags": [
     "outputPrepend"
    ]
   },
   "outputs": [
    {
     "output_type": "stream",
     "name": "stdout",
     "text": [
      "tps://nso.wikipedia.org/wiki/Wikipedia\" title=\"Wikipedia – Northern Sotho\" lang=\"nso\" hreflang=\"nso\" class=\"interlanguage-link-target\">Sesotho sa Leboa</a></li><li class=\"interlanguage-link interwiki-tn\"><a href=\"https://tn.wikipedia.org/wiki/Wikipedia\" title=\"Wikipedia – Tswana\" lang=\"tn\" hreflang=\"tn\" class=\"interlanguage-link-target\">Setswana</a></li><li class=\"interlanguage-link interwiki-sq\"><a href=\"https://sq.wikipedia.org/wiki/Wikipedia\" title=\"Wikipedia – Albanian\" lang=\"sq\" hreflang=\"sq\" class=\"interlanguage-link-target\">Shqip</a></li><li class=\"interlanguage-link interwiki-scn\"><a href=\"https://scn.wikipedia.org/wiki/Wikipedia\" title=\"Wikipedia – Sicilian\" lang=\"scn\" hreflang=\"scn\" class=\"interlanguage-link-target\">Sicilianu</a></li><li class=\"interlanguage-link interwiki-si\"><a href=\"https://si.wikipedia.org/wiki/%E0%B7%80%E0%B7%92%E0%B6%9A%E0%B7%92%E0%B6%B4%E0%B7%93%E0%B6%A9%E0%B7%92%E0%B6%BA%E0%B7%8F\" title=\"විකිපීඩියා – Sinhala\" lang=\"si\" hreflang=\"si\" class=\"interlanguage-link-target\">සිංහල</a></li><li class=\"interlanguage-link interwiki-simple\"><a href=\"https://simple.wikipedia.org/wiki/Wikipedia\" title=\"Wikipedia – Simple English\" lang=\"en-simple\" hreflang=\"en-simple\" class=\"interlanguage-link-target\">Simple English</a></li><li class=\"interlanguage-link interwiki-sd\"><a href=\"https://sd.wikipedia.org/wiki/%D9%88%DA%AA%D9%8A%D9%BE%D9%8A%DA%8A%D9%8A%D8%A7\" title=\"وڪيپيڊيا – Sindhi\" lang=\"sd\" hreflang=\"sd\" class=\"interlanguage-link-target\">سنڌي</a></li><li class=\"interlanguage-link interwiki-ss\"><a href=\"https://ss.wikipedia.org/wiki/Wikipedia\" title=\"Wikipedia – Swati\" lang=\"ss\" hreflang=\"ss\" class=\"interlanguage-link-target\">SiSwati</a></li><li class=\"interlanguage-link interwiki-sk\"><a href=\"https://sk.wikipedia.org/wiki/Wikip%C3%A9dia\" title=\"Wikipédia – Slovak\" lang=\"sk\" hreflang=\"sk\" class=\"interlanguage-link-target\">Slovenčina</a></li><li class=\"interlanguage-link interwiki-sl\"><a href=\"https://sl.wikipedia.org/wiki/Wikipedija\" title=\"Wikipedija – Slovenian\" lang=\"sl\" hreflang=\"sl\" class=\"interlanguage-link-target\">Slovenščina</a></li><li class=\"interlanguage-link interwiki-cu\"><a href=\"https://cu.wikipedia.org/wiki/%D0%92%D0%B8%D0%BA%D0%B8%D0%BF%D1%94%D0%B4%D1%97%EA%99%97\" title=\"Википєдїꙗ – Church Slavic\" lang=\"cu\" hreflang=\"cu\" class=\"interlanguage-link-target\">Словѣньскъ / ⰔⰎⰑⰂⰡⰐⰠⰔⰍⰟ</a></li><li class=\"interlanguage-link interwiki-szl\"><a href=\"https://szl.wikipedia.org/wiki/Wikipedyjo\" title=\"Wikipedyjo – Silesian\" lang=\"szl\" hreflang=\"szl\" class=\"interlanguage-link-target\">Ślůnski</a></li><li class=\"interlanguage-link interwiki-so\"><a href=\"https://so.wikipedia.org/wiki/Wikipedia\" title=\"Wikipedia – Somali\" lang=\"so\" hreflang=\"so\" class=\"interlanguage-link-target\">Soomaaliga</a></li><li class=\"interlanguage-link interwiki-ckb\"><a href=\"https://ckb.wikipedia.org/wiki/%D9%88%DB%8C%DA%A9%DB%8C%D9%BE%DB%8C%D8%AF%DB%8C%D8%A7\" title=\"ویکیپیدیا – Central Kurdish\" lang=\"ckb\" hreflang=\"ckb\" class=\"interlanguage-link-target\">کوردی</a></li><li class=\"interlanguage-link interwiki-srn\"><a href=\"https://srn.wikipedia.org/wiki/Wikipedia\" title=\"Wikipedia – Sranan Tongo\" lang=\"srn\" hreflang=\"srn\" class=\"interlanguage-link-target\">Sranantongo</a></li><li class=\"interlanguage-link interwiki-sr\"><a href=\"https://sr.wikipedia.org/wiki/%D0%92%D0%B8%D0%BA%D0%B8%D0%BF%D0%B5%D0%B4%D0%B8%D1%98%D0%B0\" title=\"Википедија – Serbian\" lang=\"sr\" hreflang=\"sr\" class=\"interlanguage-link-target\">Српски / srpski</a></li><li class=\"interlanguage-link interwiki-sh\"><a href=\"https://sh.wikipedia.org/wiki/Wikipedia\" title=\"Wikipedia – Serbo-Croatian\" lang=\"sh\" hreflang=\"sh\" class=\"interlanguage-link-target\">Srpskohrvatski / српскохрватски</a></li><li class=\"interlanguage-link interwiki-su\"><a href=\"https://su.wikipedia.org/wiki/Wikip%C3%A9dia\" title=\"Wikipédia – Sundanese\" lang=\"su\" hreflang=\"su\" class=\"interlanguage-link-target\">Sunda</a></li><li class=\"interlanguage-link interwiki-fi\"><a href=\"https://fi.wikipedia.org/wiki/Wikipedia\" title=\"Wikipedia – Finnish\" lang=\"fi\" hreflang=\"fi\" class=\"interlanguage-link-target\">Suomi</a></li><li class=\"interlanguage-link interwiki-sv\"><a href=\"https://sv.wikipedia.org/wiki/Wikipedia\" title=\"Wikipedia – Swedish\" lang=\"sv\" hreflang=\"sv\" class=\"interlanguage-link-target\">Svenska</a></li><li class=\"interlanguage-link interwiki-tl\"><a href=\"https://tl.wikipedia.org/wiki/Wikipedia\" title=\"Wikipedia – Tagalog\" lang=\"tl\" hreflang=\"tl\" class=\"interlanguage-link-target\">Tagalog</a></li><li class=\"interlanguage-link interwiki-ta\"><a href=\"https://ta.wikipedia.org/wiki/%E0%AE%B5%E0%AE%BF%E0%AE%95%E0%AF%8D%E0%AE%95%E0%AE%BF%E0%AE%AA%E0%AF%8D%E0%AE%AA%E0%AF%80%E0%AE%9F%E0%AE%BF%E0%AE%AF%E0%AE%BE\" title=\"விக்கிப்பீடியா – Tamil\" lang=\"ta\" hreflang=\"ta\" class=\"interlanguage-link-target\">தமிழ்</a></li><li class=\"interlanguage-link interwiki-kab\"><a href=\"https://kab.wikipedia.org/wiki/Wikipedia\" title=\"Wikipedia – Kabyle\" lang=\"kab\" hreflang=\"kab\" class=\"interlanguage-link-target\">Taqbaylit</a></li><li class=\"interlanguage-link interwiki-roa-tara\"><a href=\"https://roa-tara.wikipedia.org/wiki/Uicchip%C3%A8die\" title=\"Uicchipèdie – Tarantino\" lang=\"nap-x-tara\" hreflang=\"nap-x-tara\" class=\"interlanguage-link-target\">Tarandíne</a></li><li class=\"interlanguage-link interwiki-tt\"><a href=\"https://tt.wikipedia.org/wiki/%D0%92%D0%B8%D0%BA%D0%B8%D0%BF%D0%B5%D0%B4%D0%B8%D1%8F\" title=\"Википедия – Tatar\" lang=\"tt\" hreflang=\"tt\" class=\"interlanguage-link-target\">Татарча/tatarça</a></li><li class=\"interlanguage-link interwiki-shn\"><a href=\"https://shn.wikipedia.org/wiki/%E1%80%9D%E1%80%AE%E1%82%87%E1%81%B6%E1%80%AE%E1%82%87%E1%81%BD%E1%80%AE%E1%80%B8%E1%80%90%E1%80%AE%E1%80%B8%E1%80%9A%E1%82%83%E1%80%B8\" title=\"ဝီႇၶီႇၽီးတီးယႃး – Shan\" lang=\"shn\" hreflang=\"shn\" class=\"interlanguage-link-target\">ၽႃႇသႃႇတႆး </a></li><li class=\"interlanguage-link interwiki-te\"><a href=\"https://te.wikipedia.org/wiki/%E0%B0%B5%E0%B0%BF%E0%B0%95%E0%B1%80%E0%B0%AA%E0%B1%80%E0%B0%A1%E0%B0%BF%E0%B0%AF%E0%B0%BE\" title=\"వికీపీడియా – Telugu\" lang=\"te\" hreflang=\"te\" class=\"interlanguage-link-target\">తెలుగు</a></li><li class=\"interlanguage-link interwiki-tet\"><a href=\"https://tet.wikipedia.org/wiki/Wikip%C3%A9dia\" title=\"Wikipédia – Tetum\" lang=\"tet\" hreflang=\"tet\" class=\"interlanguage-link-target\">Tetun</a></li><li class=\"interlanguage-link interwiki-th badge-Q17437798 badge-goodarticle\" title=\"good article badge\"><a href=\"https://th.wikipedia.org/wiki/%E0%B8%A7%E0%B8%B4%E0%B8%81%E0%B8%B4%E0%B8%9E%E0%B8%B5%E0%B9%80%E0%B8%94%E0%B8%B5%E0%B8%A2\" title=\"วิกิพีเดีย – Thai\" lang=\"th\" hreflang=\"th\" class=\"interlanguage-link-target\">ไทย</a></li><li class=\"interlanguage-link interwiki-ti\"><a href=\"https://ti.wikipedia.org/wiki/%E1%8B%8A%E1%8A%AA%E1%8D%90%E1%8B%B5%E1%8B%AB\" title=\"ዊኪፐድያ – Tigrinya\" lang=\"ti\" hreflang=\"ti\" class=\"interlanguage-link-target\">ትግርኛ</a></li><li class=\"interlanguage-link interwiki-tg\"><a href=\"https://tg.wikipedia.org/wiki/%D0%92%D0%B8%D0%BA%D0%B8%D0%BF%D0%B5%D0%B4%D0%B8%D1%8F\" title=\"Википедия – Tajik\" lang=\"tg\" hreflang=\"tg\" class=\"interlanguage-link-target\">Тоҷикӣ</a></li><li class=\"interlanguage-link interwiki-chr\"><a href=\"https://chr.wikipedia.org/wiki/%E1%8F%AB%E1%8E%A9%E1%8F%87%E1%8F%97%E1%8F%AF\" title=\"ᏫᎩᏇᏗᏯ – Cherokee\" lang=\"chr\" hreflang=\"chr\" class=\"interlanguage-link-target\">ᏣᎳᎩ</a></li><li class=\"interlanguage-link interwiki-chy\"><a href=\"https://chy.wikipedia.org/wiki/Vekepete%27a\" title=\"Vekepete&#039;a – Cheyenne\" lang=\"chy\" hreflang=\"chy\" class=\"interlanguage-link-target\">Tsetsêhestâhese</a></li><li class=\"interlanguage-link interwiki-ve\"><a href=\"https://ve.wikipedia.org/wiki/Wikipedia\" title=\"Wikipedia – Venda\" lang=\"ve\" hreflang=\"ve\" class=\"interlanguage-link-target\">Tshivenda</a></li><li class=\"interlanguage-link interwiki-tcy\"><a href=\"https://tcy.wikipedia.org/wiki/%E0%B2%B5%E0%B2%BF%E0%B2%95%E0%B2%BF%E0%B2%AA%E0%B3%80%E0%B2%A1%E0%B2%BF%E0%B2%AF\" title=\"ವಿಕಿಪೀಡಿಯ – Tulu\" lang=\"tcy\" hreflang=\"tcy\" class=\"interlanguage-link-target\">ತುಳು</a></li><li class=\"interlanguage-link interwiki-tr\"><a href=\"https://tr.wikipedia.org/wiki/Vikipedi\" title=\"Vikipedi – Turkish\" lang=\"tr\" hreflang=\"tr\" class=\"interlanguage-link-target\">Türkçe</a></li><li class=\"interlanguage-link interwiki-tk\"><a href=\"https://tk.wikipedia.org/wiki/Wikipedi%C3%BDa\" title=\"Wikipediýa – Turkmen\" lang=\"tk\" hreflang=\"tk\" class=\"interlanguage-link-target\">Türkmençe</a></li><li class=\"interlanguage-link interwiki-tw\"><a href=\"https://tw.wikipedia.org/wiki/Wikipedia\" title=\"Wikipedia – Twi\" lang=\"tw\" hreflang=\"tw\" class=\"interlanguage-link-target\">Twi</a></li><li class=\"interlanguage-link interwiki-tyv\"><a href=\"https://tyv.wikipedia.org/wiki/%D0%92%D0%B8%D0%BA%D0%B8%D0%BF%D0%B5%D0%B4%D0%B8%D1%8F\" title=\"Википедия – Tuvinian\" lang=\"tyv\" hreflang=\"tyv\" class=\"interlanguage-link-target\">Тыва дыл</a></li><li class=\"interlanguage-link interwiki-udm\"><a href=\"https://udm.wikipedia.org/wiki/%D0%92%D0%B8%D0%BA%D0%B8%D0%BF%D0%B5%D0%B4%D0%B8%D1%8F\" title=\"Википедия – Udmurt\" lang=\"udm\" hreflang=\"udm\" class=\"interlanguage-link-target\">Удмурт</a></li><li class=\"interlanguage-link interwiki-bug\"><a href=\"https://bug.wikipedia.org/wiki/Wikipedia\" title=\"Wikipedia – Buginese\" lang=\"bug\" hreflang=\"bug\" class=\"interlanguage-link-target\">ᨅᨔ ᨕᨘᨁᨗ</a></li><li class=\"interlanguage-link interwiki-uk\"><a href=\"https://uk.wikipedia.org/wiki/%D0%92%D1%96%D0%BA%D1%96%D0%BF%D0%B5%D0%B4%D1%96%D1%8F\" title=\"Вікіпедія – Ukrainian\" lang=\"uk\" hreflang=\"uk\" class=\"interlanguage-link-target\">Українська</a></li><li class=\"interlanguage-link interwiki-ur\"><a href=\"https://ur.wikipedia.org/wiki/%D9%88%DB%8C%DA%A9%DB%8C%D9%BE%DB%8C%DA%88%DB%8C%D8%A7\" title=\"ویکیپیڈیا – Urdu\" lang=\"ur\" hreflang=\"ur\" class=\"interlanguage-link-target\">اردو</a></li><li class=\"interlanguage-link interwiki-ug\"><a href=\"https://ug.wikipedia.org/wiki/%DB%8B%D9%89%D9%83%D9%89%D9%BE%DB%90%D8%AF%D9%89%D9%8A%DB%95\" title=\"ۋىكىپېدىيە – Uyghur\" lang=\"ug\" hreflang=\"ug\" class=\"interlanguage-link-target\">ئۇيغۇرچە / Uyghurche</a></li><li class=\"interlanguage-link interwiki-za\"><a href=\"https://za.wikipedia.org/wiki/Veizgiek_Bakgoh\" title=\"Veizgiek Bakgoh – Zhuang\" lang=\"za\" hreflang=\"za\" class=\"interlanguage-link-target\">Vahcuengh</a></li><li class=\"interlanguage-link interwiki-vec\"><a href=\"https://vec.wikipedia.org/wiki/Wikipedia\" title=\"Wikipedia – Venetian\" lang=\"vec\" hreflang=\"vec\" class=\"interlanguage-link-target\">Vèneto</a></li><li class=\"interlanguage-link interwiki-vep\"><a href=\"https://vep.wikipedia.org/wiki/Vikipedii\" title=\"Vikipedii – Veps\" lang=\"vep\" hreflang=\"vep\" class=\"interlanguage-link-target\">Vepsän kel’</a></li><li class=\"interlanguage-link interwiki-vi\"><a href=\"https://vi.wikipedia.org/wiki/Wikipedia\" title=\"Wikipedia – Vietnamese\" lang=\"vi\" hreflang=\"vi\" class=\"interlanguage-link-target\">Tiếng Việt</a></li><li class=\"interlanguage-link interwiki-vo\"><a href=\"https://vo.wikipedia.org/wiki/V%C3%BCkiped\" title=\"Vükiped – Volapük\" lang=\"vo\" hreflang=\"vo\" class=\"interlanguage-link-target\">Volapük</a></li><li class=\"interlanguage-link interwiki-fiu-vro\"><a href=\"https://fiu-vro.wikipedia.org/wiki/Vikipeedi%C3%A4\" title=\"Vikipeediä – Võro\" lang=\"vro\" hreflang=\"vro\" class=\"interlanguage-link-target\">Võro</a></li><li class=\"interlanguage-link interwiki-wa\"><a href=\"https://wa.wikipedia.org/wiki/Wikipedia\" title=\"Wikipedia – Walloon\" lang=\"wa\" hreflang=\"wa\" class=\"interlanguage-link-target\">Walon</a></li><li class=\"interlanguage-link interwiki-zh-classical\"><a href=\"https://zh-classical.wikipedia.org/wiki/%E7%B6%AD%E5%9F%BA%E5%A4%A7%E5%85%B8\" title=\"維基大典 – Classical Chinese\" lang=\"lzh\" hreflang=\"lzh\" class=\"interlanguage-link-target\">文言</a></li><li class=\"interlanguage-link interwiki-vls\"><a href=\"https://vls.wikipedia.org/wiki/Wikipedia\" title=\"Wikipedia – West Flemish\" lang=\"vls\" hreflang=\"vls\" class=\"interlanguage-link-target\">West-Vlams</a></li><li class=\"interlanguage-link interwiki-war\"><a href=\"https://war.wikipedia.org/wiki/Wikipedia\" title=\"Wikipedia – Waray\" lang=\"war\" hreflang=\"war\" class=\"interlanguage-link-target\">Winaray</a></li><li class=\"interlanguage-link interwiki-wo\"><a href=\"https://wo.wikipedia.org/wiki/Wikipedia\" title=\"Wikipedia – Wolof\" lang=\"wo\" hreflang=\"wo\" class=\"interlanguage-link-target\">Wolof</a></li><li class=\"interlanguage-link interwiki-wuu\"><a href=\"https://wuu.wikipedia.org/wiki/%E7%BB%B4%E5%9F%BA%E7%99%BE%E7%A7%91\" title=\"维基百科 – Wu Chinese\" lang=\"wuu\" hreflang=\"wuu\" class=\"interlanguage-link-target\">吴语</a></li><li class=\"interlanguage-link interwiki-ts\"><a href=\"https://ts.wikipedia.org/wiki/Wikipediya\" title=\"Wikipediya – Tsonga\" lang=\"ts\" hreflang=\"ts\" class=\"interlanguage-link-target\">Xitsonga</a></li><li class=\"interlanguage-link interwiki-yi\"><a href=\"https://yi.wikipedia.org/wiki/%D7%95%D7%95%D7%99%D7%A7%D7%99%D7%A4%D7%A2%D7%93%D7%99%D7%A2\" title=\"וויקיפעדיע – Yiddish\" lang=\"yi\" hreflang=\"yi\" class=\"interlanguage-link-target\">ייִדיש</a></li><li class=\"interlanguage-link interwiki-yo\"><a href=\"https://yo.wikipedia.org/wiki/Wikipedia\" title=\"Wikipedia – Yoruba\" lang=\"yo\" hreflang=\"yo\" class=\"interlanguage-link-target\">Yorùbá</a></li><li class=\"interlanguage-link interwiki-zh-yue\"><a href=\"https://zh-yue.wikipedia.org/wiki/%E7%B6%AD%E5%9F%BA%E7%99%BE%E7%A7%91\" title=\"維基百科 – Cantonese\" lang=\"yue\" hreflang=\"yue\" class=\"interlanguage-link-target\">粵語</a></li><li class=\"interlanguage-link interwiki-diq\"><a href=\"https://diq.wikipedia.org/wiki/Wikipediya\" title=\"Wikipediya – Zazaki\" lang=\"diq\" hreflang=\"diq\" class=\"interlanguage-link-target\">Zazaki</a></li><li class=\"interlanguage-link interwiki-zea\"><a href=\"https://zea.wikipedia.org/wiki/Wikipedia\" title=\"Wikipedia – Zeelandic\" lang=\"zea\" hreflang=\"zea\" class=\"interlanguage-link-target\">Zeêuws</a></li><li class=\"interlanguage-link interwiki-bat-smg\"><a href=\"https://bat-smg.wikipedia.org/wiki/Vikiped%C4%97j%C4%97\" title=\"Vikipedėjė – Samogitian\" lang=\"sgs\" hreflang=\"sgs\" class=\"interlanguage-link-target\">Žemaitėška</a></li><li class=\"interlanguage-link interwiki-zh\"><a href=\"https://zh.wikipedia.org/wiki/%E7%BB%B4%E5%9F%BA%E7%99%BE%E7%A7%91\" title=\"维基百科 – Chinese\" lang=\"zh\" hreflang=\"zh\" class=\"interlanguage-link-target\">中文</a></li></ul>\n\t\t<div class=\"after-portlet after-portlet-lang\"><span class=\"wb-langlinks-edit wb-langlinks-link\"><a href=\"https://www.wikidata.org/wiki/Special:EntityPage/Q52#sitelinks-wikipedia\" title=\"Edit interlanguage links\" class=\"wbc-editpage\">Edit links</a></span></div>\n\t</div>\n</nav>\n\n</div>\n\n</div>\n<footer id=\"footer\" class=\"mw-footer\" role=\"contentinfo\" >\n\t<ul id=\"footer-info\" >\n\t<li id=\"footer-info-lastmod\"> This page was last edited on 19 November 2020, at 20:14<span class=\"anonymous-show\">&#160;(UTC)</span>.</li>\n\t<li id=\"footer-info-copyright\">Text is available under the <a rel=\"license\" href=\"//en.wikipedia.org/wiki/Wikipedia:Text_of_Creative_Commons_Attribution-ShareAlike_3.0_Unported_License\">Creative Commons Attribution-ShareAlike License</a><a rel=\"license\" href=\"//creativecommons.org/licenses/by-sa/3.0/\" style=\"display:none;\"></a>;\nadditional terms may apply.  By using this site, you agree to the <a href=\"//foundation.wikimedia.org/wiki/Terms_of_Use\">Terms of Use</a> and <a href=\"//foundation.wikimedia.org/wiki/Privacy_policy\">Privacy Policy</a>. Wikipedia® is a registered trademark of the <a href=\"//www.wikimediafoundation.org/\">Wikimedia Foundation, Inc.</a>, a non-profit organization.</li>\n</ul>\n\n\t<ul id=\"footer-places\" >\n\t<li id=\"footer-places-privacy\"><a href=\"https://foundation.wikimedia.org/wiki/Privacy_policy\" class=\"extiw\" title=\"wmf:Privacy policy\">Privacy policy</a></li>\n\t<li id=\"footer-places-about\"><a href=\"/wiki/Wikipedia:About\" title=\"Wikipedia:About\">About Wikipedia</a></li>\n\t<li id=\"footer-places-disclaimer\"><a href=\"/wiki/Wikipedia:General_disclaimer\" title=\"Wikipedia:General disclaimer\">Disclaimers</a></li>\n\t<li id=\"footer-places-contact\"><a href=\"//en.wikipedia.org/wiki/Wikipedia:Contact_us\">Contact Wikipedia</a></li>\n\t<li id=\"footer-places-mobileview\"><a href=\"//en.m.wikipedia.org/w/index.php?title=Wikipedia&amp;mobileaction=toggle_view_mobile\" class=\"noprint stopMobileRedirectToggle\">Mobile view</a></li>\n\t<li id=\"footer-places-developers\"><a href=\"https://www.mediawiki.org/wiki/Special:MyLanguage/How_to_contribute\">Developers</a></li>\n\t<li id=\"footer-places-statslink\"><a href=\"https://stats.wikimedia.org/#/en.wikipedia.org\">Statistics</a></li>\n\t<li id=\"footer-places-cookiestatement\"><a href=\"https://foundation.wikimedia.org/wiki/Cookie_statement\">Cookie statement</a></li>\n</ul>\n\n\t<ul id=\"footer-icons\" class=\"noprint\">\n\t<li id=\"footer-copyrightico\"><a href=\"https://wikimediafoundation.org/\"><img src=\"/static/images/footer/wikimedia-button.png\" srcset=\"/static/images/footer/wikimedia-button-1.5x.png 1.5x, /static/images/footer/wikimedia-button-2x.png 2x\" width=\"88\" height=\"31\" alt=\"Wikimedia Foundation\" loading=\"lazy\" /></a></li>\n\t<li id=\"footer-poweredbyico\"><a href=\"https://www.mediawiki.org/\"><img src=\"/static/images/footer/poweredby_mediawiki_88x31.png\" alt=\"Powered by MediaWiki\" srcset=\"/static/images/footer/poweredby_mediawiki_132x47.png 1.5x, /static/images/footer/poweredby_mediawiki_176x62.png 2x\" width=\"88\" height=\"31\" loading=\"lazy\"/></a></li>\n</ul>\n\n\t<div style=\"clear: both;\"></div>\n</footer>\n\n\n<script>(RLQ=window.RLQ||[]).push(function(){mw.config.set({\"wgPageParseReport\":{\"limitreport\":{\"cputime\":\"4.532\",\"walltime\":\"5.187\",\"ppvisitednodes\":{\"value\":27023,\"limit\":1000000},\"postexpandincludesize\":{\"value\":863692,\"limit\":2097152},\"templateargumentsize\":{\"value\":25364,\"limit\":2097152},\"expansiondepth\":{\"value\":21,\"limit\":40},\"expensivefunctioncount\":{\"value\":41,\"limit\":500},\"unstrip-depth\":{\"value\":1,\"limit\":20},\"unstrip-size\":{\"value\":1078103,\"limit\":5000000},\"entityaccesscount\":{\"value\":1,\"limit\":400},\"timingprofile\":[\"100.00% 4308.546      1 -total\",\" 42.69% 1839.306      2 Template:Reflist\",\" 13.77%  593.171    143 Template:Cite_web\",\" 13.49%  581.010    107 Template:Cite_news\",\"  6.69%  288.327      4 Template:Infobox\",\"  5.53%  238.077      1 Template:Infobox_website\",\"  5.11%  220.024      1 Template:Pie_chart\",\"  4.38%  188.831    103 Template:NUMBEROF\",\"  4.32%  185.960     34 Template:Cite_journal\",\"  4.28%  184.294     43 Template:Wikipedia_rank_by_size/WP\"]},\"scribunto\":{\"limitreport-timeusage\":{\"value\":\"2.473\",\"limit\":\"10.000\"},\"limitreport-memusage\":{\"value\":27964450,\"limit\":52428800},\"limitreport-profile\":[[\"?\",\"360\",\"13.6\"],[\"Scribunto_LuaSandboxCallback::gsub\",\"280\",\"10.6\"],[\"recursiveClone \\u003CmwInit.lua:41\\u003E\",\"260\",\"9.8\"],[\"dataWrapper \\u003Cmw.lua:661\\u003E\",\"180\",\"6.8\"],[\"Scribunto_LuaSandboxCallback::callParserFunction\",\"160\",\"6.1\"],[\"Scribunto_LuaSandboxCallback::match\",\"140\",\"5.3\"],[\"Scribunto_LuaSandboxCallback::get\",\"100\",\"3.8\"],[\"is_alias_used \\u003CModule:Citation/CS1/Utilities:196\\u003E\",\"80\",\"3.0\"],[\"Scribunto_LuaSandboxCallback::find\",\"80\",\"3.0\"],[\"Scribunto_LuaSandboxCallback::anchorEncode\",\"80\",\"3.0\"],[\"[others]\",\"920\",\"34.8\"]]},\"cachereport\":{\"origin\":\"mw1366\",\"timestamp\":\"20201120062931\",\"ttl\":3600,\"transientcontent\":true}}});});</script>\n<script type=\"application/ld+json\">{\"@context\":\"https:\\/\\/schema.org\",\"@type\":\"Article\",\"name\":\"Wikipedia\",\"url\":\"https:\\/\\/en.wikipedia.org\\/wiki\\/Wikipedia\",\"sameAs\":\"http:\\/\\/www.wikidata.org\\/entity\\/Q52\",\"mainEntity\":\"http:\\/\\/www.wikidata.org\\/entity\\/Q52\",\"author\":{\"@type\":\"Organization\",\"name\":\"Contributors to Wikimedia projects\"},\"publisher\":{\"@type\":\"Organization\",\"name\":\"Wikimedia Foundation, Inc.\",\"logo\":{\"@type\":\"ImageObject\",\"url\":\"https:\\/\\/www.wikimedia.org\\/static\\/images\\/wmf-hor-googpub.png\"}},\"datePublished\":\"2001-11-06T01:16:13Z\",\"dateModified\":\"2020-11-19T20:14:48Z\",\"image\":\"https:\\/\\/upload.wikimedia.org\\/wikipedia\\/en\\/8\\/80\\/Wikipedia-logo-v2.svg\",\"headline\":\"free online encyclopedia that anyone can edit\"}</script>\n<script>(RLQ=window.RLQ||[]).push(function(){mw.config.set({\"wgBackendResponseTime\":303,\"wgHostname\":\"mw1395\"});});</script>\n</body></html>\n"
     ]
    }
   ],
   "source": [
    "request_test = requests.get(base_url + list_clean[0])\n",
    "html_test = request_test.text\n",
    "print(html_test)\n",
    "soup_test = BeautifulSoup(html_test, 'html.parser')"
   ]
  },
  {
   "cell_type": "markdown",
   "metadata": {},
   "source": [
    "This is really exciting. We have created an URL conditional on another URL. To wrap things up, we will scrape all links of all links from Wikipedias main page (we will limit this to the first 10 links from the main page, due to Jupyter's memory settings, otherwise it might crash). So, more intuitively, you will proceed in the following steps:\n",
    "\n",
    "1. set the soup element for the wikipedia main page\n",
    "\n",
    "2. define a base URL\n",
    "\n",
    "3. retrieve all link elements from the main page and append the href portion to a result list\n",
    "\n",
    "4. clean the links so you can combine the base URL with the relative links\n",
    "\n",
    "5. limit the list to the first 10 elements to avoid the Jupyter kernel from crashing\n",
    "`link_list_clean = link_list_clean[:10]`\n",
    "\n",
    "6. set a new soup element for every element in the links from the main page and retrieve all links (full URLs!) from these article sites - this might take a couple of seconds. Important: do not scrape one level deeper (links within links within links), or your scraper might run a couple of days or more likely, will crash - exponentional growth of processing complexity.\n",
    "\n",
    "7. save the links to an overall result dictionary with key: depth of scraping (base root is 0, one level deeper is 1) and value: all links retrieved from that level of scraping within a list.\n"
   ]
  },
  {
   "cell_type": "code",
   "execution_count": 52,
   "metadata": {
    "tags": [
     "outputPrepend"
    ]
   },
   "outputs": [
    {
     "output_type": "stream",
     "name": "stdout",
     "text": [
      "ikipedia.org/wiki/Eternal_return', 'https://en.wikipedia.org/wiki/Eternalism_(philosophy_of_time)', 'https://en.wikipedia.org/wiki/Event_(philosophy)', 'https://en.wikipedia.org/wiki/Multiple_time_dimensions', 'https://en.wikipedia.org/wiki/Perdurantism', 'https://en.wikipedia.org/wiki/Philosophical_presentism', 'https://en.wikipedia.org/wiki/Static_interpretation_of_time', 'https://en.wikipedia.org/wiki/Temporal_finitism', 'https://en.wikipedia.org/wiki/Temporal_parts', 'https://en.wikipedia.org/wiki/The_Unreality_of_Time', 'https://en.wikipedia.org/wiki/Accounting_period', 'https://en.wikipedia.org/wiki/Chronemics', 'https://en.wikipedia.org/wiki/Fiscal_year', 'https://en.wikipedia.org/wiki/Generation_time', 'https://en.wikipedia.org/wiki/Mental_chronometry', 'https://en.wikipedia.org/wiki/Duration_(music)', 'https://en.wikipedia.org/wiki/Procrastination', 'https://en.wikipedia.org/wiki/Punctuality', 'https://en.wikipedia.org/wiki/Temporal_database', 'https://en.wikipedia.org/wiki/Term_(time)', 'https://en.wikipedia.org/wiki/Time_discipline', 'https://en.wikipedia.org/wiki/Time_management', 'https://en.wikipedia.org/wiki/Time_perception', 'https://en.wikipedia.org/wiki/Specious_present', 'https://en.wikipedia.org/wiki/Time-tracking_software', 'https://en.wikipedia.org/wiki/Time-use_research', 'https://en.wikipedia.org/wiki/Time-based_currency', 'https://en.wikipedia.org/wiki/Time_value_of_money', 'https://en.wikipedia.org/wiki/Time_cloc', 'https://en.wikipedia.org/wiki/Timesheet', 'https://en.wikipedia.org/wiki/Yesterday_(time)', 'https://en.wikipedia.org/wiki/Present', 'https://en.wikipedia.org/wiki/Tomorrow_(time)', 'https://en.wikipedia.org/wiki/Geology', 'https://en.wikipedia.org/wiki/Geologic_time_scale', 'https://en.wikipedia.org/wiki/Age_(geology)', 'https://en.wikipedia.org/wiki/Chronozone', 'https://en.wikipedia.org/wiki/Eon_(geology)', 'https://en.wikipedia.org/wiki/Epoch_(geology)', 'https://en.wikipedia.org/wiki/Era_(geology)', 'https://en.wikipedia.org/wiki/Geological_period', 'https://en.wikipedia.org/wiki/Geochronology', 'https://en.wikipedia.org/wiki/Geological_history_of_Earth', 'https://en.wikipedia.org/wiki/Time_in_physics', 'https://en.wikipedia.org/wiki/Absolute_space_and_time', 'https://en.wikipedia.org/wiki/Arrow_of_time', 'https://en.wikipedia.org/wiki/Chronon', 'https://en.wikipedia.org/wiki/Coordinate_time', 'https://en.wikipedia.org/wiki/Imaginary_time', 'https://en.wikipedia.org/wiki/Planck_epoch', 'https://en.wikipedia.org/wiki/Planck_time', 'https://en.wikipedia.org/wiki/Proper_time', 'https://en.wikipedia.org/wiki/Rate_(mathematics)', 'https://en.wikipedia.org/wiki/Spacetime', 'https://en.wikipedia.org/wiki/Theory_of_relativity', 'https://en.wikipedia.org/wiki/Time_dilation', 'https://en.wikipedia.org/wiki/Gravitational_time_dilation', 'https://en.wikipedia.org/wiki/Time_domain', 'https://en.wikipedia.org/wiki/Time_translation_symmetry', 'https://en.wikipedia.org/wiki/T-symmetry', 'https://en.wikipedia.org/wiki/Chronological_dating', 'https://en.wikipedia.org/wiki/Chronobiology', 'https://en.wikipedia.org/wiki/Circadian_rhythm', 'https://en.wikipedia.org/wiki/Dating_methodologies_in_archaeology', 'https://en.wikipedia.org/wiki/Time_geography', 'https://en.wikipedia.org/wiki/Carpe_diem', 'https://en.wikipedia.org/wiki/Clock_position', 'https://en.wikipedia.org/wiki/Space', 'https://en.wikipedia.org/wiki/System_time', 'https://en.wikipedia.org/wiki/Tempus_fugit', 'https://en.wikipedia.org/wiki/Time_capsule', 'https://en.wikipedia.org/wiki/Time_complexity', 'https://en.wikipedia.org/wiki/Time_signature', 'https://en.wikipedia.org/wiki/Time_travel', 'https://en.wikipedia.org/wiki/Category:Time', 'https://en.wikipedia.org/wiki/Template:Chronology', 'https://en.wikipedia.org/wiki/Template_talk:Chronology', 'https://en.wikipedia.org/wiki/Chronology', 'https://en.wikipedia.org/wiki/Archaeology', 'https://en.wikipedia.org/wiki/Astronomy', 'https://en.wikipedia.org/wiki/Geology', 'https://en.wikipedia.org/wiki/History', 'https://en.wikipedia.org/wiki/Big_History', 'https://en.wikipedia.org/wiki/Paleontology', 'https://en.wikipedia.org/wiki/Time', 'https://en.wikipedia.org/wiki/Periodization', 'https://en.wikipedia.org/wiki/Era', 'https://en.wikipedia.org/wiki/Epoch_(reference_date)', 'https://en.wikipedia.org/wiki/Calendar_era', 'https://en.wikipedia.org/wiki/Holocene_calendar', 'https://en.wikipedia.org/wiki/Ab_urbe_condita', 'https://en.wikipedia.org/wiki/Anno_Domin', 'https://en.wikipedia.org/wiki/Common_Era', 'https://en.wikipedia.org/wiki/Anno_Mund', 'https://en.wikipedia.org/wiki/Bosporan_era', 'https://en.wikipedia.org/wiki/Byzantine_calendar', 'https://en.wikipedia.org/wiki/Seleucid_era', 'https://en.wikipedia.org/wiki/Era_of_Caesar_(Iberian_Peninsula)', 'https://en.wikipedia.org/wiki/Before_Present', 'https://en.wikipedia.org/wiki/Islamic_calendar', 'https://en.wikipedia.org/wiki/Egyptian_chronology', 'https://en.wikipedia.org/wiki/Sothic_cycle', 'https://en.wikipedia.org/wiki/Hindu_units_of_time', 'https://en.wikipedia.org/wiki/Yuga', 'https://en.wikipedia.org/wiki/Mesoamerican_calendars', 'https://en.wikipedia.org/wiki/Mesoamerican_Long_Count_calendar', 'https://en.wikipedia.org/wiki/Maya_calendar#Short_Count', 'https://en.wikipedia.org/wiki/Tzolk%27in', 'https://en.wikipedia.org/wiki/Haab%27', 'https://en.wikipedia.org/wiki/Regnal_year', 'https://en.wikipedia.org/wiki/Canon_of_Kings', 'https://en.wikipedia.org/wiki/Category:King_lists', 'https://en.wikipedia.org/wiki/Limmu', 'https://en.wikipedia.org/wiki/Regnal_year', 'https://en.wikipedia.org/wiki/Chinese_era_name', 'https://en.wikipedia.org/wiki/Japanese_era_name', 'https://en.wikipedia.org/wiki/Korean_era_name', 'https://en.wikipedia.org/wiki/Vietnamese_era_name', 'https://en.wikipedia.org/wiki/Calendar', 'https://en.wikipedia.org/wiki/Roman_calendar', 'https://en.wikipedia.org/wiki/Julian_calendar', 'https://en.wikipedia.org/wiki/Proleptic_Julian_calendar', 'https://en.wikipedia.org/wiki/Revised_Julian_calendar', 'https://en.wikipedia.org/wiki/Gregorian_calendar', 'https://en.wikipedia.org/wiki/Proleptic_Gregorian_calendar', 'https://en.wikipedia.org/wiki/Old_Style_and_New_Style_dates', 'https://en.wikipedia.org/wiki/Adoption_of_the_Gregorian_calendar', 'https://en.wikipedia.org/wiki/Dual_dating', 'https://en.wikipedia.org/wiki/Lunisolar_calendar', 'https://en.wikipedia.org/wiki/Solar_calendar', 'https://en.wikipedia.org/wiki/Lunar_calendar', 'https://en.wikipedia.org/wiki/Astronomical_year_numbering', 'https://en.wikipedia.org/wiki/Sexagenary_cycle', 'https://en.wikipedia.org/wiki/Geologic_Calendar', 'https://en.wikipedia.org/wiki/Hebrew_calendar', 'https://en.wikipedia.org/wiki/Iranian_calendars', 'https://en.wikipedia.org/wiki/Islamic_calendar', 'https://en.wikipedia.org/wiki/ISO_week_date', 'https://en.wikipedia.org/wiki/Mesoamerican_calendars', 'https://en.wikipedia.org/wiki/Maya_calendar', 'https://en.wikipedia.org/wiki/Aztec_calendar', 'https://en.wikipedia.org/wiki/Winter_count', 'https://en.wikipedia.org/wiki/New_Earth_Time', 'https://en.wikipedia.org/wiki/Astronomical_chronology', 'https://en.wikipedia.org/wiki/Cosmic_Calendar', 'https://en.wikipedia.org/wiki/Ephemeris', 'https://en.wikipedia.org/wiki/Galactic_year', 'https://en.wikipedia.org/wiki/Metonic_cycle', 'https://en.wikipedia.org/wiki/Milankovitch_cycles', 'https://en.wikipedia.org/wiki/Geologic_time_scale', 'https://en.wikipedia.org/wiki/Deep_time', 'https://en.wikipedia.org/wiki/Geological_history_of_Earth', 'https://en.wikipedia.org/wiki/Geologic_time_scale#Terminology', 'https://en.wikipedia.org/wiki/Global_Standard_Stratigraphic_Age', 'https://en.wikipedia.org/wiki/Global_Boundary_Stratotype_Section_and_Point', 'https://en.wikipedia.org/wiki/Chronostratigraphy', 'https://en.wikipedia.org/wiki/Geochronology', 'https://en.wikipedia.org/wiki/Isotope_geochemistry', 'https://en.wikipedia.org/wiki/Law_of_superposition', 'https://en.wikipedia.org/wiki/Luminescence_dating', 'https://en.wikipedia.org/wiki/Samarium%E2%80%93neodymium_dating', 'https://en.wikipedia.org/wiki/Chronological_dating', 'https://en.wikipedia.org/wiki/Absolute_dating', 'https://en.wikipedia.org/wiki/Amino_acid_dating', 'https://en.wikipedia.org/wiki/Archaeomagnetic_dating', 'https://en.wikipedia.org/wiki/Dendrochronology', 'https://en.wikipedia.org/wiki/Ice_core', 'https://en.wikipedia.org/wiki/Incremental_dating', 'https://en.wikipedia.org/wiki/Lichenometry', 'https://en.wikipedia.org/wiki/Paleomagnetism', 'https://en.wikipedia.org/wiki/Radiometric_dating', 'https://en.wikipedia.org/wiki/Radiocarbon_dating', 'https://en.wikipedia.org/wiki/Uranium%E2%80%93lead_dating', 'https://en.wikipedia.org/wiki/K%E2%80%93Ar_dating', 'https://en.wikipedia.org/wiki/Tephrochronology', 'https://en.wikipedia.org/wiki/Luminescence_dating', 'https://en.wikipedia.org/wiki/Thermoluminescence_dating', 'https://en.wikipedia.org/wiki/Relative_dating', 'https://en.wikipedia.org/wiki/Fluorine_absorption_dating', 'https://en.wikipedia.org/wiki/Nitrogen_dating', 'https://en.wikipedia.org/wiki/Obsidian_hydration_dating', 'https://en.wikipedia.org/wiki/Seriation_(archaeology)', 'https://en.wikipedia.org/wiki/Stratigraphy_(archaeology)', 'https://en.wikipedia.org/wiki/Molecular_cloc', 'https://en.wikipedia.org/wiki/Glottochronology', 'https://en.wikipedia.org/wiki/Chronicle', 'https://en.wikipedia.org/wiki/New_Chronology_(Fomenko)', 'https://en.wikipedia.org/wiki/Synchronoptic_vie', 'https://en.wikipedia.org/wiki/Timeline', 'https://en.wikipedia.org/wiki/Year_zero', 'https://en.wikipedia.org/wiki/Circa', 'https://en.wikipedia.org/wiki/Floruit', 'https://en.wikipedia.org/wiki/Terminus_post_quem', 'https://en.wikipedia.org/wiki/ASPRO_chronology', 'https://en.wikipedia.org/wiki/Phantom_time_hypothesis', 'https://en.wikipedia.org/wiki/File:C_Puzzle.png', 'https://en.wikipedia.org/wiki/Category:History', 'https://en.wikipedia.org/wiki/Category:Past', 'https://en.wikipedia.org/wiki/Category:History_by_ethnic_group', 'https://en.wikipedia.org/wiki/Category:History_by_location', 'https://en.wikipedia.org/wiki/Category:History_by_period', 'https://en.wikipedia.org/wiki/Category:History_by_topic', 'https://en.wikipedia.org/wiki/Category:History-related_lists', 'https://en.wikipedia.org/wiki/Category:Historical_timelines', 'https://en.wikipedia.org/wiki/Category:Outlines_of_history_and_events', 'https://en.wikipedia.org/wiki/Category:Chronology', 'https://en.wikipedia.org/wiki/Category:Historians', 'https://en.wikipedia.org/wiki/Category:Fields_of_history', 'https://en.wikipedia.org/wiki/Category:History_awards', 'https://en.wikipedia.org/wiki/Category:Historical_controversies', 'https://en.wikipedia.org/wiki/Category:History_in_culture', 'https://en.wikipedia.org/wiki/Category:History_education', 'https://en.wikipedia.org/wiki/Category:Historical_eras', 'https://en.wikipedia.org/wiki/Category:Historically_themed_events', 'https://en.wikipedia.org/wiki/Category:Historical_geography', 'https://en.wikipedia.org/wiki/Category:Geological_history_of_Earth', 'https://en.wikipedia.org/wiki/Category:Historicity', 'https://en.wikipedia.org/wiki/Category:Historiography', 'https://en.wikipedia.org/wiki/Category:Legacies', 'https://en.wikipedia.org/wiki/Category:Historical_objects', 'https://en.wikipedia.org/wiki/Category:Oral_history', 'https://en.wikipedia.org/wiki/Category:History_organizations', 'https://en.wikipedia.org/wiki/Category:Origins', 'https://en.wikipedia.org/wiki/Category:People_in_history_occupations', 'https://en.wikipedia.org/wiki/Category:Philosophy_of_history', 'https://en.wikipedia.org/wiki/Category:Historic_preservation', 'https://en.wikipedia.org/wiki/Category:Pseudohistory', 'https://en.wikipedia.org/wiki/Category:Theories_of_history', 'https://en.wikipedia.org/wiki/Category:Historic_volcanic_events', 'https://en.wikipedia.org/wiki/Category:Wikipedia_books_on_history', 'https://en.wikipedia.org/wiki/Category:History_images', 'https://en.wikipedia.org/wiki/Category:History_stubs', 'https://en.wikipedia.org/wiki/Category:History', 'https://en.wikipedia.org/wiki/Category:History_by_period', 'https://en.wikipedia.org/wiki/Category:History_by_region', 'https://en.wikipedia.org/wiki/Category:History_by_topic', 'https://en.wikipedia.org/wiki/Category:History_by_ethnic_group', 'https://en.wikipedia.org/wiki/Category:Historiography', 'https://en.wikipedia.org/wiki/Category:Archaeology', 'https://en.wikipedia.org/wiki/Category:History_books', 'https://en.wikipedia.org/wiki/Category:History_maps', 'https://en.wikipedia.org/wiki/Category:History_images', 'https://en.wikipedia.org/wiki/Category:History_magazines', 'https://en.wikipedia.org/wiki/Category:History_organizations', 'https://en.wikipedia.org/wiki/Category:Fictional_history', 'https://en.wikipedia.org/wiki/Category:History_museums', 'https://en.wikipedia.org/wiki/Category:Pseudohistory', 'https://en.wikipedia.org/wiki/Category:History_stubs', 'https://en.wikipedia.org/wiki/Category:Timelines', 'https://en.wikipedia.org/wiki/Category:Chronology', 'https://en.wikipedia.org/wiki/Category:People', 'https://en.wikipedia.org/wiki/Category:Wikipedian_historians', 'https://en.wikipedia.org/wiki/File:Group_people_icon.svg', 'https://en.wikipedia.org/wiki/Wikipedia:WikiProject_History', 'https://en.wikipedia.org/wiki/Wikipedia:WikiProject_Ancient_Near_East', 'https://en.wikipedia.org/wiki/Wikipedia:WikiProject_Australian_history', 'https://en.wikipedia.org/wiki/Wikipedia:WikiProject_Classical_Greece_and_Rome', 'https://en.wikipedia.org/wiki/Wikipedia:WikiProject_Dacia', 'https://en.wikipedia.org/wiki/Wikipedia:WikiProject_Former_countries', 'https://en.wikipedia.org/wiki/Wikipedia:WikiProject_History_of_Canada', 'https://en.wikipedia.org/wiki/Wikipedia:WikiProject_Chinese_history', 'https://en.wikipedia.org/wiki/Wikipedia:WikiProject_European_history', 'https://en.wikipedia.org/wiki/Wikipedia:WikiProject_Heraldry_and_vexillology', 'https://en.wikipedia.org/wiki/Wikipedia:WikiProject_Indian_history', 'https://en.wikipedia.org/wiki/Wikipedia:WikiProject_Jewish_history', 'https://en.wikipedia.org/wiki/Wikipedia:WikiProject_Medieval_Scotland', 'https://en.wikipedia.org/wiki/Wikipedia:WikiProject_Mesoamerica', 'https://en.wikipedia.org/wiki/Wikipedia:WikiProject_Military_history', 'https://en.wikipedia.org/wiki/Wikipedia:WikiProject_Middle_Ages', 'https://en.wikipedia.org/wiki/Wikipedia:WikiProject_History_of_Science', 'https://en.wikipedia.org/wiki/Wikipedia:WikiProject_Time', 'https://en.wikipedia.org/wiki/Wikipedia:WikiProject_Days_of_the_year', 'https://en.wikipedia.org/wiki/Wikipedia:WikiProject_Years', 'https://en.wikipedia.org/wiki/Wikipedia:WikiProject_Biography', 'https://en.wikipedia.org/wiki/Wikipedia:WikiProject_Composers', 'https://en.wikipedia.org/wiki/Wikipedia:WikiProject_Biography/Politics_and_government', 'https://en.wikipedia.org/wiki/Wikipedia:WikiProject_Saints', 'https://en.wikipedia.org/wiki/Wikipedia:WikiProject_United_States_Presidents', 'https://en.wikipedia.org/wiki/File:Clipboard.svg', 'https://en.wikipedia.org/wiki/Portal:History/Things_you_can_do', 'https://en.wikipedia.org/wiki/Wikipedia:Why_Aren%27t_These_Pages_Copy-edited', 'https://en.wikipedia.org/wiki/Hongwu_Emperor', 'https://en.wikipedia.org/wiki/Indian_independence_movement', 'https://en.wikipedia.org/wiki/Modern_history', 'https://en.wikipedia.org/wiki/Wikipedia:Pages_needing_attention/Social_Sciences_and_Philosophy#History', 'https://en.wikipedia.org/wiki/Wikify#wiki_markup', 'https://en.wikipedia.org/wiki/Wikipedia:Duplicate_articles', 'https://en.wikipedia.org/wiki/Wikipedia:Duplicate_articles#Articles_to_be_merged', 'https://en.wikipedia.org/wiki/Wikipedia:Requested_articles', 'https://en.wikipedia.org/wiki/Wikipedia:Requested_articles/Social_sciences/History', 'https://en.wikipedia.org/wiki/Wikipedia:Find_or_fix_a_stub', 'https://en.wikipedia.org/wiki/Panhellenic_Liberation_Movement', 'https://en.wikipedia.org/wiki/Category:History_stubs', 'https://en.wikipedia.org/wiki/Wikipedia:Requested_pictures', 'https://en.wikipedia.org/wiki/Category:Wikipedia_requested_photographs_of_history', 'https://en.wikipedia.org/wiki/Category:Wikipedian_historians', 'https://en.wikipedia.org/wiki/User_page', 'https://en.wikipedia.org/wiki/Wikimedia_Foundation', 'https://en.wikipedia.org/wiki/Portal:Contents/Portals#Human_activities', 'https://en.wikipedia.org/wiki/Portal:Contents/Portals#Culture_and_the_arts', 'https://en.wikipedia.org/wiki/Portal:Contents/Portals#Geography_and_places', 'https://en.wikipedia.org/wiki/Portal:Contents/Portals#Health_and_fitness', 'https://en.wikipedia.org/wiki/Portal:Contents/Portals#History_and_events', 'https://en.wikipedia.org/wiki/Portal:Contents/Portals#Mathematics_and_logic', 'https://en.wikipedia.org/wiki/Portal:Contents/Portals#Natural_and_physical_sciences', 'https://en.wikipedia.org/wiki/Portal:Contents/Portals#People_and_self', 'https://en.wikipedia.org/wiki/Portal:Contents/Portals#Philosophy_and_thinking', 'https://en.wikipedia.org/wiki/Portal:Contents/Portals#Religion_and_belief_systems', 'https://en.wikipedia.org/wiki/Portal:Contents/Portals#Society_and_social_sciences', 'https://en.wikipedia.org/wiki/Portal:Contents/Portals#Technology_and_applied_sciences', 'https://en.wikipedia.org/wiki/Special:RandomInCategory/All_portals', 'https://en.wikipedia.org/wiki/Wikipedia:Portal', 'https://en.wikipedia.org/wiki/Portal:Contents/Portals', 'https://en.wikipedia.org/wiki/Special:PrefixIndex/Portal:History', 'https://en.wikipedia.org/wiki/Help:Category', 'https://en.wikipedia.org/wiki/Category:All_portals', 'https://en.wikipedia.org/wiki/Category:History_portal', 'https://en.wikipedia.org/wiki/Category:History_portals', 'https://en.wikipedia.org/wiki/Category:History', 'https://en.wikipedia.org/wiki/Category:WikiProject_History', 'https://en.wikipedia.org/wiki/Category:Portals_with_triaged_subpages_from_June_2018', 'https://en.wikipedia.org/wiki/Category:All_portals_with_triaged_subpages', 'https://en.wikipedia.org/wiki/Category:Portals_with_no_named_maintainer', 'https://en.wikipedia.org/wiki/Category:Portals_with_short_description', 'https://en.wikipedia.org/wiki/Category:Wikipedia_semi-protected_portals', 'https://en.wikipedia.org/wiki/Category:Automated_article-slideshow_portals_with_over_1000_articles_in_article_list', 'https://en.wikipedia.org/wiki/Category:Random_portal_component_with_more_available_subpages_than_specified_max', 'https://en.wikipedia.org/wiki/Category:Random_portal_component_with_6%E2%80%9310_available_subpages', 'https://en.wikipedia.org/wiki/Category:Random_portal_component_with_21%E2%80%9325_available_subpages', 'https://en.wikipedia.org/wiki/Category:Past_featured_portals', 'https://en.wikipedia.org/wiki/Category:Redirect_targets_of_redirected_portals_with_existing_subpages', 'https://en.wikipedia.org/wiki/Special:MyTal', 'https://en.wikipedia.org/wiki/Special:MyContributions', 'https://en.wikipedia.org/wiki/Portal:History', 'https://en.wikipedia.org/wiki/Portal_talk:History', 'https://en.wikipedia.org/wiki/Portal:History', 'https://en.wikipedia.org/wiki/Main_Page', 'https://en.wikipedia.org/wiki/Main_Page', 'https://en.wikipedia.org/wiki/Wikipedia:Contents', 'https://en.wikipedia.org/wiki/Portal:Current_events', 'https://en.wikipedia.org/wiki/Special:Random', 'https://en.wikipedia.org/wiki/Wikipedia:About', 'https://en.wikipedia.org/wiki/Help:Contents', 'https://en.wikipedia.org/wiki/Help:Introduction', 'https://en.wikipedia.org/wiki/Wikipedia:Community_portal', 'https://en.wikipedia.org/wiki/Special:RecentChanges', 'https://en.wikipedia.org/wiki/Wikipedia:File_Upload_Wizard', 'https://en.wikipedia.org/wiki/Special:WhatLinksHere/Portal:History', 'https://en.wikipedia.org/wiki/Special:RecentChangesLinked/Portal:History', 'https://en.wikipedia.org/wiki/Wikipedia:File_Upload_Wizard', 'https://en.wikipedia.org/wiki/Special:SpecialPages', 'https://en.wikipedia.org/wiki/Wikipedia:About', 'https://en.wikipedia.org/wiki/Wikipedia:General_disclaimer']}\n"
     ]
    }
   ],
   "source": [
    "# 1.\n",
    "URL = 'https://en.wikipedia.org/wiki/Main_Page'\n",
    "request_wiki = requests.get(URL)\n",
    "html_wiki = request_wiki.text\n",
    "soup = BeautifulSoup(html_wiki, 'html.parser')\n",
    "# 2.\n",
    "base_url = 'https://en.wikipedia.org/wiki/'\n",
    "# 3.\n",
    "url_list = []\n",
    "all_links = soup.find_all('a', href=True)\n",
    "for item in all_links:\n",
    "    url = item.get('href')\n",
    "    url_list.append(url)\n",
    "# print(url_list)\n",
    "# 4.\n",
    "link_list_clean = []\n",
    "for item in url_list:\n",
    "    # print(type(item))\n",
    "    if item.startswith('/wiki'):\n",
    "        # print(item)\n",
    "        link_list_clean.append(base_url+item.strip('/wiki'))\n",
    "# print(link_list_clean)\n",
    "# 5.\n",
    "link_list_clean = link_list_clean[:10]\n",
    "# 6.\n",
    "new_link_list = []\n",
    "for link in link_list_clean:\n",
    "    rq = requests.get(link)\n",
    "    html0 = rq.text\n",
    "    sp = BeautifulSoup(html0, 'html.parser')\n",
    "    links = sp.find_all('a', href=True)\n",
    "    # print(links)\n",
    "    for item in links:\n",
    "        url = item.get('href')\n",
    "        # print(type(url))\n",
    "        if url.startswith('/wiki'):\n",
    "            new_link_list.append(base_url+url.strip('/wiki'))\n",
    "# 7.\n",
    "html_dict = {0: link_list_clean, 1: new_link_list}\n",
    "print(html_dict)"
   ]
  },
  {
   "cell_type": "markdown",
   "metadata": {},
   "source": [
    "## 4.1.2 Structure your code\n",
    "This is really exciting work. We have just scraped a website and recursively build up our data. Wikipedia links might not be the most interesting data source, but this excourse was supposed to illustrate how automatic data retrieval with Python will simplify your workflow by a lot (can you imagine copy/pasting all these links by yourself?).\n",
    "\n",
    "Let's structure our code from above in components. We will build a class structure along the lines of what we have explored yesterday."
   ]
  },
  {
   "cell_type": "markdown",
   "metadata": {},
   "source": [
    "<div class=\"alert alert-block alert-info\">\n",
    "<b>Exercise (0.5 Points)</b>: Work through the documented steps below and solve the assignment. Be careful for hints and specific instructions.\n",
    "</div> "
   ]
  },
  {
   "cell_type": "markdown",
   "metadata": {},
   "source": [
    "Define four classes 'SoupSetUp', 'DataPreprocessing', 'DataScraper', and ResultPreparation\n",
    "\n",
    "**Instructions for SoupSetUp**\n",
    "1. define the constructor with one parameter: url of type string, also create two class properties 'html' and 'soup', which are filled with None in the constructor\n",
    "2. define method 'build_soup' in which you use the url property of the class and create the html and the beautiful soup element and assign them to the class properties\n",
    "\n"
   ]
  },
  {
   "cell_type": "code",
   "execution_count": 53,
   "metadata": {},
   "outputs": [],
   "source": [
    "class SoupSetUp:\n",
    "    def __init__(self, url):\n",
    "        self.url = url\n",
    "        self.html = None\n",
    "        self.soup = None\n",
    "\n",
    "    def build_soup(self):\n",
    "        self.html = requests.get(self.url).text\n",
    "        self.soup = BeautifulSoup(self.html, 'html.parser')"
   ]
  },
  {
   "cell_type": "markdown",
   "metadata": {},
   "source": [
    "**Instructions for DataPreprocessing**\n",
    "1. define the constructor with one parameter: list_of_links and assign to a class property. Also define a class property 'clean_data_list', which is None\n",
    "2. define method 'clean_links' with one parameter: valid_start of type string in which you implement the cleaning process from above (only keep the links that start with the desired property - here 'valid_start') and assign the result to the 'clean_data_list' property.\n",
    "3. define method 'shorten_list' to subset result list with one parameter 'list_length' of type int to shorten a list and shorten the clean_data_list property to 'string_length'.\n",
    "\n"
   ]
  },
  {
   "cell_type": "code",
   "execution_count": 54,
   "metadata": {},
   "outputs": [],
   "source": [
    "class DataPreprocessing:\n",
    "    def __init__(self, list_of_links):\n",
    "        self.list_of_links = list_of_links\n",
    "        self.clean_data_list = None\n",
    "\n",
    "    def clean_links(self, valid_start: str):\n",
    "        self.clean_data_list = []\n",
    "        for item in self.list_of_links:\n",
    "            if item.startswith(valid_start):\n",
    "                self.clean_data_list.append(item)\n",
    "\n",
    "    def shorten_list(self, list_length: int):\n",
    "        string_length = self.clean_data_list[: list_length]\n",
    "    \n",
    "    "
   ]
  },
  {
   "cell_type": "markdown",
   "metadata": {},
   "source": [
    "**Instruction for DataScraper**\n",
    "1. define the constructor with one parameter: base_url of type string. Also set a class property of result_list to None\n",
    "2. define method 'scrape_element', with 3 parameters:\n",
    "        'tag_name' (string) to define which kind of tag we would like to scrape\n",
    "        'href' (boolean) which tells us if we would like to access the href property of the scraped elements\n",
    "        'soup_element': the Beautiful soup element that we would like to scrape"
   ]
  },
  {
   "cell_type": "code",
   "execution_count": 55,
   "metadata": {},
   "outputs": [],
   "source": [
    "class DataScraper:\n",
    "    def __init__(self, base_url: str):\n",
    "        self.base_url = base_url\n",
    "        self.result_list = None\n",
    "\n",
    "    def scrape_element(self, tag_name: str, href: bool, soup_element):\n",
    "        # retrieve all link elements from the main page and append the href portion to a result list\n",
    "        self.result_list = soup_element.find_all(tag_name)\n",
    "        if href:\n",
    "            return self.result_list"
   ]
  },
  {
   "cell_type": "markdown",
   "metadata": {},
   "source": [
    "**Instruction for ResultPreparation**\n",
    "1. define the constructor with one parameter: max_depth_level of type int and a result_dictionary property which we set to None\n",
    "2. define method populate_results with one parameter 'list_of_lists' which represents a list of the list of links which creates the desired dictionary from the scraped list of links. Remember here that if you want to iterate through the max_depth_level property that the range function does not include the last number, so range(2) might be the right level if you want to create a dictionary with level 0 and 1. Hint: max_depth_level + 1\n",
    "\n"
   ]
  },
  {
   "cell_type": "code",
   "execution_count": 56,
   "metadata": {},
   "outputs": [],
   "source": [
    "class ResultPreparation:\n",
    "    def __init__(self, max_depth_level):\n",
    "        self.max_depth_level = max_depth_level\n",
    "        self.result_dictionary = None\n",
    "\n",
    "    def populate_results(self, list_of_lists):\n",
    "        self.result_dictionary = {self.max_depth_level + 1: list_of_lists}"
   ]
  },
  {
   "cell_type": "markdown",
   "metadata": {},
   "source": [
    "We will leave it as a practice exercise to rerun the above scraping with the classes you have just defined. For such a small data pipeline, 4 classes might be an overkill, but projects become more complex as you go, so planning flexibly for potential add-ons down the road, might save you some headaches"
   ]
  },
  {
   "cell_type": "markdown",
   "metadata": {},
   "source": [
    "## 4.2 Working with a web API\n",
    "So far, we have dealt with the raw approach of finding information within the source code of a website. But some sites are set up to let you interact with them and offer their data to you. While most of these access points, or APIs, require some form of verification (see [Twilio](https://www.twilio.com/docs/usage/api) or [google-maps](https://cloud.google.com/maps-platform), for very exiting use-cases) the API we will work with does not require any of this set up.\n",
    "\n",
    "It is called [Datamuse](https://www.datamuse.com/api/) and offers interesting english language functionality. Please refer to their documentation if certain tasks are not clear - this step of reading the documentation on your own, for code that other people provided for you for you will be at least 50% of your work as a data scientist (which is one of the reasons why documenting your code is just as importing as writing it!)."
   ]
  },
  {
   "cell_type": "markdown",
   "metadata": {},
   "source": [
    "<div class=\"alert alert-block alert-info\">\n",
    "<b>Exercise (1.5 Points)</b>: Work through the documented steps below and solve the assignment. Be careful for hints and specific instructions.\n",
    "</div>"
   ]
  },
  {
   "cell_type": "markdown",
   "metadata": {},
   "source": [
    "According to their documentation, the URL tells us everything we need to know to make requests.\n",
    "Define the base_url portion that apparently never changes."
   ]
  },
  {
   "cell_type": "code",
   "execution_count": 65,
   "metadata": {},
   "outputs": [],
   "source": [
    "base_url = 'https://api.datamuse.com/words?'"
   ]
  },
  {
   "cell_type": "markdown",
   "metadata": {},
   "source": [
    "If we now want to find all words that are spelled like 'Python' we need to define the relative_portion of the URL including the search parameter and the word in question."
   ]
  },
  {
   "cell_type": "code",
   "execution_count": 58,
   "metadata": {},
   "outputs": [],
   "source": [
    "relative_portion = 'https://api.datamuse.com/words?sp=Python'"
   ]
  },
  {
   "cell_type": "markdown",
   "metadata": {},
   "source": [
    "Make a get request (like above) with the full URL.\n"
   ]
  },
  {
   "cell_type": "code",
   "execution_count": 59,
   "metadata": {},
   "outputs": [],
   "source": [
    "request_1 = requests.get(relative_portion)"
   ]
  },
  {
   "cell_type": "markdown",
   "metadata": {},
   "source": [
    "Print the data with the json() method of the request object."
   ]
  },
  {
   "cell_type": "code",
   "execution_count": 61,
   "metadata": {},
   "outputs": [
    {
     "output_type": "stream",
     "name": "stdout",
     "text": [
      "[{'word': 'python', 'score': 65397}, {'word': 'pithon', 'score': 27}, {'word': 'pytho', 'score': 5}, {'word': 'phython', 'score': 2}]\n"
     ]
    }
   ],
   "source": [
    "print(request_1.json())"
   ]
  },
  {
   "cell_type": "code",
   "execution_count": 62,
   "metadata": {},
   "outputs": [
    {
     "output_type": "stream",
     "name": "stdout",
     "text": [
      "[{'word': 'hound', 'score': 1349}]\n"
     ]
    }
   ],
   "source": [
    "# let's practice some more, make a request for all words that are more general than 'dog' and that rhyme with 'sound'\n",
    "url1 = 'https://api.datamuse.com/words?rel_gen=dog&rel_rhy=sound'\n",
    "\n",
    "# make a get-request (like above) with the full URL\n",
    "request_2 = requests.get(url1)\n",
    "\n",
    "# print the data with the json() method of the request object\n",
    "print(request_2.json())"
   ]
  },
  {
   "cell_type": "markdown",
   "metadata": {},
   "source": [
    "We will now build something semi-useful: a sentence translator to related meaning. We will build a simple app, where a user is prompted to enter a sentence, and where each word is replaced by the closest word in meaning according to the API.\n",
    "\n",
    "1. Like every software development project, let us start with a simple case and build ourselves up in complexity: we will use the example sentence 'today is a hot day' - assign this sentence to a variable\n",
    "\n",
    "\n",
    "2. Split the sentence into a list of words\n",
    "\n",
    "\n",
    "3. For every word run the API query to find the closest word (highest score, or if ordered first in list of values of result dictionary) in meaning and assign the result to a list - if the resulting list of words which are close in meaning is empty or if the score is below 50000, return the original word.    \n",
    "**Hint 1:** enumerate() is a helpful function to iterate over lists   \n",
    "**Hint 2:** if you expect that in some cases you might run into an error, such as 'if a file is present, open it', or here: if there is a list of words close in meaning , return the first, you can check this with a so-called try-except statement. Error handling itself is a big topic in programming, but you can read a nice introduction here: https://www.w3schools.com/python/python_try_except.asp.\n",
    "\n",
    "\n",
    "4. Print the new sentence from the list of new words as one string. Hint: https://www.programiz.com/python-programming/methods/string/join\n",
    "\n",
    "\n",
    "Maybe not be the most satisfying result, but it might lead to some giggles. More realistic use-cases are auto-completion in search bars, or synonym / antonym search engines that rely on similar technology"
   ]
  },
  {
   "cell_type": "code",
   "execution_count": 72,
   "metadata": {},
   "outputs": [
    {
     "output_type": "stream",
     "name": "stdout",
     "text": [
      "daylight is a hot day \n"
     ]
    }
   ],
   "source": [
    "# 1.\n",
    "sentence = \"today is a hot day\"\n",
    "# 2.\n",
    "words = sentence.split(' ')\n",
    "# 3.\n",
    "for word in words:\n",
    "    query_url = base_url + 'ml='+word\n",
    "    request_3 = requests.get(query_url)\n",
    "    r3_js = request_3.json()\n",
    "    if len(r3_js) == 0 or r3_js[0]['score'] < 50000:\n",
    "        pass\n",
    "    else:\n",
    "        words[i] = r3_js[0]['word']\n",
    "# 4.\n",
    "new_sentence = \"\"\n",
    "for item in words:\n",
    "    new_sentence += item\n",
    "    new_sentence += ' '\n",
    "print(new_sentence)\n"
   ]
  },
  {
   "cell_type": "markdown",
   "metadata": {},
   "source": [
    "Now that we have found the workflow, we can define a function to ask a user for a word (via an input call and a nice print statement) and print out the resulting adjacent sentence. Call the function find_neigbor_sentence(), add inline comments for the separete steps to document your logic and your code for the next programmer to understand what you were doing."
   ]
  },
  {
   "cell_type": "code",
   "execution_count": 73,
   "metadata": {},
   "outputs": [
    {
     "output_type": "stream",
     "name": "stdout",
     "text": [
      "I am glad \n"
     ]
    }
   ],
   "source": [
    "def find_neighbor_sentence():\n",
    "    st = input(\"please input a sentence: \")\n",
    "    word = st.split(' ')\n",
    "    base_url = 'https://api.datamuse.com/words?ml='\n",
    "    for i in range(len(word)):\n",
    "        get_json = requests.get(base_url + word[i]).json()\n",
    "        if len(get_json) == 0 or get_json[0]['score'] < 50000:\n",
    "            pass\n",
    "        else:\n",
    "            word[i] = get_json[0]['word']\n",
    "    new_sentence = \"\"\n",
    "    for item in word:\n",
    "        new_sentence += item\n",
    "        new_sentence += ' '\n",
    "    print(new_sentence)\n",
    "\n",
    "# play around with the function and have some fun\n",
    "find_neighbor_sentence()"
   ]
  },
  {
   "cell_type": "markdown",
   "metadata": {},
   "source": [
    "We have covered a lot of ground today. From scraping the web, over using a language detection API you have practiced working with real and dirty data, as well as strengthened your understanding of general data structures, code modularization and function definition. You are well on your way to become a well-versed data scientist!"
   ]
  }
 ],
 "metadata": {
  "kernelspec": {
   "display_name": "Python 3",
   "language": "python",
   "name": "python3"
  },
  "language_info": {
   "codemirror_mode": {
    "name": "ipython",
    "version": 3
   },
   "file_extension": ".py",
   "mimetype": "text/x-python",
   "name": "python",
   "nbconvert_exporter": "python",
   "pygments_lexer": "ipython3",
   "version": "3.7.0-final"
  }
 },
 "nbformat": 4,
 "nbformat_minor": 4
}